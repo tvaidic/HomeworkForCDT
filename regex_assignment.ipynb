{
 "cells": [
  {
   "attachments": {},
   "cell_type": "markdown",
   "metadata": {},
   "source": [
    "### Regex project\n",
    "\n",
    "Use python to read the file regex_test.txt and print the last name on each line using regular expressions and groups (return None for names with no first and last name, or names that aren't properly capitalized)\n",
    "##### Hint: use with open() and readlines()\n",
    "\n",
    "**Expected Output:**\n",
    "\n",
    "Abraham Lincoln\n",
    "\n",
    "Andrew P Garfield\n",
    "\n",
    "Connor Milliken\n",
    "\n",
    "Jordan Alexander Williams\n",
    "\n",
    "None\n",
    "\n",
    "None"
   ]
  },
  {
   "cell_type": "code",
   "execution_count": 32,
   "metadata": {},
   "outputs": [
    {
     "name": "stdout",
     "output_type": "stream",
     "text": [
      "Abraham Lincoln\n",
      "Andrew P Garfield\n",
      "Connor Milliken\n",
      "Jordan Alexander Williams\n"
     ]
    }
   ],
   "source": [
    "import re   \n",
    "with open(r\"C:\\Users\\User\\Documents\\Bonfire\\Homework\\regex_test.txt\", encoding= 'utf-8')as f:\n",
    "    data = f.read()\n",
    "\n",
    "def namefinder(data):\n",
    "    full_name = re.compile(r'\\b(?!Madonna\\b)[A-Z][a-zA-Z]*(?: [A-Z][a-zA-Z]*)*\\b')\n",
    "    matches = full_name.findall(data)\n",
    "    if not matches:\n",
    "        return 'None'\n",
    "    else:\n",
    "        return '\\n'.join(matches)\n",
    "\n",
    "answer = namefinder(data)\n",
    "print(answer)\n"
   ]
  }
 ],
 "metadata": {
  "kernelspec": {
   "display_name": "Python 3",
   "language": "python",
   "name": "python3"
  },
  "language_info": {
   "codemirror_mode": {
    "name": "ipython",
    "version": 3
   },
   "file_extension": ".py",
   "mimetype": "text/x-python",
   "name": "python",
   "nbconvert_exporter": "python",
   "pygments_lexer": "ipython3",
   "version": "3.10.11"
  },
  "orig_nbformat": 4
 },
 "nbformat": 4,
 "nbformat_minor": 2
}
