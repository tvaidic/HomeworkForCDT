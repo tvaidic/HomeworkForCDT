{
 "cells": [
  {
   "attachments": {},
   "cell_type": "markdown",
   "metadata": {},
   "source": [
    "# Coding Temple's Data Analytics Program\n",
    "---\n",
    "## Python 1 Assignment 3\n",
    "---"
   ]
  },
  {
   "attachments": {},
   "cell_type": "markdown",
   "metadata": {},
   "source": [
    "### **Task 1: Build a Shopping Cart**\n",
    "**You can use either lists or dictionaries. The program should have the following capabilites:**\n",
    "* Takes a string as an input\n",
    "* Stores user input in a dictionary or list\n",
    "* Users should be able to:\n",
    "    * Add Items\n",
    "    * Delete Items\n",
    "    * See current shopping cart\n",
    "* The program should loop until user 'quits'\n",
    "* Upon quitting the program, print out all items in the user's list"
   ]
  },
  {
   "cell_type": "code",
   "execution_count": 7,
   "metadata": {},
   "outputs": [
    {
     "name": "stdout",
     "output_type": "stream",
     "text": [
      "cart cleared\n",
      "{}\n",
      "{}\n",
      "please enter show, add, delete, clear, or quit\n",
      "{}\n"
     ]
    }
   ],
   "source": [
    "from IPython.display import clear_output\n",
    "\n",
    "# Ask the user 5 bits of input: Do you want to : Show/Add/Delete/clear or Quit?\n",
    "# YOUR CODE HERE\n",
    "def go_shopping():\n",
    "    cart = {}\n",
    "    while True:\n",
    "        \n",
    "        ask = input('Do you want to : Show/Add/Delete/Clear or Quit')\n",
    "        if ask.lower() == 'show':\n",
    "            print(cart)\n",
    "        elif ask.lower() == 'add':\n",
    "            item = input('what would you like to add?')\n",
    "            quantity = int(input(f'what ammount of {item} would you like?'))\n",
    "            cart[item] = cart.get(item, 0) + quantity\n",
    "        elif ask.lower() == 'delete':\n",
    "            item = input('what would you like to remove from cart?:   ')\n",
    "            if item in cart :\n",
    "                del cart[item]\n",
    "        elif ask.lower() == 'clear':\n",
    "            cart={}\n",
    "            print ('cart cleared')\n",
    "        elif ask.lower() == 'quit':\n",
    "            break\n",
    "        else:\n",
    "            print('please enter show, add, delete, clear, or quit')\n",
    "    print(cart)\n",
    "\n",
    "\n",
    "\n",
    "go_shopping()\n"
   ]
  },
  {
   "attachments": {},
   "cell_type": "markdown",
   "metadata": {},
   "source": [
    "### **Task 2: Create a Module and Import it**\n",
    "Create a Module in VS Code and import it into a Notebook. Use each of the functions you build in your module\n",
    "\n",
    "**Your module should have the following capabilities:**\n",
    "* Has a function to calculate the square footage of a house\n",
    "* Has a function to calculate the circumference of a circle\n",
    "* Has a function to change feet to inches"
   ]
  },
  {
   "cell_type": "code",
   "execution_count": 12,
   "metadata": {},
   "outputs": [
    {
     "name": "stdout",
     "output_type": "stream",
     "text": [
      "25\n",
      "84\n",
      "58.433623356770156\n"
     ]
    }
   ],
   "source": [
    "import sizingmod as sm\n",
    "print(sm.square_footage(5,5))\n",
    "print(sm.ft_to_in(7))\n",
    "print(sm.calculate_circumfrance(9.3))"
   ]
  },
  {
   "attachments": {},
   "cell_type": "markdown",
   "metadata": {},
   "source": [
    "### **Task 3.1: Lists**\n",
    "Create 4 lists. Two of these lists should be keys, two of these lists should be values"
   ]
  },
  {
   "cell_type": "code",
   "execution_count": 14,
   "metadata": {},
   "outputs": [],
   "source": [
    "keys_1 = ['dog','cat','bird','fish']\n",
    "keys_2 = ['alpha','gamma','theta','kappa']\n",
    "values_1 = ['wolf','lion','eagle','shark']\n",
    "values_2 = [1,2,3,4]"
   ]
  },
  {
   "attachments": {},
   "cell_type": "markdown",
   "metadata": {},
   "source": [
    "### **Task 3.2: Create a function that converts two lists into a dictionary, then merges two dictionaries into one.**\n",
    "\n",
    "Using your 4 lists, create a function which combines the keys lists with the values lists into a dictionary, then merges and returns the two dictionaries together."
   ]
  },
  {
   "cell_type": "code",
   "execution_count": 16,
   "metadata": {},
   "outputs": [
    {
     "data": {
      "text/plain": [
       "{'dog': 'wolf',\n",
       " 'cat': 'lion',\n",
       " 'bird': 'eagle',\n",
       " 'fish': 'shark',\n",
       " 'alpha': 1,\n",
       " 'gamma': 2,\n",
       " 'theta': 3,\n",
       " 'kappa': 4}"
      ]
     },
     "execution_count": 16,
     "metadata": {},
     "output_type": "execute_result"
    }
   ],
   "source": [
    "def merge_dictionaries(list1: list, list2: list, list3: list, list4: list):\n",
    "    d1 = dict(zip(list1, list2))\n",
    "    d2 = dict(zip(list3, list4))\n",
    "    merged_dictionary = {**d1,**d2}\n",
    "    return merged_dictionary\n",
    "merge_dictionaries(keys_1,values_1,keys_2,values_2)"
   ]
  },
  {
   "cell_type": "code",
   "execution_count": null,
   "metadata": {},
   "outputs": [],
   "source": []
  }
 ],
 "metadata": {
  "kernelspec": {
   "display_name": "Python 3",
   "language": "python",
   "name": "python3"
  },
  "language_info": {
   "codemirror_mode": {
    "name": "ipython",
    "version": 3
   },
   "file_extension": ".py",
   "mimetype": "text/x-python",
   "name": "python",
   "nbconvert_exporter": "python",
   "pygments_lexer": "ipython3",
   "version": "3.10.11"
  },
  "orig_nbformat": 4,
  "vscode": {
   "interpreter": {
    "hash": "26de051ba29f2982a8de78e945f0abaf191376122a1563185a90213a26c5da77"
   }
  }
 },
 "nbformat": 4,
 "nbformat_minor": 2
}
