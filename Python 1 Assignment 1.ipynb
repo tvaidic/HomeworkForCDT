{
 "cells": [
  {
   "attachments": {},
   "cell_type": "markdown",
   "metadata": {},
   "source": [
    "# Coding Temple's Data Analytics Program\n",
    "---\n",
    "## Python 1: Assignment 1\n",
    "---"
   ]
  },
  {
   "attachments": {},
   "cell_type": "markdown",
   "metadata": {},
   "source": [
    "### Task 1: Cube Number Test\n",
    "Print out all cubed numbers, up to the total value of 1000. If the cubed number is over 1000, break the loop.\n",
    "\n",
    "Save all numbers to a list named `cube`"
   ]
  },
  {
   "cell_type": "code",
   "execution_count": 29,
   "metadata": {},
   "outputs": [
    {
     "name": "stdout",
     "output_type": "stream",
     "text": [
      "[1, 8, 27, 64, 125, 216, 343, 512, 729, 1000]\n"
     ]
    }
   ],
   "source": [
    "cube = []\n",
    "# YOUR CODE HERE\n",
    "cube = [num ** 3 for num in range(1,1000) if num ** 3 <= 1000]\n",
    "print(cube)"
   ]
  },
  {
   "attachments": {},
   "cell_type": "markdown",
   "metadata": {},
   "source": [
    "### Task 1 Testing\n",
    "This cell is to test your answer in task 1"
   ]
  },
  {
   "cell_type": "code",
   "execution_count": 30,
   "metadata": {},
   "outputs": [],
   "source": [
    "# DO NOT EDIT THIS CELL!!\n",
    "assert len(cube) == 10, 'Double-check your calculations! There should be 9 numbers in this list!'\n",
    "assert cube[-1] == 1000, f\"Your final value should be 1000 and you have {cube[-1]}\""
   ]
  },
  {
   "attachments": {},
   "cell_type": "markdown",
   "metadata": {},
   "source": [
    "### Task 2: Prime Numbers\n",
    "\n",
    "Get all prime numbers up to 100. Add these values to a list named `prime`"
   ]
  },
  {
   "cell_type": "code",
   "execution_count": 33,
   "metadata": {
    "tags": []
   },
   "outputs": [
    {
     "name": "stdout",
     "output_type": "stream",
     "text": [
      "[2, 3, 5, 7, 11, 13, 17, 19, 23, 29, 31, 37, 41, 43, 47, 53, 59, 61, 67, 71, 73, 79, 83, 89, 97]\n"
     ]
    }
   ],
   "source": [
    "prime = []\n",
    "# HINT: Nested loops will help you here\n",
    "#YOUR CODE HERE\n",
    "for num in range(2,101):\n",
    "    prime_num = True\n",
    "    for x in range(2, int(num ** .5) + 1):\n",
    "        if num % x == 0:\n",
    "            prime_num = False\n",
    "    if prime_num:\n",
    "        prime.append(num)\n",
    "print(prime)\n"
   ]
  },
  {
   "attachments": {},
   "cell_type": "markdown",
   "metadata": {},
   "source": [
    "### Task 2 Testing\n",
    "This cell is to test your answers in task 2"
   ]
  },
  {
   "cell_type": "code",
   "execution_count": 34,
   "metadata": {},
   "outputs": [],
   "source": [
    "# DO NOT EDIT THIS CELL!!\n",
    "assert len(prime) == 25, 'Make sure you have all the prime numbers from 0-100 in the list \"prime\"'\n",
    "assert prime[-1] == 97, f'Your list should end with the number 97. Yours currently ends at {prime[-1]}'"
   ]
  },
  {
   "attachments": {},
   "cell_type": "markdown",
   "metadata": {},
   "source": [
    "### Task 3: User Inputs\n",
    "Take an input from a user for their age and convert it into an integer type. Save this to a variable to the name age. If the user is younger than 18, print `kids`, if they are 18-65, print `adults`, else, print `seniors`."
   ]
  },
  {
   "cell_type": "code",
   "execution_count": 37,
   "metadata": {},
   "outputs": [
    {
     "name": "stdout",
     "output_type": "stream",
     "text": [
      "adults\n"
     ]
    }
   ],
   "source": [
    "age = int(input(\"How old are you?\"))\n",
    "if age < 18:\n",
    "    print('kids')\n",
    "elif age <= 65:\n",
    "    print('adults')\n",
    "else:\n",
    "    print('seniors')"
   ]
  },
  {
   "attachments": {},
   "cell_type": "markdown",
   "metadata": {},
   "source": [
    "### Task 3 Testing\n",
    "This cell is to test your answers in task 2"
   ]
  },
  {
   "cell_type": "code",
   "execution_count": 38,
   "metadata": {},
   "outputs": [],
   "source": [
    "# DO NOT EDIT THIS CELL!!\n",
    "assert type(age) == int, 'Make sure you saved the age input as an integer!'"
   ]
  }
 ],
 "metadata": {
  "kernelspec": {
   "display_name": "Python 3",
   "language": "python",
   "name": "python3"
  },
  "language_info": {
   "codemirror_mode": {
    "name": "ipython",
    "version": 3
   },
   "file_extension": ".py",
   "mimetype": "text/x-python",
   "name": "python",
   "nbconvert_exporter": "python",
   "pygments_lexer": "ipython3",
   "version": "3.10.11"
  },
  "orig_nbformat": 4,
  "vscode": {
   "interpreter": {
    "hash": "26de051ba29f2982a8de78e945f0abaf191376122a1563185a90213a26c5da77"
   }
  }
 },
 "nbformat": 4,
 "nbformat_minor": 2
}
