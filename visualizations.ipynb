{
 "cells": [
  {
   "attachments": {},
   "cell_type": "markdown",
   "metadata": {},
   "source": [
    "# **Coding Temple's Data Analytics Program**\n",
    "---\n",
    "## **Adv Python 2: Data Visualizations Assignment**\n",
    "\n",
    "## **Part 1:**"
   ]
  },
  {
   "attachments": {},
   "cell_type": "markdown",
   "metadata": {},
   "source": [
    "### Getting Started\n",
    "For today's assignment, you will work with a dataset all about Kickstarter Funding.To download the data, click [here](https://www.kaggle.com/datasets/patkle/most-funded-kickstarter-projects)."
   ]
  },
  {
   "attachments": {},
   "cell_type": "markdown",
   "metadata": {},
   "source": [
    "### Task 1: Imports\n",
    "For this assignment, you will need to import pandas and matplotlib. Alias them according to the common naming conventions for both!"
   ]
  },
  {
   "cell_type": "code",
   "execution_count": 2,
   "metadata": {},
   "outputs": [],
   "source": [
    "import pandas as pd\n",
    "import matplotlib.pyplot as plt\n"
   ]
  },
  {
   "attachments": {},
   "cell_type": "markdown",
   "metadata": {},
   "source": [
    "### Task 2: Load the data\n",
    "Using pandas, load the data into a dataframe object and view the first 20 rows"
   ]
  },
  {
   "cell_type": "code",
   "execution_count": 3,
   "metadata": {},
   "outputs": [
    {
     "data": {
      "text/html": [
       "<div>\n",
       "<style scoped>\n",
       "    .dataframe tbody tr th:only-of-type {\n",
       "        vertical-align: middle;\n",
       "    }\n",
       "\n",
       "    .dataframe tbody tr th {\n",
       "        vertical-align: top;\n",
       "    }\n",
       "\n",
       "    .dataframe thead th {\n",
       "        text-align: right;\n",
       "    }\n",
       "</style>\n",
       "<table border=\"1\" class=\"dataframe\">\n",
       "  <thead>\n",
       "    <tr style=\"text-align: right;\">\n",
       "      <th></th>\n",
       "      <th>id</th>\n",
       "      <th>backers_count</th>\n",
       "      <th>blurb</th>\n",
       "      <th>category_id</th>\n",
       "      <th>category_name</th>\n",
       "      <th>category_parent_id</th>\n",
       "      <th>category_parent_name</th>\n",
       "      <th>category_url</th>\n",
       "      <th>converted_pledged_amount</th>\n",
       "      <th>country</th>\n",
       "      <th>...</th>\n",
       "      <th>profile_state_changed_at</th>\n",
       "      <th>project_url</th>\n",
       "      <th>spotlight</th>\n",
       "      <th>staff_pick</th>\n",
       "      <th>state</th>\n",
       "      <th>state_changed_at</th>\n",
       "      <th>static_usd_rate</th>\n",
       "      <th>usd_exchange_rate</th>\n",
       "      <th>usd_pledged</th>\n",
       "      <th>usd_type</th>\n",
       "    </tr>\n",
       "  </thead>\n",
       "  <tbody>\n",
       "    <tr>\n",
       "      <th>0</th>\n",
       "      <td>1497949659</td>\n",
       "      <td>185341</td>\n",
       "      <td>A Year of Sanderson: Enjoy books and swag boxe...</td>\n",
       "      <td>47</td>\n",
       "      <td>Fiction</td>\n",
       "      <td>18.0</td>\n",
       "      <td>Publishing</td>\n",
       "      <td>http://www.kickstarter.com/discover/categories...</td>\n",
       "      <td>41754153</td>\n",
       "      <td>US</td>\n",
       "      <td>...</td>\n",
       "      <td>1648767693</td>\n",
       "      <td>https://www.kickstarter.com/projects/dragonste...</td>\n",
       "      <td>True</td>\n",
       "      <td>True</td>\n",
       "      <td>successful</td>\n",
       "      <td>1648767600</td>\n",
       "      <td>1.000000</td>\n",
       "      <td>1.00000</td>\n",
       "      <td>4.175415e+07</td>\n",
       "      <td>domestic</td>\n",
       "    </tr>\n",
       "    <tr>\n",
       "      <th>1</th>\n",
       "      <td>1799979574</td>\n",
       "      <td>78471</td>\n",
       "      <td>Color e-paper smartwatch with up to 7 days of ...</td>\n",
       "      <td>28</td>\n",
       "      <td>Product Design</td>\n",
       "      <td>7.0</td>\n",
       "      <td>Design</td>\n",
       "      <td>http://www.kickstarter.com/discover/categories...</td>\n",
       "      <td>20338986</td>\n",
       "      <td>US</td>\n",
       "      <td>...</td>\n",
       "      <td>1427589733</td>\n",
       "      <td>https://www.kickstarter.com/projects/getpebble...</td>\n",
       "      <td>True</td>\n",
       "      <td>True</td>\n",
       "      <td>successful</td>\n",
       "      <td>1427508015</td>\n",
       "      <td>1.000000</td>\n",
       "      <td>1.00000</td>\n",
       "      <td>2.033899e+07</td>\n",
       "      <td>domestic</td>\n",
       "    </tr>\n",
       "    <tr>\n",
       "      <th>2</th>\n",
       "      <td>342886736</td>\n",
       "      <td>62642</td>\n",
       "      <td>The COOLEST is a portable party disguised as a...</td>\n",
       "      <td>28</td>\n",
       "      <td>Product Design</td>\n",
       "      <td>7.0</td>\n",
       "      <td>Design</td>\n",
       "      <td>http://www.kickstarter.com/discover/categories...</td>\n",
       "      <td>13285226</td>\n",
       "      <td>US</td>\n",
       "      <td>...</td>\n",
       "      <td>1428100634</td>\n",
       "      <td>https://www.kickstarter.com/projects/ryangrepp...</td>\n",
       "      <td>True</td>\n",
       "      <td>True</td>\n",
       "      <td>successful</td>\n",
       "      <td>1409360410</td>\n",
       "      <td>1.000000</td>\n",
       "      <td>1.00000</td>\n",
       "      <td>1.328523e+07</td>\n",
       "      <td>domestic</td>\n",
       "    </tr>\n",
       "    <tr>\n",
       "      <th>3</th>\n",
       "      <td>374744378</td>\n",
       "      <td>83193</td>\n",
       "      <td>Euro-inspired dungeon crawling sequel to the 2...</td>\n",
       "      <td>34</td>\n",
       "      <td>Tabletop Games</td>\n",
       "      <td>12.0</td>\n",
       "      <td>Games</td>\n",
       "      <td>http://www.kickstarter.com/discover/categories...</td>\n",
       "      <td>12969608</td>\n",
       "      <td>US</td>\n",
       "      <td>...</td>\n",
       "      <td>1588367201</td>\n",
       "      <td>https://www.kickstarter.com/projects/frosthave...</td>\n",
       "      <td>True</td>\n",
       "      <td>True</td>\n",
       "      <td>successful</td>\n",
       "      <td>1588366800</td>\n",
       "      <td>1.000000</td>\n",
       "      <td>1.00000</td>\n",
       "      <td>1.296961e+07</td>\n",
       "      <td>domestic</td>\n",
       "    </tr>\n",
       "    <tr>\n",
       "      <th>4</th>\n",
       "      <td>2103598555</td>\n",
       "      <td>66673</td>\n",
       "      <td>Two affordable, heart rate-enabled smartwatche...</td>\n",
       "      <td>28</td>\n",
       "      <td>Product Design</td>\n",
       "      <td>7.0</td>\n",
       "      <td>Design</td>\n",
       "      <td>http://www.kickstarter.com/discover/categories...</td>\n",
       "      <td>12779843</td>\n",
       "      <td>US</td>\n",
       "      <td>...</td>\n",
       "      <td>1467273864</td>\n",
       "      <td>https://www.kickstarter.com/projects/getpebble...</td>\n",
       "      <td>True</td>\n",
       "      <td>True</td>\n",
       "      <td>successful</td>\n",
       "      <td>1467262800</td>\n",
       "      <td>1.000000</td>\n",
       "      <td>1.00000</td>\n",
       "      <td>1.277984e+07</td>\n",
       "      <td>domestic</td>\n",
       "    </tr>\n",
       "    <tr>\n",
       "      <th>5</th>\n",
       "      <td>545070200</td>\n",
       "      <td>19264</td>\n",
       "      <td>A cooperative nightmare horror game experience...</td>\n",
       "      <td>34</td>\n",
       "      <td>Tabletop Games</td>\n",
       "      <td>12.0</td>\n",
       "      <td>Games</td>\n",
       "      <td>http://www.kickstarter.com/discover/categories...</td>\n",
       "      <td>12393139</td>\n",
       "      <td>US</td>\n",
       "      <td>...</td>\n",
       "      <td>1483997388</td>\n",
       "      <td>https://www.kickstarter.com/projects/poots/kin...</td>\n",
       "      <td>True</td>\n",
       "      <td>True</td>\n",
       "      <td>successful</td>\n",
       "      <td>1483830003</td>\n",
       "      <td>1.000000</td>\n",
       "      <td>1.00000</td>\n",
       "      <td>1.239314e+07</td>\n",
       "      <td>domestic</td>\n",
       "    </tr>\n",
       "    <tr>\n",
       "      <th>6</th>\n",
       "      <td>1198848775</td>\n",
       "      <td>3199</td>\n",
       "      <td>Expandable capacity (3.6-25kWh) | Power almost...</td>\n",
       "      <td>52</td>\n",
       "      <td>Hardware</td>\n",
       "      <td>16.0</td>\n",
       "      <td>Technology</td>\n",
       "      <td>http://www.kickstarter.com/discover/categories...</td>\n",
       "      <td>12179651</td>\n",
       "      <td>US</td>\n",
       "      <td>...</td>\n",
       "      <td>1625053977</td>\n",
       "      <td>https://www.kickstarter.com/projects/ecoflow/e...</td>\n",
       "      <td>True</td>\n",
       "      <td>True</td>\n",
       "      <td>successful</td>\n",
       "      <td>1631540391</td>\n",
       "      <td>1.000000</td>\n",
       "      <td>1.00000</td>\n",
       "      <td>1.217965e+07</td>\n",
       "      <td>domestic</td>\n",
       "    </tr>\n",
       "    <tr>\n",
       "      <th>7</th>\n",
       "      <td>1289129165</td>\n",
       "      <td>27168</td>\n",
       "      <td>A full-featured tripod in a truly portable form.</td>\n",
       "      <td>28</td>\n",
       "      <td>Product Design</td>\n",
       "      <td>7.0</td>\n",
       "      <td>Design</td>\n",
       "      <td>http://www.kickstarter.com/discover/categories...</td>\n",
       "      <td>12143435</td>\n",
       "      <td>US</td>\n",
       "      <td>...</td>\n",
       "      <td>1563558922</td>\n",
       "      <td>https://www.kickstarter.com/projects/peak-desi...</td>\n",
       "      <td>True</td>\n",
       "      <td>True</td>\n",
       "      <td>successful</td>\n",
       "      <td>1563494400</td>\n",
       "      <td>1.000000</td>\n",
       "      <td>1.00000</td>\n",
       "      <td>1.214344e+07</td>\n",
       "      <td>domestic</td>\n",
       "    </tr>\n",
       "    <tr>\n",
       "      <th>8</th>\n",
       "      <td>597041739</td>\n",
       "      <td>88887</td>\n",
       "      <td>Critical Role's The Legend of Vox Machina reun...</td>\n",
       "      <td>29</td>\n",
       "      <td>Animation</td>\n",
       "      <td>11.0</td>\n",
       "      <td>Film &amp; Video</td>\n",
       "      <td>http://www.kickstarter.com/discover/categories...</td>\n",
       "      <td>11385449</td>\n",
       "      <td>US</td>\n",
       "      <td>...</td>\n",
       "      <td>1549660952</td>\n",
       "      <td>https://www.kickstarter.com/projects/criticalr...</td>\n",
       "      <td>True</td>\n",
       "      <td>True</td>\n",
       "      <td>successful</td>\n",
       "      <td>1555657140</td>\n",
       "      <td>1.000000</td>\n",
       "      <td>1.00000</td>\n",
       "      <td>1.138545e+07</td>\n",
       "      <td>domestic</td>\n",
       "    </tr>\n",
       "    <tr>\n",
       "      <th>9</th>\n",
       "      <td>506924864</td>\n",
       "      <td>68929</td>\n",
       "      <td>Pebble is a customizable watch. Download new w...</td>\n",
       "      <td>28</td>\n",
       "      <td>Product Design</td>\n",
       "      <td>7.0</td>\n",
       "      <td>Design</td>\n",
       "      <td>http://www.kickstarter.com/discover/categories...</td>\n",
       "      <td>10266845</td>\n",
       "      <td>US</td>\n",
       "      <td>...</td>\n",
       "      <td>1455690795</td>\n",
       "      <td>https://www.kickstarter.com/projects/getpebble...</td>\n",
       "      <td>True</td>\n",
       "      <td>True</td>\n",
       "      <td>successful</td>\n",
       "      <td>1337396419</td>\n",
       "      <td>1.000000</td>\n",
       "      <td>1.00000</td>\n",
       "      <td>1.026685e+07</td>\n",
       "      <td>domestic</td>\n",
       "    </tr>\n",
       "    <tr>\n",
       "      <th>10</th>\n",
       "      <td>1010797520</td>\n",
       "      <td>81567</td>\n",
       "      <td>An officially licensed tabletop roleplaying ga...</td>\n",
       "      <td>34</td>\n",
       "      <td>Tabletop Games</td>\n",
       "      <td>12.0</td>\n",
       "      <td>Games</td>\n",
       "      <td>http://www.kickstarter.com/discover/categories...</td>\n",
       "      <td>9535317</td>\n",
       "      <td>US</td>\n",
       "      <td>...</td>\n",
       "      <td>1630626583</td>\n",
       "      <td>https://www.kickstarter.com/projects/magpiegam...</td>\n",
       "      <td>True</td>\n",
       "      <td>True</td>\n",
       "      <td>successful</td>\n",
       "      <td>1630625400</td>\n",
       "      <td>1.000000</td>\n",
       "      <td>1.00000</td>\n",
       "      <td>9.535317e+06</td>\n",
       "      <td>domestic</td>\n",
       "    </tr>\n",
       "    <tr>\n",
       "      <th>11</th>\n",
       "      <td>565687737</td>\n",
       "      <td>44949</td>\n",
       "      <td>TRAVEL JACKET with built-in Neck Pillow, Eye M...</td>\n",
       "      <td>28</td>\n",
       "      <td>Product Design</td>\n",
       "      <td>7.0</td>\n",
       "      <td>Design</td>\n",
       "      <td>http://www.kickstarter.com/discover/categories...</td>\n",
       "      <td>9192055</td>\n",
       "      <td>US</td>\n",
       "      <td>...</td>\n",
       "      <td>1441299790</td>\n",
       "      <td>https://www.kickstarter.com/projects/baubax/th...</td>\n",
       "      <td>True</td>\n",
       "      <td>False</td>\n",
       "      <td>successful</td>\n",
       "      <td>1441299615</td>\n",
       "      <td>1.000000</td>\n",
       "      <td>1.00000</td>\n",
       "      <td>9.192056e+06</td>\n",
       "      <td>domestic</td>\n",
       "    </tr>\n",
       "    <tr>\n",
       "      <th>12</th>\n",
       "      <td>865220570</td>\n",
       "      <td>28974</td>\n",
       "      <td>The hunger takes hold after the Marvel Univers...</td>\n",
       "      <td>34</td>\n",
       "      <td>Tabletop Games</td>\n",
       "      <td>12.0</td>\n",
       "      <td>Games</td>\n",
       "      <td>http://www.kickstarter.com/discover/categories...</td>\n",
       "      <td>9032583</td>\n",
       "      <td>US</td>\n",
       "      <td>...</td>\n",
       "      <td>1643940081</td>\n",
       "      <td>https://www.kickstarter.com/projects/cmon/marv...</td>\n",
       "      <td>True</td>\n",
       "      <td>True</td>\n",
       "      <td>successful</td>\n",
       "      <td>1643940000</td>\n",
       "      <td>1.000000</td>\n",
       "      <td>1.00000</td>\n",
       "      <td>9.032583e+06</td>\n",
       "      <td>domestic</td>\n",
       "    </tr>\n",
       "    <tr>\n",
       "      <th>13</th>\n",
       "      <td>1738059832</td>\n",
       "      <td>11313</td>\n",
       "      <td>Print Time Cut by 70% | Smooth 0.1 mm Detail |...</td>\n",
       "      <td>331</td>\n",
       "      <td>3D Printing</td>\n",
       "      <td>16.0</td>\n",
       "      <td>Technology</td>\n",
       "      <td>http://www.kickstarter.com/discover/categories...</td>\n",
       "      <td>8881095</td>\n",
       "      <td>US</td>\n",
       "      <td>...</td>\n",
       "      <td>1653292818</td>\n",
       "      <td>https://www.kickstarter.com/projects/ankermake...</td>\n",
       "      <td>True</td>\n",
       "      <td>False</td>\n",
       "      <td>successful</td>\n",
       "      <td>1653141551</td>\n",
       "      <td>1.000000</td>\n",
       "      <td>1.00000</td>\n",
       "      <td>8.881095e+06</td>\n",
       "      <td>domestic</td>\n",
       "    </tr>\n",
       "    <tr>\n",
       "      <th>14</th>\n",
       "      <td>645343012</td>\n",
       "      <td>7713</td>\n",
       "      <td>A revolutionary table that evolves over a life...</td>\n",
       "      <td>34</td>\n",
       "      <td>Tabletop Games</td>\n",
       "      <td>12.0</td>\n",
       "      <td>Games</td>\n",
       "      <td>http://www.kickstarter.com/discover/categories...</td>\n",
       "      <td>8808136</td>\n",
       "      <td>US</td>\n",
       "      <td>...</td>\n",
       "      <td>1602350085</td>\n",
       "      <td>https://www.kickstarter.com/projects/wyrmwood/...</td>\n",
       "      <td>True</td>\n",
       "      <td>True</td>\n",
       "      <td>successful</td>\n",
       "      <td>1602302340</td>\n",
       "      <td>1.000000</td>\n",
       "      <td>1.00000</td>\n",
       "      <td>8.808136e+06</td>\n",
       "      <td>domestic</td>\n",
       "    </tr>\n",
       "    <tr>\n",
       "      <th>15</th>\n",
       "      <td>1955357092</td>\n",
       "      <td>219382</td>\n",
       "      <td>This is a card game for people who are into ki...</td>\n",
       "      <td>34</td>\n",
       "      <td>Tabletop Games</td>\n",
       "      <td>12.0</td>\n",
       "      <td>Games</td>\n",
       "      <td>http://www.kickstarter.com/discover/categories...</td>\n",
       "      <td>8782571</td>\n",
       "      <td>US</td>\n",
       "      <td>...</td>\n",
       "      <td>1427580690</td>\n",
       "      <td>https://www.kickstarter.com/projects/elanlee/e...</td>\n",
       "      <td>True</td>\n",
       "      <td>True</td>\n",
       "      <td>successful</td>\n",
       "      <td>1424397679</td>\n",
       "      <td>1.000000</td>\n",
       "      <td>1.00000</td>\n",
       "      <td>8.782572e+06</td>\n",
       "      <td>domestic</td>\n",
       "    </tr>\n",
       "    <tr>\n",
       "      <th>16</th>\n",
       "      <td>1033978702</td>\n",
       "      <td>63416</td>\n",
       "      <td>Cracking open the last closed platform: the TV...</td>\n",
       "      <td>270</td>\n",
       "      <td>Gaming Hardware</td>\n",
       "      <td>12.0</td>\n",
       "      <td>Games</td>\n",
       "      <td>http://www.kickstarter.com/discover/categories...</td>\n",
       "      <td>8596474</td>\n",
       "      <td>US</td>\n",
       "      <td>...</td>\n",
       "      <td>1425915810</td>\n",
       "      <td>https://www.kickstarter.com/projects/ouya/ouya...</td>\n",
       "      <td>True</td>\n",
       "      <td>True</td>\n",
       "      <td>successful</td>\n",
       "      <td>1344491772</td>\n",
       "      <td>1.000000</td>\n",
       "      <td>1.00000</td>\n",
       "      <td>8.596475e+06</td>\n",
       "      <td>domestic</td>\n",
       "    </tr>\n",
       "    <tr>\n",
       "      <th>17</th>\n",
       "      <td>429298657</td>\n",
       "      <td>45162</td>\n",
       "      <td>Action-packed adventure board game, full of im...</td>\n",
       "      <td>34</td>\n",
       "      <td>Tabletop Games</td>\n",
       "      <td>12.0</td>\n",
       "      <td>Games</td>\n",
       "      <td>http://www.kickstarter.com/discover/categories...</td>\n",
       "      <td>8324792</td>\n",
       "      <td>PL</td>\n",
       "      <td>...</td>\n",
       "      <td>1623449579</td>\n",
       "      <td>https://www.kickstarter.com/projects/goonboard...</td>\n",
       "      <td>True</td>\n",
       "      <td>True</td>\n",
       "      <td>successful</td>\n",
       "      <td>1623448740</td>\n",
       "      <td>1.218138</td>\n",
       "      <td>1.21696</td>\n",
       "      <td>8.332854e+06</td>\n",
       "      <td>domestic</td>\n",
       "    </tr>\n",
       "    <tr>\n",
       "      <th>18</th>\n",
       "      <td>604109210</td>\n",
       "      <td>7388</td>\n",
       "      <td>Unlock your full creative potential from 3D pr...</td>\n",
       "      <td>331</td>\n",
       "      <td>3D Printing</td>\n",
       "      <td>16.0</td>\n",
       "      <td>Technology</td>\n",
       "      <td>http://www.kickstarter.com/discover/categories...</td>\n",
       "      <td>7850866</td>\n",
       "      <td>US</td>\n",
       "      <td>...</td>\n",
       "      <td>1559831751</td>\n",
       "      <td>https://www.kickstarter.com/projects/snapmaker...</td>\n",
       "      <td>True</td>\n",
       "      <td>True</td>\n",
       "      <td>successful</td>\n",
       "      <td>1559829638</td>\n",
       "      <td>1.000000</td>\n",
       "      <td>1.00000</td>\n",
       "      <td>7.850867e+06</td>\n",
       "      <td>domestic</td>\n",
       "    </tr>\n",
       "    <tr>\n",
       "      <th>19</th>\n",
       "      <td>647013276</td>\n",
       "      <td>43733</td>\n",
       "      <td>Get ready for brand new adventures in the firs...</td>\n",
       "      <td>34</td>\n",
       "      <td>Tabletop Games</td>\n",
       "      <td>12.0</td>\n",
       "      <td>Games</td>\n",
       "      <td>http://www.kickstarter.com/discover/categories...</td>\n",
       "      <td>7072757</td>\n",
       "      <td>US</td>\n",
       "      <td>...</td>\n",
       "      <td>1508523903</td>\n",
       "      <td>https://www.kickstarter.com/projects/seriouspo...</td>\n",
       "      <td>True</td>\n",
       "      <td>True</td>\n",
       "      <td>successful</td>\n",
       "      <td>1508450340</td>\n",
       "      <td>1.000000</td>\n",
       "      <td>1.00000</td>\n",
       "      <td>7.072757e+06</td>\n",
       "      <td>domestic</td>\n",
       "    </tr>\n",
       "  </tbody>\n",
       "</table>\n",
       "<p>20 rows × 42 columns</p>\n",
       "</div>"
      ],
      "text/plain": [
       "            id  backers_count  \\\n",
       "0   1497949659         185341   \n",
       "1   1799979574          78471   \n",
       "2    342886736          62642   \n",
       "3    374744378          83193   \n",
       "4   2103598555          66673   \n",
       "5    545070200          19264   \n",
       "6   1198848775           3199   \n",
       "7   1289129165          27168   \n",
       "8    597041739          88887   \n",
       "9    506924864          68929   \n",
       "10  1010797520          81567   \n",
       "11   565687737          44949   \n",
       "12   865220570          28974   \n",
       "13  1738059832          11313   \n",
       "14   645343012           7713   \n",
       "15  1955357092         219382   \n",
       "16  1033978702          63416   \n",
       "17   429298657          45162   \n",
       "18   604109210           7388   \n",
       "19   647013276          43733   \n",
       "\n",
       "                                                blurb  category_id  \\\n",
       "0   A Year of Sanderson: Enjoy books and swag boxe...           47   \n",
       "1   Color e-paper smartwatch with up to 7 days of ...           28   \n",
       "2   The COOLEST is a portable party disguised as a...           28   \n",
       "3   Euro-inspired dungeon crawling sequel to the 2...           34   \n",
       "4   Two affordable, heart rate-enabled smartwatche...           28   \n",
       "5   A cooperative nightmare horror game experience...           34   \n",
       "6   Expandable capacity (3.6-25kWh) | Power almost...           52   \n",
       "7    A full-featured tripod in a truly portable form.           28   \n",
       "8   Critical Role's The Legend of Vox Machina reun...           29   \n",
       "9   Pebble is a customizable watch. Download new w...           28   \n",
       "10  An officially licensed tabletop roleplaying ga...           34   \n",
       "11  TRAVEL JACKET with built-in Neck Pillow, Eye M...           28   \n",
       "12  The hunger takes hold after the Marvel Univers...           34   \n",
       "13  Print Time Cut by 70% | Smooth 0.1 mm Detail |...          331   \n",
       "14  A revolutionary table that evolves over a life...           34   \n",
       "15  This is a card game for people who are into ki...           34   \n",
       "16  Cracking open the last closed platform: the TV...          270   \n",
       "17  Action-packed adventure board game, full of im...           34   \n",
       "18  Unlock your full creative potential from 3D pr...          331   \n",
       "19  Get ready for brand new adventures in the firs...           34   \n",
       "\n",
       "      category_name  category_parent_id category_parent_name  \\\n",
       "0           Fiction                18.0           Publishing   \n",
       "1    Product Design                 7.0               Design   \n",
       "2    Product Design                 7.0               Design   \n",
       "3    Tabletop Games                12.0                Games   \n",
       "4    Product Design                 7.0               Design   \n",
       "5    Tabletop Games                12.0                Games   \n",
       "6          Hardware                16.0           Technology   \n",
       "7    Product Design                 7.0               Design   \n",
       "8         Animation                11.0         Film & Video   \n",
       "9    Product Design                 7.0               Design   \n",
       "10   Tabletop Games                12.0                Games   \n",
       "11   Product Design                 7.0               Design   \n",
       "12   Tabletop Games                12.0                Games   \n",
       "13      3D Printing                16.0           Technology   \n",
       "14   Tabletop Games                12.0                Games   \n",
       "15   Tabletop Games                12.0                Games   \n",
       "16  Gaming Hardware                12.0                Games   \n",
       "17   Tabletop Games                12.0                Games   \n",
       "18      3D Printing                16.0           Technology   \n",
       "19   Tabletop Games                12.0                Games   \n",
       "\n",
       "                                         category_url  \\\n",
       "0   http://www.kickstarter.com/discover/categories...   \n",
       "1   http://www.kickstarter.com/discover/categories...   \n",
       "2   http://www.kickstarter.com/discover/categories...   \n",
       "3   http://www.kickstarter.com/discover/categories...   \n",
       "4   http://www.kickstarter.com/discover/categories...   \n",
       "5   http://www.kickstarter.com/discover/categories...   \n",
       "6   http://www.kickstarter.com/discover/categories...   \n",
       "7   http://www.kickstarter.com/discover/categories...   \n",
       "8   http://www.kickstarter.com/discover/categories...   \n",
       "9   http://www.kickstarter.com/discover/categories...   \n",
       "10  http://www.kickstarter.com/discover/categories...   \n",
       "11  http://www.kickstarter.com/discover/categories...   \n",
       "12  http://www.kickstarter.com/discover/categories...   \n",
       "13  http://www.kickstarter.com/discover/categories...   \n",
       "14  http://www.kickstarter.com/discover/categories...   \n",
       "15  http://www.kickstarter.com/discover/categories...   \n",
       "16  http://www.kickstarter.com/discover/categories...   \n",
       "17  http://www.kickstarter.com/discover/categories...   \n",
       "18  http://www.kickstarter.com/discover/categories...   \n",
       "19  http://www.kickstarter.com/discover/categories...   \n",
       "\n",
       "    converted_pledged_amount country  ...  profile_state_changed_at  \\\n",
       "0                   41754153      US  ...                1648767693   \n",
       "1                   20338986      US  ...                1427589733   \n",
       "2                   13285226      US  ...                1428100634   \n",
       "3                   12969608      US  ...                1588367201   \n",
       "4                   12779843      US  ...                1467273864   \n",
       "5                   12393139      US  ...                1483997388   \n",
       "6                   12179651      US  ...                1625053977   \n",
       "7                   12143435      US  ...                1563558922   \n",
       "8                   11385449      US  ...                1549660952   \n",
       "9                   10266845      US  ...                1455690795   \n",
       "10                   9535317      US  ...                1630626583   \n",
       "11                   9192055      US  ...                1441299790   \n",
       "12                   9032583      US  ...                1643940081   \n",
       "13                   8881095      US  ...                1653292818   \n",
       "14                   8808136      US  ...                1602350085   \n",
       "15                   8782571      US  ...                1427580690   \n",
       "16                   8596474      US  ...                1425915810   \n",
       "17                   8324792      PL  ...                1623449579   \n",
       "18                   7850866      US  ...                1559831751   \n",
       "19                   7072757      US  ...                1508523903   \n",
       "\n",
       "                                          project_url spotlight staff_pick  \\\n",
       "0   https://www.kickstarter.com/projects/dragonste...      True       True   \n",
       "1   https://www.kickstarter.com/projects/getpebble...      True       True   \n",
       "2   https://www.kickstarter.com/projects/ryangrepp...      True       True   \n",
       "3   https://www.kickstarter.com/projects/frosthave...      True       True   \n",
       "4   https://www.kickstarter.com/projects/getpebble...      True       True   \n",
       "5   https://www.kickstarter.com/projects/poots/kin...      True       True   \n",
       "6   https://www.kickstarter.com/projects/ecoflow/e...      True       True   \n",
       "7   https://www.kickstarter.com/projects/peak-desi...      True       True   \n",
       "8   https://www.kickstarter.com/projects/criticalr...      True       True   \n",
       "9   https://www.kickstarter.com/projects/getpebble...      True       True   \n",
       "10  https://www.kickstarter.com/projects/magpiegam...      True       True   \n",
       "11  https://www.kickstarter.com/projects/baubax/th...      True      False   \n",
       "12  https://www.kickstarter.com/projects/cmon/marv...      True       True   \n",
       "13  https://www.kickstarter.com/projects/ankermake...      True      False   \n",
       "14  https://www.kickstarter.com/projects/wyrmwood/...      True       True   \n",
       "15  https://www.kickstarter.com/projects/elanlee/e...      True       True   \n",
       "16  https://www.kickstarter.com/projects/ouya/ouya...      True       True   \n",
       "17  https://www.kickstarter.com/projects/goonboard...      True       True   \n",
       "18  https://www.kickstarter.com/projects/snapmaker...      True       True   \n",
       "19  https://www.kickstarter.com/projects/seriouspo...      True       True   \n",
       "\n",
       "         state  state_changed_at  static_usd_rate  usd_exchange_rate  \\\n",
       "0   successful        1648767600         1.000000            1.00000   \n",
       "1   successful        1427508015         1.000000            1.00000   \n",
       "2   successful        1409360410         1.000000            1.00000   \n",
       "3   successful        1588366800         1.000000            1.00000   \n",
       "4   successful        1467262800         1.000000            1.00000   \n",
       "5   successful        1483830003         1.000000            1.00000   \n",
       "6   successful        1631540391         1.000000            1.00000   \n",
       "7   successful        1563494400         1.000000            1.00000   \n",
       "8   successful        1555657140         1.000000            1.00000   \n",
       "9   successful        1337396419         1.000000            1.00000   \n",
       "10  successful        1630625400         1.000000            1.00000   \n",
       "11  successful        1441299615         1.000000            1.00000   \n",
       "12  successful        1643940000         1.000000            1.00000   \n",
       "13  successful        1653141551         1.000000            1.00000   \n",
       "14  successful        1602302340         1.000000            1.00000   \n",
       "15  successful        1424397679         1.000000            1.00000   \n",
       "16  successful        1344491772         1.000000            1.00000   \n",
       "17  successful        1623448740         1.218138            1.21696   \n",
       "18  successful        1559829638         1.000000            1.00000   \n",
       "19  successful        1508450340         1.000000            1.00000   \n",
       "\n",
       "     usd_pledged  usd_type  \n",
       "0   4.175415e+07  domestic  \n",
       "1   2.033899e+07  domestic  \n",
       "2   1.328523e+07  domestic  \n",
       "3   1.296961e+07  domestic  \n",
       "4   1.277984e+07  domestic  \n",
       "5   1.239314e+07  domestic  \n",
       "6   1.217965e+07  domestic  \n",
       "7   1.214344e+07  domestic  \n",
       "8   1.138545e+07  domestic  \n",
       "9   1.026685e+07  domestic  \n",
       "10  9.535317e+06  domestic  \n",
       "11  9.192056e+06  domestic  \n",
       "12  9.032583e+06  domestic  \n",
       "13  8.881095e+06  domestic  \n",
       "14  8.808136e+06  domestic  \n",
       "15  8.782572e+06  domestic  \n",
       "16  8.596475e+06  domestic  \n",
       "17  8.332854e+06  domestic  \n",
       "18  7.850867e+06  domestic  \n",
       "19  7.072757e+06  domestic  \n",
       "\n",
       "[20 rows x 42 columns]"
      ]
     },
     "execution_count": 3,
     "metadata": {},
     "output_type": "execute_result"
    }
   ],
   "source": [
    "ks_data = pd.read_csv(r'C:\\Users\\User\\Documents\\Bonfire\\Homework\\most_funded_feb_2023.csv')\n",
    "ks_data.head(20)\n"
   ]
  },
  {
   "attachments": {},
   "cell_type": "markdown",
   "metadata": {},
   "source": [
    "### Task 3: Create Visualizations\n",
    "Using matplotlib, create visualizations that answer the following questions about the data. Feel free to use whatever plots and graphs you would prefer to use. After you create the visualization, create a markdown cell below it, describing what relationship was plotted and what insights you gleaned. Make this more than a single sentence. \n",
    "\n",
    "**Bonus points for the more intricate and detailed visualizations!**"
   ]
  },
  {
   "attachments": {},
   "cell_type": "markdown",
   "metadata": {},
   "source": [
    "- What is the distribution of the `category_name` column?"
   ]
  },
  {
   "cell_type": "code",
   "execution_count": 4,
   "metadata": {},
   "outputs": [
    {
     "data": {
      "image/png": "[encoded data removed]",
      "text/plain": [
       "<Figure size 4600x1600 with 1 Axes>"
      ]
     },
     "metadata": {},
     "output_type": "display_data"
    }
   ],
   "source": [
    "\n",
    "cat_count = ks_data['category_name'].value_counts()\n",
    "plt.figure(figsize=(46,16))\n",
    "plt.bar(cat_count.index, cat_count.values)\n",
    "\n",
    "\n",
    "plt.show()\n",
    "# the distribution of the data is skewed to the left and is a negative distribution\n"
   ]
  },
  {
   "attachments": {},
   "cell_type": "markdown",
   "metadata": {},
   "source": [
    "- Which country has the most projects?"
   ]
  },
  {
   "cell_type": "code",
   "execution_count": 5,
   "metadata": {},
   "outputs": [
    {
     "data": {
      "text/plain": [
       "<Axes: xlabel='country'>"
      ]
     },
     "execution_count": 5,
     "metadata": {},
     "output_type": "execute_result"
    },
    {
     "data": {
      "image/png": "[encoded data removed]",
      "text/plain": [
       "<Figure size 640x480 with 1 Axes>"
      ]
     },
     "metadata": {},
     "output_type": "display_data"
    }
   ],
   "source": [
    "country_count = ks_data['country'].value_counts()\n",
    "country_count.plot(kind='bar', color = 'orange')\n",
    "# the use"
   ]
  },
  {
   "attachments": {},
   "cell_type": "markdown",
   "metadata": {},
   "source": [
    "- What are the top 20 Kickstarter projects?"
   ]
  },
  {
   "cell_type": "code",
   "execution_count": 6,
   "metadata": {},
   "outputs": [
    {
     "name": "stdout",
     "output_type": "stream",
     "text": [
      "The data below is the top 20 kickstarted projects in dollars:\n"
     ]
    },
    {
     "data": {
      "text/html": [
       "<div>\n",
       "<style scoped>\n",
       "    .dataframe tbody tr th:only-of-type {\n",
       "        vertical-align: middle;\n",
       "    }\n",
       "\n",
       "    .dataframe tbody tr th {\n",
       "        vertical-align: top;\n",
       "    }\n",
       "\n",
       "    .dataframe thead th {\n",
       "        text-align: right;\n",
       "    }\n",
       "</style>\n",
       "<table border=\"1\" class=\"dataframe\">\n",
       "  <thead>\n",
       "    <tr style=\"text-align: right;\">\n",
       "      <th></th>\n",
       "      <th>blurb</th>\n",
       "      <th>converted_pledged_amount</th>\n",
       "    </tr>\n",
       "  </thead>\n",
       "  <tbody>\n",
       "    <tr>\n",
       "      <th>0</th>\n",
       "      <td>A Year of Sanderson: Enjoy books and swag boxe...</td>\n",
       "      <td>41754153</td>\n",
       "    </tr>\n",
       "    <tr>\n",
       "      <th>1</th>\n",
       "      <td>Color e-paper smartwatch with up to 7 days of ...</td>\n",
       "      <td>20338986</td>\n",
       "    </tr>\n",
       "    <tr>\n",
       "      <th>2</th>\n",
       "      <td>The COOLEST is a portable party disguised as a...</td>\n",
       "      <td>13285226</td>\n",
       "    </tr>\n",
       "    <tr>\n",
       "      <th>3</th>\n",
       "      <td>Euro-inspired dungeon crawling sequel to the 2...</td>\n",
       "      <td>12969608</td>\n",
       "    </tr>\n",
       "    <tr>\n",
       "      <th>4</th>\n",
       "      <td>Two affordable, heart rate-enabled smartwatche...</td>\n",
       "      <td>12779843</td>\n",
       "    </tr>\n",
       "    <tr>\n",
       "      <th>5</th>\n",
       "      <td>A cooperative nightmare horror game experience...</td>\n",
       "      <td>12393139</td>\n",
       "    </tr>\n",
       "    <tr>\n",
       "      <th>6</th>\n",
       "      <td>Expandable capacity (3.6-25kWh) | Power almost...</td>\n",
       "      <td>12179651</td>\n",
       "    </tr>\n",
       "    <tr>\n",
       "      <th>7</th>\n",
       "      <td>A full-featured tripod in a truly portable form.</td>\n",
       "      <td>12143435</td>\n",
       "    </tr>\n",
       "    <tr>\n",
       "      <th>8</th>\n",
       "      <td>Critical Role's The Legend of Vox Machina reun...</td>\n",
       "      <td>11385449</td>\n",
       "    </tr>\n",
       "    <tr>\n",
       "      <th>9</th>\n",
       "      <td>Pebble is a customizable watch. Download new w...</td>\n",
       "      <td>10266845</td>\n",
       "    </tr>\n",
       "    <tr>\n",
       "      <th>10</th>\n",
       "      <td>An officially licensed tabletop roleplaying ga...</td>\n",
       "      <td>9535317</td>\n",
       "    </tr>\n",
       "    <tr>\n",
       "      <th>11</th>\n",
       "      <td>TRAVEL JACKET with built-in Neck Pillow, Eye M...</td>\n",
       "      <td>9192055</td>\n",
       "    </tr>\n",
       "    <tr>\n",
       "      <th>12</th>\n",
       "      <td>The hunger takes hold after the Marvel Univers...</td>\n",
       "      <td>9032583</td>\n",
       "    </tr>\n",
       "    <tr>\n",
       "      <th>13</th>\n",
       "      <td>Print Time Cut by 70% | Smooth 0.1 mm Detail |...</td>\n",
       "      <td>8881095</td>\n",
       "    </tr>\n",
       "    <tr>\n",
       "      <th>14</th>\n",
       "      <td>A revolutionary table that evolves over a life...</td>\n",
       "      <td>8808136</td>\n",
       "    </tr>\n",
       "    <tr>\n",
       "      <th>15</th>\n",
       "      <td>This is a card game for people who are into ki...</td>\n",
       "      <td>8782571</td>\n",
       "    </tr>\n",
       "    <tr>\n",
       "      <th>16</th>\n",
       "      <td>Cracking open the last closed platform: the TV...</td>\n",
       "      <td>8596474</td>\n",
       "    </tr>\n",
       "    <tr>\n",
       "      <th>17</th>\n",
       "      <td>Action-packed adventure board game, full of im...</td>\n",
       "      <td>8324792</td>\n",
       "    </tr>\n",
       "    <tr>\n",
       "      <th>18</th>\n",
       "      <td>Unlock your full creative potential from 3D pr...</td>\n",
       "      <td>7850866</td>\n",
       "    </tr>\n",
       "    <tr>\n",
       "      <th>19</th>\n",
       "      <td>Get ready for brand new adventures in the firs...</td>\n",
       "      <td>7072757</td>\n",
       "    </tr>\n",
       "  </tbody>\n",
       "</table>\n",
       "</div>"
      ],
      "text/plain": [
       "                                                blurb  \\\n",
       "0   A Year of Sanderson: Enjoy books and swag boxe...   \n",
       "1   Color e-paper smartwatch with up to 7 days of ...   \n",
       "2   The COOLEST is a portable party disguised as a...   \n",
       "3   Euro-inspired dungeon crawling sequel to the 2...   \n",
       "4   Two affordable, heart rate-enabled smartwatche...   \n",
       "5   A cooperative nightmare horror game experience...   \n",
       "6   Expandable capacity (3.6-25kWh) | Power almost...   \n",
       "7    A full-featured tripod in a truly portable form.   \n",
       "8   Critical Role's The Legend of Vox Machina reun...   \n",
       "9   Pebble is a customizable watch. Download new w...   \n",
       "10  An officially licensed tabletop roleplaying ga...   \n",
       "11  TRAVEL JACKET with built-in Neck Pillow, Eye M...   \n",
       "12  The hunger takes hold after the Marvel Univers...   \n",
       "13  Print Time Cut by 70% | Smooth 0.1 mm Detail |...   \n",
       "14  A revolutionary table that evolves over a life...   \n",
       "15  This is a card game for people who are into ki...   \n",
       "16  Cracking open the last closed platform: the TV...   \n",
       "17  Action-packed adventure board game, full of im...   \n",
       "18  Unlock your full creative potential from 3D pr...   \n",
       "19  Get ready for brand new adventures in the firs...   \n",
       "\n",
       "    converted_pledged_amount  \n",
       "0                   41754153  \n",
       "1                   20338986  \n",
       "2                   13285226  \n",
       "3                   12969608  \n",
       "4                   12779843  \n",
       "5                   12393139  \n",
       "6                   12179651  \n",
       "7                   12143435  \n",
       "8                   11385449  \n",
       "9                   10266845  \n",
       "10                   9535317  \n",
       "11                   9192055  \n",
       "12                   9032583  \n",
       "13                   8881095  \n",
       "14                   8808136  \n",
       "15                   8782571  \n",
       "16                   8596474  \n",
       "17                   8324792  \n",
       "18                   7850866  \n",
       "19                   7072757  "
      ]
     },
     "execution_count": 6,
     "metadata": {},
     "output_type": "execute_result"
    }
   ],
   "source": [
    "print('The data below is the top 20 kickstarted projects in dollars:')\n",
    "ks_data[['blurb','converted_pledged_amount']].sort_values('converted_pledged_amount', ascending=False).head(20)"
   ]
  },
  {
   "attachments": {},
   "cell_type": "markdown",
   "metadata": {},
   "source": [
    "- Which parent category has the most funded projects?"
   ]
  },
  {
   "cell_type": "code",
   "execution_count": 7,
   "metadata": {},
   "outputs": [
    {
     "data": {
      "image/png": "[encoded data removed]",
      "text/plain": [
       "<Figure size 1000x600 with 1 Axes>"
      ]
     },
     "metadata": {},
     "output_type": "display_data"
    }
   ],
   "source": [
    "category_amounts = ks_data.groupby('category_parent_name')['converted_pledged_amount'].count()\n",
    "plt.figure(figsize=(10, 6))\n",
    "plt.bar(category_amounts.index, category_amounts.values, color='black')\n",
    "plt.title('Total Converted Pledged Amount by Parent Category')\n",
    "plt.xlabel('Parent Category')\n",
    "plt.ylabel('Total Converted Pledged Amount')\n",
    "plt.xticks(rotation=45, ha='right')\n",
    "plt.tight_layout()\n",
    "plt.show()\n",
    "#the games category seems to be the most funded out of all the parent categories."
   ]
  },
  {
   "attachments": {},
   "cell_type": "markdown",
   "metadata": {},
   "source": [
    "- Create a box-plot for the `category_parent_id` column"
   ]
  },
  {
   "cell_type": "code",
   "execution_count": 8,
   "metadata": {},
   "outputs": [
    {
     "data": {
      "text/plain": [
       "{'whiskers': [<matplotlib.lines.Line2D at 0x184464dfe50>,\n",
       "  <matplotlib.lines.Line2D at 0x184464dffd0>],\n",
       " 'caps': [<matplotlib.lines.Line2D at 0x184465142b0>,\n",
       "  <matplotlib.lines.Line2D at 0x18446514550>],\n",
       " 'boxes': [<matplotlib.lines.Line2D at 0x184464dfbb0>],\n",
       " 'medians': [<matplotlib.lines.Line2D at 0x184465147f0>],\n",
       " 'fliers': [<matplotlib.lines.Line2D at 0x18446514a90>],\n",
       " 'means': []}"
      ]
     },
     "execution_count": 8,
     "metadata": {},
     "output_type": "execute_result"
    },
    {
     "data": {
      "image/png": "[encoded data removed]",
      "text/plain": [
       "<Figure size 640x480 with 1 Axes>"
      ]
     },
     "metadata": {},
     "output_type": "display_data"
    }
   ],
   "source": [
    "parent_count = ks_data.groupby(['category_parent_id']).count()\n",
    "plt.boxplot(parent_count['blurb'])"
   ]
  },
  {
   "attachments": {},
   "cell_type": "markdown",
   "metadata": {},
   "source": [
    "- Create a user-defined function that allows a user to input a category and returns a visualization of your choice."
   ]
  },
  {
   "cell_type": "code",
   "execution_count": 9,
   "metadata": {},
   "outputs": [
    {
     "ename": "KeyError",
     "evalue": "'total_costs(m)'",
     "output_type": "error",
     "traceback": [
      "\u001b[1;31m---------------------------------------------------------------------------\u001b[0m",
      "\u001b[1;31mKeyError\u001b[0m                                  Traceback (most recent call last)",
      "File \u001b[1;32mc:\\Users\\User\\AppData\\Local\\Programs\\Python\\Python310\\lib\\site-packages\\pandas\\core\\indexes\\base.py:3653\u001b[0m, in \u001b[0;36mIndex.get_loc\u001b[1;34m(self, key)\u001b[0m\n\u001b[0;32m   3652\u001b[0m \u001b[39mtry\u001b[39;00m:\n\u001b[1;32m-> 3653\u001b[0m     \u001b[39mreturn\u001b[39;00m \u001b[39mself\u001b[39;49m\u001b[39m.\u001b[39;49m_engine\u001b[39m.\u001b[39;49mget_loc(casted_key)\n\u001b[0;32m   3654\u001b[0m \u001b[39mexcept\u001b[39;00m \u001b[39mKeyError\u001b[39;00m \u001b[39mas\u001b[39;00m err:\n",
      "File \u001b[1;32mc:\\Users\\User\\AppData\\Local\\Programs\\Python\\Python310\\lib\\site-packages\\pandas\\_libs\\index.pyx:147\u001b[0m, in \u001b[0;36mpandas._libs.index.IndexEngine.get_loc\u001b[1;34m()\u001b[0m\n",
      "File \u001b[1;32mc:\\Users\\User\\AppData\\Local\\Programs\\Python\\Python310\\lib\\site-packages\\pandas\\_libs\\index.pyx:176\u001b[0m, in \u001b[0;36mpandas._libs.index.IndexEngine.get_loc\u001b[1;34m()\u001b[0m\n",
      "File \u001b[1;32mpandas\\_libs\\hashtable_class_helper.pxi:7080\u001b[0m, in \u001b[0;36mpandas._libs.hashtable.PyObjectHashTable.get_item\u001b[1;34m()\u001b[0m\n",
      "File \u001b[1;32mpandas\\_libs\\hashtable_class_helper.pxi:7088\u001b[0m, in \u001b[0;36mpandas._libs.hashtable.PyObjectHashTable.get_item\u001b[1;34m()\u001b[0m\n",
      "\u001b[1;31mKeyError\u001b[0m: 'total_costs(m)'",
      "\nThe above exception was the direct cause of the following exception:\n",
      "\u001b[1;31mKeyError\u001b[0m                                  Traceback (most recent call last)",
      "Cell \u001b[1;32mIn[9], line 8\u001b[0m\n\u001b[0;32m      5\u001b[0m     plt\u001b[39m.\u001b[39mfigure(figsize\u001b[39m=\u001b[39m(\u001b[39m48\u001b[39m,\u001b[39m48\u001b[39m))\n\u001b[0;32m      6\u001b[0m     \u001b[39mreturn\u001b[39;00m plt\u001b[39m.\u001b[39mshow()\n\u001b[1;32m----> 8\u001b[0m charter()\n",
      "Cell \u001b[1;32mIn[9], line 3\u001b[0m, in \u001b[0;36mcharter\u001b[1;34m()\u001b[0m\n\u001b[0;32m      1\u001b[0m \u001b[39mdef\u001b[39;00m \u001b[39mcharter\u001b[39m():\n\u001b[0;32m      2\u001b[0m     category \u001b[39m=\u001b[39m \u001b[39minput\u001b[39m(\u001b[39m\"\u001b[39m\u001b[39mEnter category name: \u001b[39m\u001b[39m\"\u001b[39m)\n\u001b[1;32m----> 3\u001b[0m     cat_count \u001b[39m=\u001b[39m ks_data[category]\u001b[39m.\u001b[39mvalue_counts()\n\u001b[0;32m      4\u001b[0m     cat_count\u001b[39m.\u001b[39mplot(kind\u001b[39m=\u001b[39m\u001b[39m'\u001b[39m\u001b[39mbar\u001b[39m\u001b[39m'\u001b[39m, color\u001b[39m=\u001b[39m\u001b[39m'\u001b[39m\u001b[39mblue\u001b[39m\u001b[39m'\u001b[39m)\n\u001b[0;32m      5\u001b[0m     plt\u001b[39m.\u001b[39mfigure(figsize\u001b[39m=\u001b[39m(\u001b[39m48\u001b[39m,\u001b[39m48\u001b[39m))\n",
      "File \u001b[1;32mc:\\Users\\User\\AppData\\Local\\Programs\\Python\\Python310\\lib\\site-packages\\pandas\\core\\frame.py:3761\u001b[0m, in \u001b[0;36mDataFrame.__getitem__\u001b[1;34m(self, key)\u001b[0m\n\u001b[0;32m   3759\u001b[0m \u001b[39mif\u001b[39;00m \u001b[39mself\u001b[39m\u001b[39m.\u001b[39mcolumns\u001b[39m.\u001b[39mnlevels \u001b[39m>\u001b[39m \u001b[39m1\u001b[39m:\n\u001b[0;32m   3760\u001b[0m     \u001b[39mreturn\u001b[39;00m \u001b[39mself\u001b[39m\u001b[39m.\u001b[39m_getitem_multilevel(key)\n\u001b[1;32m-> 3761\u001b[0m indexer \u001b[39m=\u001b[39m \u001b[39mself\u001b[39;49m\u001b[39m.\u001b[39;49mcolumns\u001b[39m.\u001b[39;49mget_loc(key)\n\u001b[0;32m   3762\u001b[0m \u001b[39mif\u001b[39;00m is_integer(indexer):\n\u001b[0;32m   3763\u001b[0m     indexer \u001b[39m=\u001b[39m [indexer]\n",
      "File \u001b[1;32mc:\\Users\\User\\AppData\\Local\\Programs\\Python\\Python310\\lib\\site-packages\\pandas\\core\\indexes\\base.py:3655\u001b[0m, in \u001b[0;36mIndex.get_loc\u001b[1;34m(self, key)\u001b[0m\n\u001b[0;32m   3653\u001b[0m     \u001b[39mreturn\u001b[39;00m \u001b[39mself\u001b[39m\u001b[39m.\u001b[39m_engine\u001b[39m.\u001b[39mget_loc(casted_key)\n\u001b[0;32m   3654\u001b[0m \u001b[39mexcept\u001b[39;00m \u001b[39mKeyError\u001b[39;00m \u001b[39mas\u001b[39;00m err:\n\u001b[1;32m-> 3655\u001b[0m     \u001b[39mraise\u001b[39;00m \u001b[39mKeyError\u001b[39;00m(key) \u001b[39mfrom\u001b[39;00m \u001b[39merr\u001b[39;00m\n\u001b[0;32m   3656\u001b[0m \u001b[39mexcept\u001b[39;00m \u001b[39mTypeError\u001b[39;00m:\n\u001b[0;32m   3657\u001b[0m     \u001b[39m# If we have a listlike key, _check_indexing_error will raise\u001b[39;00m\n\u001b[0;32m   3658\u001b[0m     \u001b[39m#  InvalidIndexError. Otherwise we fall through and re-raise\u001b[39;00m\n\u001b[0;32m   3659\u001b[0m     \u001b[39m#  the TypeError.\u001b[39;00m\n\u001b[0;32m   3660\u001b[0m     \u001b[39mself\u001b[39m\u001b[39m.\u001b[39m_check_indexing_error(key)\n",
      "\u001b[1;31mKeyError\u001b[0m: 'total_costs(m)'"
     ]
    }
   ],
   "source": [
    "def charter():\n",
    "    category = input(\"Enter category name: \")\n",
    "    cat_count = ks_data[category].value_counts()\n",
    "    cat_count.plot(kind='bar', color='blue')\n",
    "    plt.figure(figsize=(48,48))\n",
    "    return plt.show()\n",
    "\n",
    "charter()"
   ]
  },
  {
   "attachments": {},
   "cell_type": "markdown",
   "metadata": {},
   "source": [
    "## **Part 2:**"
   ]
  },
  {
   "attachments": {},
   "cell_type": "markdown",
   "metadata": {},
   "source": [
    "### Getting Started\n",
    "\n",
    "For part 2, we will be working with the [US Public Food Assistance](https://www.kaggle.com/datasets/jpmiller/publicassistance) dataset. This dataset can be found on Kaggle via the hyperlink provided."
   ]
  },
  {
   "attachments": {},
   "cell_type": "markdown",
   "metadata": {},
   "source": [
    "### Task 1: Imports\n",
    "\n",
    "Import plotly.express. Alias according to industry standard."
   ]
  },
  {
   "cell_type": "code",
   "execution_count": 10,
   "metadata": {},
   "outputs": [],
   "source": [
    "import plotly.express as px"
   ]
  },
  {
   "attachments": {},
   "cell_type": "markdown",
   "metadata": {},
   "source": [
    "### Task 2: Load the data\n",
    "Write a function which does the following:\n",
    "- Input: \n",
    "    - Function should take a filepath (str) object\n",
    "- Creates a dataframe using pandas\n",
    "- Lower-case all column headers\n",
    "- Replace the space with an underscore (_) in all column headers\n",
    "- Output:\n",
    "    - Cleaned dataframe object"
   ]
  },
  {
   "cell_type": "code",
   "execution_count": 11,
   "metadata": {},
   "outputs": [
    {
     "data": {
      "text/html": [
       "<div>\n",
       "<style scoped>\n",
       "    .dataframe tbody tr th:only-of-type {\n",
       "        vertical-align: middle;\n",
       "    }\n",
       "\n",
       "    .dataframe tbody tr th {\n",
       "        vertical-align: top;\n",
       "    }\n",
       "\n",
       "    .dataframe thead th {\n",
       "        text-align: right;\n",
       "    }\n",
       "</style>\n",
       "<table border=\"1\" class=\"dataframe\">\n",
       "  <thead>\n",
       "    <tr style=\"text-align: right;\">\n",
       "      <th></th>\n",
       "      <th>fiscal_year</th>\n",
       "      <th>average_participation</th>\n",
       "      <th>average_benefit_per_person</th>\n",
       "      <th>total_benefits(m)</th>\n",
       "      <th>other_costs</th>\n",
       "      <th>total_costs(m)</th>\n",
       "    </tr>\n",
       "  </thead>\n",
       "  <tbody>\n",
       "    <tr>\n",
       "      <th>0</th>\n",
       "      <td>1969</td>\n",
       "      <td>2,878</td>\n",
       "      <td>6.63</td>\n",
       "      <td>228.80</td>\n",
       "      <td>21.70</td>\n",
       "      <td>250.50</td>\n",
       "    </tr>\n",
       "    <tr>\n",
       "      <th>1</th>\n",
       "      <td>1970</td>\n",
       "      <td>4,340</td>\n",
       "      <td>10.55</td>\n",
       "      <td>549.70</td>\n",
       "      <td>27.20</td>\n",
       "      <td>576.90</td>\n",
       "    </tr>\n",
       "    <tr>\n",
       "      <th>2</th>\n",
       "      <td>1971</td>\n",
       "      <td>9,368</td>\n",
       "      <td>13.55</td>\n",
       "      <td>1,522.70</td>\n",
       "      <td>53.20</td>\n",
       "      <td>1575.90</td>\n",
       "    </tr>\n",
       "    <tr>\n",
       "      <th>3</th>\n",
       "      <td>1972</td>\n",
       "      <td>11,109</td>\n",
       "      <td>13.48</td>\n",
       "      <td>1,797.30</td>\n",
       "      <td>69.40</td>\n",
       "      <td>1866.70</td>\n",
       "    </tr>\n",
       "    <tr>\n",
       "      <th>4</th>\n",
       "      <td>1973</td>\n",
       "      <td>12,166</td>\n",
       "      <td>14.60</td>\n",
       "      <td>2,131.40</td>\n",
       "      <td>76.00</td>\n",
       "      <td>2207.40</td>\n",
       "    </tr>\n",
       "    <tr>\n",
       "      <th>5</th>\n",
       "      <td>1974</td>\n",
       "      <td>12,862</td>\n",
       "      <td>17.61</td>\n",
       "      <td>2,718.30</td>\n",
       "      <td>119.20</td>\n",
       "      <td>2837.50</td>\n",
       "    </tr>\n",
       "    <tr>\n",
       "      <th>6</th>\n",
       "      <td>1975</td>\n",
       "      <td>17,064</td>\n",
       "      <td>21.40</td>\n",
       "      <td>4,385.50</td>\n",
       "      <td>233.20</td>\n",
       "      <td>4618.70</td>\n",
       "    </tr>\n",
       "    <tr>\n",
       "      <th>7</th>\n",
       "      <td>1976</td>\n",
       "      <td>18,549</td>\n",
       "      <td>23.93</td>\n",
       "      <td>5,326.50</td>\n",
       "      <td>359.00</td>\n",
       "      <td>5685.50</td>\n",
       "    </tr>\n",
       "    <tr>\n",
       "      <th>8</th>\n",
       "      <td>1977</td>\n",
       "      <td>17,077</td>\n",
       "      <td>24.71</td>\n",
       "      <td>5,067.00</td>\n",
       "      <td>394.00</td>\n",
       "      <td>5461.00</td>\n",
       "    </tr>\n",
       "    <tr>\n",
       "      <th>9</th>\n",
       "      <td>1978</td>\n",
       "      <td>16,001</td>\n",
       "      <td>26.77</td>\n",
       "      <td>5,139.20</td>\n",
       "      <td>380.50</td>\n",
       "      <td>5519.70</td>\n",
       "    </tr>\n",
       "    <tr>\n",
       "      <th>10</th>\n",
       "      <td>1979</td>\n",
       "      <td>17,653</td>\n",
       "      <td>30.59</td>\n",
       "      <td>6,480.20</td>\n",
       "      <td>459.60</td>\n",
       "      <td>6939.80</td>\n",
       "    </tr>\n",
       "    <tr>\n",
       "      <th>11</th>\n",
       "      <td>1980</td>\n",
       "      <td>21,082</td>\n",
       "      <td>34.47</td>\n",
       "      <td>8,720.90</td>\n",
       "      <td>485.60</td>\n",
       "      <td>9206.50</td>\n",
       "    </tr>\n",
       "    <tr>\n",
       "      <th>12</th>\n",
       "      <td>1981</td>\n",
       "      <td>22,430</td>\n",
       "      <td>39.49</td>\n",
       "      <td>10,629.90</td>\n",
       "      <td>595.40</td>\n",
       "      <td>11225.20</td>\n",
       "    </tr>\n",
       "    <tr>\n",
       "      <th>13</th>\n",
       "      <td>1982</td>\n",
       "      <td>21,717</td>\n",
       "      <td>39.17</td>\n",
       "      <td>10,208.30</td>\n",
       "      <td>628.40</td>\n",
       "      <td>10836.70</td>\n",
       "    </tr>\n",
       "    <tr>\n",
       "      <th>14</th>\n",
       "      <td>1983</td>\n",
       "      <td>21,625</td>\n",
       "      <td>42.98</td>\n",
       "      <td>11,152.30</td>\n",
       "      <td>694.80</td>\n",
       "      <td>11847.10</td>\n",
       "    </tr>\n",
       "    <tr>\n",
       "      <th>15</th>\n",
       "      <td>1984</td>\n",
       "      <td>20,854</td>\n",
       "      <td>42.74</td>\n",
       "      <td>10,696.10</td>\n",
       "      <td>882.60</td>\n",
       "      <td>11578.80</td>\n",
       "    </tr>\n",
       "    <tr>\n",
       "      <th>16</th>\n",
       "      <td>1985</td>\n",
       "      <td>19,899</td>\n",
       "      <td>44.99</td>\n",
       "      <td>10,743.60</td>\n",
       "      <td>959.60</td>\n",
       "      <td>11703.20</td>\n",
       "    </tr>\n",
       "    <tr>\n",
       "      <th>17</th>\n",
       "      <td>1986</td>\n",
       "      <td>19,429</td>\n",
       "      <td>45.49</td>\n",
       "      <td>10,605.20</td>\n",
       "      <td>1,033.20</td>\n",
       "      <td>11638.40</td>\n",
       "    </tr>\n",
       "    <tr>\n",
       "      <th>18</th>\n",
       "      <td>1987</td>\n",
       "      <td>19,113</td>\n",
       "      <td>45.78</td>\n",
       "      <td>10,500.30</td>\n",
       "      <td>1,103.90</td>\n",
       "      <td>11604.20</td>\n",
       "    </tr>\n",
       "    <tr>\n",
       "      <th>19</th>\n",
       "      <td>1988</td>\n",
       "      <td>18,645</td>\n",
       "      <td>49.83</td>\n",
       "      <td>11,149.10</td>\n",
       "      <td>1,167.70</td>\n",
       "      <td>12316.80</td>\n",
       "    </tr>\n",
       "    <tr>\n",
       "      <th>20</th>\n",
       "      <td>1989</td>\n",
       "      <td>18,806</td>\n",
       "      <td>51.71</td>\n",
       "      <td>11,669.78</td>\n",
       "      <td>1,231.81</td>\n",
       "      <td>12901.59</td>\n",
       "    </tr>\n",
       "    <tr>\n",
       "      <th>21</th>\n",
       "      <td>1990</td>\n",
       "      <td>20,049</td>\n",
       "      <td>58.78</td>\n",
       "      <td>14,142.79</td>\n",
       "      <td>1,304.47</td>\n",
       "      <td>15447.26</td>\n",
       "    </tr>\n",
       "    <tr>\n",
       "      <th>22</th>\n",
       "      <td>1991</td>\n",
       "      <td>22,625</td>\n",
       "      <td>63.78</td>\n",
       "      <td>17,315.77</td>\n",
       "      <td>1,431.50</td>\n",
       "      <td>18747.27</td>\n",
       "    </tr>\n",
       "    <tr>\n",
       "      <th>23</th>\n",
       "      <td>1992</td>\n",
       "      <td>25,407</td>\n",
       "      <td>68.57</td>\n",
       "      <td>20,905.68</td>\n",
       "      <td>1,556.66</td>\n",
       "      <td>22462.34</td>\n",
       "    </tr>\n",
       "    <tr>\n",
       "      <th>24</th>\n",
       "      <td>1993</td>\n",
       "      <td>26,987</td>\n",
       "      <td>67.95</td>\n",
       "      <td>22,006.03</td>\n",
       "      <td>1,646.94</td>\n",
       "      <td>23652.97</td>\n",
       "    </tr>\n",
       "    <tr>\n",
       "      <th>25</th>\n",
       "      <td>1994</td>\n",
       "      <td>27,474</td>\n",
       "      <td>69.00</td>\n",
       "      <td>22,748.58</td>\n",
       "      <td>1,744.87</td>\n",
       "      <td>24493.45</td>\n",
       "    </tr>\n",
       "    <tr>\n",
       "      <th>26</th>\n",
       "      <td>1995</td>\n",
       "      <td>26,619</td>\n",
       "      <td>71.27</td>\n",
       "      <td>22,764.07</td>\n",
       "      <td>1,856.30</td>\n",
       "      <td>24620.37</td>\n",
       "    </tr>\n",
       "    <tr>\n",
       "      <th>27</th>\n",
       "      <td>1996</td>\n",
       "      <td>25,543</td>\n",
       "      <td>73.21</td>\n",
       "      <td>22,440.11</td>\n",
       "      <td>1,890.88</td>\n",
       "      <td>24330.99</td>\n",
       "    </tr>\n",
       "    <tr>\n",
       "      <th>28</th>\n",
       "      <td>1997</td>\n",
       "      <td>22,858</td>\n",
       "      <td>71.27</td>\n",
       "      <td>19,548.86</td>\n",
       "      <td>1,958.68</td>\n",
       "      <td>21507.55</td>\n",
       "    </tr>\n",
       "    <tr>\n",
       "      <th>29</th>\n",
       "      <td>1998</td>\n",
       "      <td>19,791</td>\n",
       "      <td>71.12</td>\n",
       "      <td>16,890.49</td>\n",
       "      <td>2,097.84</td>\n",
       "      <td>18988.32</td>\n",
       "    </tr>\n",
       "    <tr>\n",
       "      <th>30</th>\n",
       "      <td>1999</td>\n",
       "      <td>18,183</td>\n",
       "      <td>72.27</td>\n",
       "      <td>15,769.40</td>\n",
       "      <td>2,051.52</td>\n",
       "      <td>17820.92</td>\n",
       "    </tr>\n",
       "    <tr>\n",
       "      <th>31</th>\n",
       "      <td>2000</td>\n",
       "      <td>17,194</td>\n",
       "      <td>72.62</td>\n",
       "      <td>14,983.32</td>\n",
       "      <td>2,070.70</td>\n",
       "      <td>17054.02</td>\n",
       "    </tr>\n",
       "    <tr>\n",
       "      <th>32</th>\n",
       "      <td>2001</td>\n",
       "      <td>17,318</td>\n",
       "      <td>74.81</td>\n",
       "      <td>15,547.39</td>\n",
       "      <td>2,242.00</td>\n",
       "      <td>17789.39</td>\n",
       "    </tr>\n",
       "    <tr>\n",
       "      <th>33</th>\n",
       "      <td>2002</td>\n",
       "      <td>19,096</td>\n",
       "      <td>79.67</td>\n",
       "      <td>18,256.20</td>\n",
       "      <td>2,380.82</td>\n",
       "      <td>20637.02</td>\n",
       "    </tr>\n",
       "    <tr>\n",
       "      <th>34</th>\n",
       "      <td>2003</td>\n",
       "      <td>21,250</td>\n",
       "      <td>83.94</td>\n",
       "      <td>21,404.28</td>\n",
       "      <td>2,412.01</td>\n",
       "      <td>23816.28</td>\n",
       "    </tr>\n",
       "    <tr>\n",
       "      <th>35</th>\n",
       "      <td>2004</td>\n",
       "      <td>23,811</td>\n",
       "      <td>86.16</td>\n",
       "      <td>24,618.89</td>\n",
       "      <td>2,480.14</td>\n",
       "      <td>27099.03</td>\n",
       "    </tr>\n",
       "    <tr>\n",
       "      <th>36</th>\n",
       "      <td>2005</td>\n",
       "      <td>25,628</td>\n",
       "      <td>92.89</td>\n",
       "      <td>28,567.88</td>\n",
       "      <td>2,504.13</td>\n",
       "      <td>31072.01</td>\n",
       "    </tr>\n",
       "    <tr>\n",
       "      <th>37</th>\n",
       "      <td>2006</td>\n",
       "      <td>26,549</td>\n",
       "      <td>94.75</td>\n",
       "      <td>30,187.35</td>\n",
       "      <td>2,715.72</td>\n",
       "      <td>32903.06</td>\n",
       "    </tr>\n",
       "    <tr>\n",
       "      <th>38</th>\n",
       "      <td>2007</td>\n",
       "      <td>26,316</td>\n",
       "      <td>96.18</td>\n",
       "      <td>30,373.27</td>\n",
       "      <td>2,800.25</td>\n",
       "      <td>33173.52</td>\n",
       "    </tr>\n",
       "    <tr>\n",
       "      <th>39</th>\n",
       "      <td>2008</td>\n",
       "      <td>28,223</td>\n",
       "      <td>102.19</td>\n",
       "      <td>34,608.40</td>\n",
       "      <td>3,031.25</td>\n",
       "      <td>37639.64</td>\n",
       "    </tr>\n",
       "    <tr>\n",
       "      <th>40</th>\n",
       "      <td>2009</td>\n",
       "      <td>33,490</td>\n",
       "      <td>125.31</td>\n",
       "      <td>50,359.92</td>\n",
       "      <td>3,260.00</td>\n",
       "      <td>53619.92</td>\n",
       "    </tr>\n",
       "    <tr>\n",
       "      <th>41</th>\n",
       "      <td>2010</td>\n",
       "      <td>40,302</td>\n",
       "      <td>133.79</td>\n",
       "      <td>64,702.16</td>\n",
       "      <td>3,581.30</td>\n",
       "      <td>68283.47</td>\n",
       "    </tr>\n",
       "    <tr>\n",
       "      <th>42</th>\n",
       "      <td>2011</td>\n",
       "      <td>44,709</td>\n",
       "      <td>133.85</td>\n",
       "      <td>71,810.92</td>\n",
       "      <td>3,875.62</td>\n",
       "      <td>75686.54</td>\n",
       "    </tr>\n",
       "    <tr>\n",
       "      <th>43</th>\n",
       "      <td>2012</td>\n",
       "      <td>46,609</td>\n",
       "      <td>133.41</td>\n",
       "      <td>74,619.34</td>\n",
       "      <td>3,791.75</td>\n",
       "      <td>78411.10</td>\n",
       "    </tr>\n",
       "    <tr>\n",
       "      <th>44</th>\n",
       "      <td>2013</td>\n",
       "      <td>47,636</td>\n",
       "      <td>133.07</td>\n",
       "      <td>76,066.32</td>\n",
       "      <td>3,792.71</td>\n",
       "      <td>79859.03</td>\n",
       "    </tr>\n",
       "    <tr>\n",
       "      <th>45</th>\n",
       "      <td>2014</td>\n",
       "      <td>46,664</td>\n",
       "      <td>125.01</td>\n",
       "      <td>69,998.84</td>\n",
       "      <td>4,061.49</td>\n",
       "      <td>74060.33</td>\n",
       "    </tr>\n",
       "    <tr>\n",
       "      <th>46</th>\n",
       "      <td>2015</td>\n",
       "      <td>45,767</td>\n",
       "      <td>126.81</td>\n",
       "      <td>69,645.14</td>\n",
       "      <td>4,301.03</td>\n",
       "      <td>73946.17</td>\n",
       "    </tr>\n",
       "    <tr>\n",
       "      <th>47</th>\n",
       "      <td>2016</td>\n",
       "      <td>44,220</td>\n",
       "      <td>125.40</td>\n",
       "      <td>66,539.27</td>\n",
       "      <td>4,374.28</td>\n",
       "      <td>70913.55</td>\n",
       "    </tr>\n",
       "    <tr>\n",
       "      <th>48</th>\n",
       "      <td>2017</td>\n",
       "      <td>42,317</td>\n",
       "      <td>125.47</td>\n",
       "      <td>63,711.05</td>\n",
       "      <td>4,463.67</td>\n",
       "      <td>68174.72</td>\n",
       "    </tr>\n",
       "    <tr>\n",
       "      <th>49</th>\n",
       "      <td>2018</td>\n",
       "      <td>40,776</td>\n",
       "      <td>124.50</td>\n",
       "      <td>60,916.85</td>\n",
       "      <td>4,529.55</td>\n",
       "      <td>65446.40</td>\n",
       "    </tr>\n",
       "    <tr>\n",
       "      <th>50</th>\n",
       "      <td>2019</td>\n",
       "      <td>35,703</td>\n",
       "      <td>129.83</td>\n",
       "      <td>55,621.88</td>\n",
       "      <td>4,744.33</td>\n",
       "      <td>60366.21</td>\n",
       "    </tr>\n",
       "  </tbody>\n",
       "</table>\n",
       "</div>"
      ],
      "text/plain": [
       "   fiscal_year average_participation  average_benefit_per_person  \\\n",
       "0         1969                 2,878                        6.63   \n",
       "1         1970                 4,340                       10.55   \n",
       "2         1971                 9,368                       13.55   \n",
       "3         1972                11,109                       13.48   \n",
       "4         1973                12,166                       14.60   \n",
       "5         1974                12,862                       17.61   \n",
       "6         1975                17,064                       21.40   \n",
       "7         1976                18,549                       23.93   \n",
       "8         1977                17,077                       24.71   \n",
       "9         1978                16,001                       26.77   \n",
       "10        1979                17,653                       30.59   \n",
       "11        1980                21,082                       34.47   \n",
       "12        1981                22,430                       39.49   \n",
       "13        1982                21,717                       39.17   \n",
       "14        1983                21,625                       42.98   \n",
       "15        1984                20,854                       42.74   \n",
       "16        1985                19,899                       44.99   \n",
       "17        1986                19,429                       45.49   \n",
       "18        1987                19,113                       45.78   \n",
       "19        1988                18,645                       49.83   \n",
       "20        1989                18,806                       51.71   \n",
       "21        1990                20,049                       58.78   \n",
       "22        1991                22,625                       63.78   \n",
       "23        1992                25,407                       68.57   \n",
       "24        1993                26,987                       67.95   \n",
       "25        1994                27,474                       69.00   \n",
       "26        1995                26,619                       71.27   \n",
       "27        1996                25,543                       73.21   \n",
       "28        1997                22,858                       71.27   \n",
       "29        1998                19,791                       71.12   \n",
       "30        1999                18,183                       72.27   \n",
       "31        2000                17,194                       72.62   \n",
       "32        2001                17,318                       74.81   \n",
       "33        2002                19,096                       79.67   \n",
       "34        2003                21,250                       83.94   \n",
       "35        2004                23,811                       86.16   \n",
       "36        2005                25,628                       92.89   \n",
       "37        2006                26,549                       94.75   \n",
       "38        2007                26,316                       96.18   \n",
       "39        2008                28,223                      102.19   \n",
       "40        2009                33,490                      125.31   \n",
       "41        2010                40,302                      133.79   \n",
       "42        2011                44,709                      133.85   \n",
       "43        2012                46,609                      133.41   \n",
       "44        2013                47,636                      133.07   \n",
       "45        2014                46,664                      125.01   \n",
       "46        2015                45,767                      126.81   \n",
       "47        2016                44,220                      125.40   \n",
       "48        2017                42,317                      125.47   \n",
       "49        2018                40,776                      124.50   \n",
       "50        2019                35,703                      129.83   \n",
       "\n",
       "   total_benefits(m) other_costs  total_costs(m)  \n",
       "0             228.80       21.70          250.50  \n",
       "1             549.70       27.20          576.90  \n",
       "2           1,522.70       53.20         1575.90  \n",
       "3           1,797.30       69.40         1866.70  \n",
       "4           2,131.40       76.00         2207.40  \n",
       "5           2,718.30      119.20         2837.50  \n",
       "6           4,385.50      233.20         4618.70  \n",
       "7           5,326.50      359.00         5685.50  \n",
       "8           5,067.00      394.00         5461.00  \n",
       "9           5,139.20      380.50         5519.70  \n",
       "10          6,480.20      459.60         6939.80  \n",
       "11          8,720.90      485.60         9206.50  \n",
       "12         10,629.90      595.40        11225.20  \n",
       "13         10,208.30      628.40        10836.70  \n",
       "14         11,152.30      694.80        11847.10  \n",
       "15         10,696.10      882.60        11578.80  \n",
       "16         10,743.60      959.60        11703.20  \n",
       "17         10,605.20    1,033.20        11638.40  \n",
       "18         10,500.30    1,103.90        11604.20  \n",
       "19         11,149.10    1,167.70        12316.80  \n",
       "20         11,669.78    1,231.81        12901.59  \n",
       "21         14,142.79    1,304.47        15447.26  \n",
       "22         17,315.77    1,431.50        18747.27  \n",
       "23         20,905.68    1,556.66        22462.34  \n",
       "24         22,006.03    1,646.94        23652.97  \n",
       "25         22,748.58    1,744.87        24493.45  \n",
       "26         22,764.07    1,856.30        24620.37  \n",
       "27         22,440.11    1,890.88        24330.99  \n",
       "28         19,548.86    1,958.68        21507.55  \n",
       "29         16,890.49    2,097.84        18988.32  \n",
       "30         15,769.40    2,051.52        17820.92  \n",
       "31         14,983.32    2,070.70        17054.02  \n",
       "32         15,547.39    2,242.00        17789.39  \n",
       "33         18,256.20    2,380.82        20637.02  \n",
       "34         21,404.28    2,412.01        23816.28  \n",
       "35         24,618.89    2,480.14        27099.03  \n",
       "36         28,567.88    2,504.13        31072.01  \n",
       "37         30,187.35    2,715.72        32903.06  \n",
       "38         30,373.27    2,800.25        33173.52  \n",
       "39         34,608.40    3,031.25        37639.64  \n",
       "40         50,359.92    3,260.00        53619.92  \n",
       "41         64,702.16    3,581.30        68283.47  \n",
       "42         71,810.92    3,875.62        75686.54  \n",
       "43         74,619.34    3,791.75        78411.10  \n",
       "44         76,066.32    3,792.71        79859.03  \n",
       "45         69,998.84    4,061.49        74060.33  \n",
       "46         69,645.14    4,301.03        73946.17  \n",
       "47         66,539.27    4,374.28        70913.55  \n",
       "48         63,711.05    4,463.67        68174.72  \n",
       "49         60,916.85    4,529.55        65446.40  \n",
       "50         55,621.88    4,744.33        60366.21  "
      ]
     },
     "execution_count": 11,
     "metadata": {},
     "output_type": "execute_result"
    }
   ],
   "source": [
    "def cleaner (datapath):\n",
    "    your_dataframe = pd.read_csv(f'{datapath}')\n",
    "    column_title = your_dataframe.columns.tolist()\n",
    "    clean_data = [column.lower().replace(' ', '_') for column in column_title]\n",
    "    \n",
    "    your_dataframe.columns = clean_data\n",
    "    return your_dataframe\n",
    "\n",
    "df = cleaner(r'C:\\Users\\User\\Downloads\\SNAP_history_1969_2019.csv')\n",
    "df['total_costs(m)'] = df['total_costs(m)'].str.replace(',', '').astype(float)\n",
    "df.loc[df['fiscal_year'] == '1982 3]', 'fiscal_year'] = 1982\n",
    "df"
   ]
  },
  {
   "attachments": {},
   "cell_type": "markdown",
   "metadata": {},
   "source": [
    "### Task 3: Basic EDA\n",
    "- Using plotly express, create a violin plot of each numerical feature in the data."
   ]
  },
  {
   "cell_type": "code",
   "execution_count": 12,
   "metadata": {},
   "outputs": [
    {
     "data": {
      "application/vnd.plotly.v1+json": {
       "config": {
        "plotlyServerURL": "https://plot.ly"
       },
       "data": [
        {
         "alignmentgroup": "True",
         "box": {
          "visible": false
         },
         "hovertemplate": "average_benefit_per_person=%{y}<extra></extra>",
         "legendgroup": "",
         "marker": {
          "color": "#636efa"
         },
         "name": "",
         "offsetgroup": "",
         "orientation": "v",
         "scalegroup": "True",
         "showlegend": false,
         "type": "violin",
         "x0": " ",
         "xaxis": "x",
         "y": [
          6.63,
          10.55,
          13.55,
          13.48,
          14.6,
          17.61,
          21.4,
          23.93,
          24.71,
          26.77,
          30.59,
          34.47,
          39.49,
          39.17,
          42.98,
          42.74,
          44.99,
          45.49,
          45.78,
          49.83,
          51.71,
          58.78,
          63.78,
          68.57,
          67.95,
          69,
          71.27,
          73.21,
          71.27,
          71.12,
          72.27,
          72.62,
          74.81,
          79.67,
          83.94,
          86.16,
          92.89,
          94.75,
          96.18,
          102.19,
          125.31,
          133.79,
          133.85,
          133.41,
          133.07,
          125.01,
          126.81,
          125.4,
          125.47,
          124.5,
          129.83
         ],
         "y0": " ",
         "yaxis": "y"
        }
       ],
       "layout": {
        "legend": {
         "tracegroupgap": 0
        },
        "template": {
         "data": {
          "bar": [
           {
            "error_x": {
             "color": "#2a3f5f"
            },
            "error_y": {
             "color": "#2a3f5f"
            },
            "marker": {
             "line": {
              "color": "#E5ECF6",
              "width": 0.5
             },
             "pattern": {
              "fillmode": "overlay",
              "size": 10,
              "solidity": 0.2
             }
            },
            "type": "bar"
           }
          ],
          "barpolar": [
           {
            "marker": {
             "line": {
              "color": "#E5ECF6",
              "width": 0.5
             },
             "pattern": {
              "fillmode": "overlay",
              "size": 10,
              "solidity": 0.2
             }
            },
            "type": "barpolar"
           }
          ],
          "carpet": [
           {
            "aaxis": {
             "endlinecolor": "#2a3f5f",
             "gridcolor": "white",
             "linecolor": "white",
             "minorgridcolor": "white",
             "startlinecolor": "#2a3f5f"
            },
            "baxis": {
             "endlinecolor": "#2a3f5f",
             "gridcolor": "white",
             "linecolor": "white",
             "minorgridcolor": "white",
             "startlinecolor": "#2a3f5f"
            },
            "type": "carpet"
           }
          ],
          "choropleth": [
           {
            "colorbar": {
             "outlinewidth": 0,
             "ticks": ""
            },
            "type": "choropleth"
           }
          ],
          "contour": [
           {
            "colorbar": {
             "outlinewidth": 0,
             "ticks": ""
            },
            "colorscale": [
             [
              0,
              "#0d0887"
             ],
             [
              0.1111111111111111,
              "#46039f"
             ],
             [
              0.2222222222222222,
              "#7201a8"
             ],
             [
              0.3333333333333333,
              "#9c179e"
             ],
             [
              0.4444444444444444,
              "#bd3786"
             ],
             [
              0.5555555555555556,
              "#d8576b"
             ],
             [
              0.6666666666666666,
              "#ed7953"
             ],
             [
              0.7777777777777778,
              "#fb9f3a"
             ],
             [
              0.8888888888888888,
              "#fdca26"
             ],
             [
              1,
              "#f0f921"
             ]
            ],
            "type": "contour"
           }
          ],
          "contourcarpet": [
           {
            "colorbar": {
             "outlinewidth": 0,
             "ticks": ""
            },
            "type": "contourcarpet"
           }
          ],
          "heatmap": [
           {
            "colorbar": {
             "outlinewidth": 0,
             "ticks": ""
            },
            "colorscale": [
             [
              0,
              "#0d0887"
             ],
             [
              0.1111111111111111,
              "#46039f"
             ],
             [
              0.2222222222222222,
              "#7201a8"
             ],
             [
              0.3333333333333333,
              "#9c179e"
             ],
             [
              0.4444444444444444,
              "#bd3786"
             ],
             [
              0.5555555555555556,
              "#d8576b"
             ],
             [
              0.6666666666666666,
              "#ed7953"
             ],
             [
              0.7777777777777778,
              "#fb9f3a"
             ],
             [
              0.8888888888888888,
              "#fdca26"
             ],
             [
              1,
              "#f0f921"
             ]
            ],
            "type": "heatmap"
           }
          ],
          "heatmapgl": [
           {
            "colorbar": {
             "outlinewidth": 0,
             "ticks": ""
            },
            "colorscale": [
             [
              0,
              "#0d0887"
             ],
             [
              0.1111111111111111,
              "#46039f"
             ],
             [
              0.2222222222222222,
              "#7201a8"
             ],
             [
              0.3333333333333333,
              "#9c179e"
             ],
             [
              0.4444444444444444,
              "#bd3786"
             ],
             [
              0.5555555555555556,
              "#d8576b"
             ],
             [
              0.6666666666666666,
              "#ed7953"
             ],
             [
              0.7777777777777778,
              "#fb9f3a"
             ],
             [
              0.8888888888888888,
              "#fdca26"
             ],
             [
              1,
              "#f0f921"
             ]
            ],
            "type": "heatmapgl"
           }
          ],
          "histogram": [
           {
            "marker": {
             "pattern": {
              "fillmode": "overlay",
              "size": 10,
              "solidity": 0.2
             }
            },
            "type": "histogram"
           }
          ],
          "histogram2d": [
           {
            "colorbar": {
             "outlinewidth": 0,
             "ticks": ""
            },
            "colorscale": [
             [
              0,
              "#0d0887"
             ],
             [
              0.1111111111111111,
              "#46039f"
             ],
             [
              0.2222222222222222,
              "#7201a8"
             ],
             [
              0.3333333333333333,
              "#9c179e"
             ],
             [
              0.4444444444444444,
              "#bd3786"
             ],
             [
              0.5555555555555556,
              "#d8576b"
             ],
             [
              0.6666666666666666,
              "#ed7953"
             ],
             [
              0.7777777777777778,
              "#fb9f3a"
             ],
             [
              0.8888888888888888,
              "#fdca26"
             ],
             [
              1,
              "#f0f921"
             ]
            ],
            "type": "histogram2d"
           }
          ],
          "histogram2dcontour": [
           {
            "colorbar": {
             "outlinewidth": 0,
             "ticks": ""
            },
            "colorscale": [
             [
              0,
              "#0d0887"
             ],
             [
              0.1111111111111111,
              "#46039f"
             ],
             [
              0.2222222222222222,
              "#7201a8"
             ],
             [
              0.3333333333333333,
              "#9c179e"
             ],
             [
              0.4444444444444444,
              "#bd3786"
             ],
             [
              0.5555555555555556,
              "#d8576b"
             ],
             [
              0.6666666666666666,
              "#ed7953"
             ],
             [
              0.7777777777777778,
              "#fb9f3a"
             ],
             [
              0.8888888888888888,
              "#fdca26"
             ],
             [
              1,
              "#f0f921"
             ]
            ],
            "type": "histogram2dcontour"
           }
          ],
          "mesh3d": [
           {
            "colorbar": {
             "outlinewidth": 0,
             "ticks": ""
            },
            "type": "mesh3d"
           }
          ],
          "parcoords": [
           {
            "line": {
             "colorbar": {
              "outlinewidth": 0,
              "ticks": ""
             }
            },
            "type": "parcoords"
           }
          ],
          "pie": [
           {
            "automargin": true,
            "type": "pie"
           }
          ],
          "scatter": [
           {
            "fillpattern": {
             "fillmode": "overlay",
             "size": 10,
             "solidity": 0.2
            },
            "type": "scatter"
           }
          ],
          "scatter3d": [
           {
            "line": {
             "colorbar": {
              "outlinewidth": 0,
              "ticks": ""
             }
            },
            "marker": {
             "colorbar": {
              "outlinewidth": 0,
              "ticks": ""
             }
            },
            "type": "scatter3d"
           }
          ],
          "scattercarpet": [
           {
            "marker": {
             "colorbar": {
              "outlinewidth": 0,
              "ticks": ""
             }
            },
            "type": "scattercarpet"
           }
          ],
          "scattergeo": [
           {
            "marker": {
             "colorbar": {
              "outlinewidth": 0,
              "ticks": ""
             }
            },
            "type": "scattergeo"
           }
          ],
          "scattergl": [
           {
            "marker": {
             "colorbar": {
              "outlinewidth": 0,
              "ticks": ""
             }
            },
            "type": "scattergl"
           }
          ],
          "scattermapbox": [
           {
            "marker": {
             "colorbar": {
              "outlinewidth": 0,
              "ticks": ""
             }
            },
            "type": "scattermapbox"
           }
          ],
          "scatterpolar": [
           {
            "marker": {
             "colorbar": {
              "outlinewidth": 0,
              "ticks": ""
             }
            },
            "type": "scatterpolar"
           }
          ],
          "scatterpolargl": [
           {
            "marker": {
             "colorbar": {
              "outlinewidth": 0,
              "ticks": ""
             }
            },
            "type": "scatterpolargl"
           }
          ],
          "scatterternary": [
           {
            "marker": {
             "colorbar": {
              "outlinewidth": 0,
              "ticks": ""
             }
            },
            "type": "scatterternary"
           }
          ],
          "surface": [
           {
            "colorbar": {
             "outlinewidth": 0,
             "ticks": ""
            },
            "colorscale": [
             [
              0,
              "#0d0887"
             ],
             [
              0.1111111111111111,
              "#46039f"
             ],
             [
              0.2222222222222222,
              "#7201a8"
             ],
             [
              0.3333333333333333,
              "#9c179e"
             ],
             [
              0.4444444444444444,
              "#bd3786"
             ],
             [
              0.5555555555555556,
              "#d8576b"
             ],
             [
              0.6666666666666666,
              "#ed7953"
             ],
             [
              0.7777777777777778,
              "#fb9f3a"
             ],
             [
              0.8888888888888888,
              "#fdca26"
             ],
             [
              1,
              "#f0f921"
             ]
            ],
            "type": "surface"
           }
          ],
          "table": [
           {
            "cells": {
             "fill": {
              "color": "#EBF0F8"
             },
             "line": {
              "color": "white"
             }
            },
            "header": {
             "fill": {
              "color": "#C8D4E3"
             },
             "line": {
              "color": "white"
             }
            },
            "type": "table"
           }
          ]
         },
         "layout": {
          "annotationdefaults": {
           "arrowcolor": "#2a3f5f",
           "arrowhead": 0,
           "arrowwidth": 1
          },
          "autotypenumbers": "strict",
          "coloraxis": {
           "colorbar": {
            "outlinewidth": 0,
            "ticks": ""
           }
          },
          "colorscale": {
           "diverging": [
            [
             0,
             "#8e0152"
            ],
            [
             0.1,
             "#c51b7d"
            ],
            [
             0.2,
             "#de77ae"
            ],
            [
             0.3,
             "#f1b6da"
            ],
            [
             0.4,
             "#fde0ef"
            ],
            [
             0.5,
             "#f7f7f7"
            ],
            [
             0.6,
             "#e6f5d0"
            ],
            [
             0.7,
             "#b8e186"
            ],
            [
             0.8,
             "#7fbc41"
            ],
            [
             0.9,
             "#4d9221"
            ],
            [
             1,
             "#276419"
            ]
           ],
           "sequential": [
            [
             0,
             "#0d0887"
            ],
            [
             0.1111111111111111,
             "#46039f"
            ],
            [
             0.2222222222222222,
             "#7201a8"
            ],
            [
             0.3333333333333333,
             "#9c179e"
            ],
            [
             0.4444444444444444,
             "#bd3786"
            ],
            [
             0.5555555555555556,
             "#d8576b"
            ],
            [
             0.6666666666666666,
             "#ed7953"
            ],
            [
             0.7777777777777778,
             "#fb9f3a"
            ],
            [
             0.8888888888888888,
             "#fdca26"
            ],
            [
             1,
             "#f0f921"
            ]
           ],
           "sequentialminus": [
            [
             0,
             "#0d0887"
            ],
            [
             0.1111111111111111,
             "#46039f"
            ],
            [
             0.2222222222222222,
             "#7201a8"
            ],
            [
             0.3333333333333333,
             "#9c179e"
            ],
            [
             0.4444444444444444,
             "#bd3786"
            ],
            [
             0.5555555555555556,
             "#d8576b"
            ],
            [
             0.6666666666666666,
             "#ed7953"
            ],
            [
             0.7777777777777778,
             "#fb9f3a"
            ],
            [
             0.8888888888888888,
             "#fdca26"
            ],
            [
             1,
             "#f0f921"
            ]
           ]
          },
          "colorway": [
           "#636efa",
           "#EF553B",
           "#00cc96",
           "#ab63fa",
           "#FFA15A",
           "#19d3f3",
           "#FF6692",
           "#B6E880",
           "#FF97FF",
           "#FECB52"
          ],
          "font": {
           "color": "#2a3f5f"
          },
          "geo": {
           "bgcolor": "white",
           "lakecolor": "white",
           "landcolor": "#E5ECF6",
           "showlakes": true,
           "showland": true,
           "subunitcolor": "white"
          },
          "hoverlabel": {
           "align": "left"
          },
          "hovermode": "closest",
          "mapbox": {
           "style": "light"
          },
          "paper_bgcolor": "white",
          "plot_bgcolor": "#E5ECF6",
          "polar": {
           "angularaxis": {
            "gridcolor": "white",
            "linecolor": "white",
            "ticks": ""
           },
           "bgcolor": "#E5ECF6",
           "radialaxis": {
            "gridcolor": "white",
            "linecolor": "white",
            "ticks": ""
           }
          },
          "scene": {
           "xaxis": {
            "backgroundcolor": "#E5ECF6",
            "gridcolor": "white",
            "gridwidth": 2,
            "linecolor": "white",
            "showbackground": true,
            "ticks": "",
            "zerolinecolor": "white"
           },
           "yaxis": {
            "backgroundcolor": "#E5ECF6",
            "gridcolor": "white",
            "gridwidth": 2,
            "linecolor": "white",
            "showbackground": true,
            "ticks": "",
            "zerolinecolor": "white"
           },
           "zaxis": {
            "backgroundcolor": "#E5ECF6",
            "gridcolor": "white",
            "gridwidth": 2,
            "linecolor": "white",
            "showbackground": true,
            "ticks": "",
            "zerolinecolor": "white"
           }
          },
          "shapedefaults": {
           "line": {
            "color": "#2a3f5f"
           }
          },
          "ternary": {
           "aaxis": {
            "gridcolor": "white",
            "linecolor": "white",
            "ticks": ""
           },
           "baxis": {
            "gridcolor": "white",
            "linecolor": "white",
            "ticks": ""
           },
           "bgcolor": "#E5ECF6",
           "caxis": {
            "gridcolor": "white",
            "linecolor": "white",
            "ticks": ""
           }
          },
          "title": {
           "x": 0.05
          },
          "xaxis": {
           "automargin": true,
           "gridcolor": "white",
           "linecolor": "white",
           "ticks": "",
           "title": {
            "standoff": 15
           },
           "zerolinecolor": "white",
           "zerolinewidth": 2
          },
          "yaxis": {
           "automargin": true,
           "gridcolor": "white",
           "linecolor": "white",
           "ticks": "",
           "title": {
            "standoff": 15
           },
           "zerolinecolor": "white",
           "zerolinewidth": 2
          }
         }
        },
        "title": {
         "text": "Violin Plot of average_benefit_per_person"
        },
        "violinmode": "group",
        "xaxis": {
         "anchor": "y",
         "domain": [
          0,
          1
         ]
        },
        "yaxis": {
         "anchor": "x",
         "domain": [
          0,
          1
         ],
         "title": {
          "text": "average_benefit_per_person"
         }
        }
       }
      }
     },
     "metadata": {},
     "output_type": "display_data"
    },
    {
     "data": {
      "application/vnd.plotly.v1+json": {
       "config": {
        "plotlyServerURL": "https://plot.ly"
       },
       "data": [
        {
         "alignmentgroup": "True",
         "box": {
          "visible": false
         },
         "hovertemplate": "total_costs(m)=%{y}<extra></extra>",
         "legendgroup": "",
         "marker": {
          "color": "#636efa"
         },
         "name": "",
         "offsetgroup": "",
         "orientation": "v",
         "scalegroup": "True",
         "showlegend": false,
         "type": "violin",
         "x0": " ",
         "xaxis": "x",
         "y": [
          250.5,
          576.9,
          1575.9,
          1866.7,
          2207.4,
          2837.5,
          4618.7,
          5685.5,
          5461,
          5519.7,
          6939.8,
          9206.5,
          11225.2,
          10836.7,
          11847.1,
          11578.8,
          11703.2,
          11638.4,
          11604.2,
          12316.8,
          12901.59,
          15447.26,
          18747.27,
          22462.34,
          23652.97,
          24493.45,
          24620.37,
          24330.99,
          21507.55,
          18988.32,
          17820.92,
          17054.02,
          17789.39,
          20637.02,
          23816.28,
          27099.03,
          31072.01,
          32903.06,
          33173.52,
          37639.64,
          53619.92,
          68283.47,
          75686.54,
          78411.1,
          79859.03,
          74060.33,
          73946.17,
          70913.55,
          68174.72,
          65446.4,
          60366.21
         ],
         "y0": " ",
         "yaxis": "y"
        }
       ],
       "layout": {
        "legend": {
         "tracegroupgap": 0
        },
        "template": {
         "data": {
          "bar": [
           {
            "error_x": {
             "color": "#2a3f5f"
            },
            "error_y": {
             "color": "#2a3f5f"
            },
            "marker": {
             "line": {
              "color": "#E5ECF6",
              "width": 0.5
             },
             "pattern": {
              "fillmode": "overlay",
              "size": 10,
              "solidity": 0.2
             }
            },
            "type": "bar"
           }
          ],
          "barpolar": [
           {
            "marker": {
             "line": {
              "color": "#E5ECF6",
              "width": 0.5
             },
             "pattern": {
              "fillmode": "overlay",
              "size": 10,
              "solidity": 0.2
             }
            },
            "type": "barpolar"
           }
          ],
          "carpet": [
           {
            "aaxis": {
             "endlinecolor": "#2a3f5f",
             "gridcolor": "white",
             "linecolor": "white",
             "minorgridcolor": "white",
             "startlinecolor": "#2a3f5f"
            },
            "baxis": {
             "endlinecolor": "#2a3f5f",
             "gridcolor": "white",
             "linecolor": "white",
             "minorgridcolor": "white",
             "startlinecolor": "#2a3f5f"
            },
            "type": "carpet"
           }
          ],
          "choropleth": [
           {
            "colorbar": {
             "outlinewidth": 0,
             "ticks": ""
            },
            "type": "choropleth"
           }
          ],
          "contour": [
           {
            "colorbar": {
             "outlinewidth": 0,
             "ticks": ""
            },
            "colorscale": [
             [
              0,
              "#0d0887"
             ],
             [
              0.1111111111111111,
              "#46039f"
             ],
             [
              0.2222222222222222,
              "#7201a8"
             ],
             [
              0.3333333333333333,
              "#9c179e"
             ],
             [
              0.4444444444444444,
              "#bd3786"
             ],
             [
              0.5555555555555556,
              "#d8576b"
             ],
             [
              0.6666666666666666,
              "#ed7953"
             ],
             [
              0.7777777777777778,
              "#fb9f3a"
             ],
             [
              0.8888888888888888,
              "#fdca26"
             ],
             [
              1,
              "#f0f921"
             ]
            ],
            "type": "contour"
           }
          ],
          "contourcarpet": [
           {
            "colorbar": {
             "outlinewidth": 0,
             "ticks": ""
            },
            "type": "contourcarpet"
           }
          ],
          "heatmap": [
           {
            "colorbar": {
             "outlinewidth": 0,
             "ticks": ""
            },
            "colorscale": [
             [
              0,
              "#0d0887"
             ],
             [
              0.1111111111111111,
              "#46039f"
             ],
             [
              0.2222222222222222,
              "#7201a8"
             ],
             [
              0.3333333333333333,
              "#9c179e"
             ],
             [
              0.4444444444444444,
              "#bd3786"
             ],
             [
              0.5555555555555556,
              "#d8576b"
             ],
             [
              0.6666666666666666,
              "#ed7953"
             ],
             [
              0.7777777777777778,
              "#fb9f3a"
             ],
             [
              0.8888888888888888,
              "#fdca26"
             ],
             [
              1,
              "#f0f921"
             ]
            ],
            "type": "heatmap"
           }
          ],
          "heatmapgl": [
           {
            "colorbar": {
             "outlinewidth": 0,
             "ticks": ""
            },
            "colorscale": [
             [
              0,
              "#0d0887"
             ],
             [
              0.1111111111111111,
              "#46039f"
             ],
             [
              0.2222222222222222,
              "#7201a8"
             ],
             [
              0.3333333333333333,
              "#9c179e"
             ],
             [
              0.4444444444444444,
              "#bd3786"
             ],
             [
              0.5555555555555556,
              "#d8576b"
             ],
             [
              0.6666666666666666,
              "#ed7953"
             ],
             [
              0.7777777777777778,
              "#fb9f3a"
             ],
             [
              0.8888888888888888,
              "#fdca26"
             ],
             [
              1,
              "#f0f921"
             ]
            ],
            "type": "heatmapgl"
           }
          ],
          "histogram": [
           {
            "marker": {
             "pattern": {
              "fillmode": "overlay",
              "size": 10,
              "solidity": 0.2
             }
            },
            "type": "histogram"
           }
          ],
          "histogram2d": [
           {
            "colorbar": {
             "outlinewidth": 0,
             "ticks": ""
            },
            "colorscale": [
             [
              0,
              "#0d0887"
             ],
             [
              0.1111111111111111,
              "#46039f"
             ],
             [
              0.2222222222222222,
              "#7201a8"
             ],
             [
              0.3333333333333333,
              "#9c179e"
             ],
             [
              0.4444444444444444,
              "#bd3786"
             ],
             [
              0.5555555555555556,
              "#d8576b"
             ],
             [
              0.6666666666666666,
              "#ed7953"
             ],
             [
              0.7777777777777778,
              "#fb9f3a"
             ],
             [
              0.8888888888888888,
              "#fdca26"
             ],
             [
              1,
              "#f0f921"
             ]
            ],
            "type": "histogram2d"
           }
          ],
          "histogram2dcontour": [
           {
            "colorbar": {
             "outlinewidth": 0,
             "ticks": ""
            },
            "colorscale": [
             [
              0,
              "#0d0887"
             ],
             [
              0.1111111111111111,
              "#46039f"
             ],
             [
              0.2222222222222222,
              "#7201a8"
             ],
             [
              0.3333333333333333,
              "#9c179e"
             ],
             [
              0.4444444444444444,
              "#bd3786"
             ],
             [
              0.5555555555555556,
              "#d8576b"
             ],
             [
              0.6666666666666666,
              "#ed7953"
             ],
             [
              0.7777777777777778,
              "#fb9f3a"
             ],
             [
              0.8888888888888888,
              "#fdca26"
             ],
             [
              1,
              "#f0f921"
             ]
            ],
            "type": "histogram2dcontour"
           }
          ],
          "mesh3d": [
           {
            "colorbar": {
             "outlinewidth": 0,
             "ticks": ""
            },
            "type": "mesh3d"
           }
          ],
          "parcoords": [
           {
            "line": {
             "colorbar": {
              "outlinewidth": 0,
              "ticks": ""
             }
            },
            "type": "parcoords"
           }
          ],
          "pie": [
           {
            "automargin": true,
            "type": "pie"
           }
          ],
          "scatter": [
           {
            "fillpattern": {
             "fillmode": "overlay",
             "size": 10,
             "solidity": 0.2
            },
            "type": "scatter"
           }
          ],
          "scatter3d": [
           {
            "line": {
             "colorbar": {
              "outlinewidth": 0,
              "ticks": ""
             }
            },
            "marker": {
             "colorbar": {
              "outlinewidth": 0,
              "ticks": ""
             }
            },
            "type": "scatter3d"
           }
          ],
          "scattercarpet": [
           {
            "marker": {
             "colorbar": {
              "outlinewidth": 0,
              "ticks": ""
             }
            },
            "type": "scattercarpet"
           }
          ],
          "scattergeo": [
           {
            "marker": {
             "colorbar": {
              "outlinewidth": 0,
              "ticks": ""
             }
            },
            "type": "scattergeo"
           }
          ],
          "scattergl": [
           {
            "marker": {
             "colorbar": {
              "outlinewidth": 0,
              "ticks": ""
             }
            },
            "type": "scattergl"
           }
          ],
          "scattermapbox": [
           {
            "marker": {
             "colorbar": {
              "outlinewidth": 0,
              "ticks": ""
             }
            },
            "type": "scattermapbox"
           }
          ],
          "scatterpolar": [
           {
            "marker": {
             "colorbar": {
              "outlinewidth": 0,
              "ticks": ""
             }
            },
            "type": "scatterpolar"
           }
          ],
          "scatterpolargl": [
           {
            "marker": {
             "colorbar": {
              "outlinewidth": 0,
              "ticks": ""
             }
            },
            "type": "scatterpolargl"
           }
          ],
          "scatterternary": [
           {
            "marker": {
             "colorbar": {
              "outlinewidth": 0,
              "ticks": ""
             }
            },
            "type": "scatterternary"
           }
          ],
          "surface": [
           {
            "colorbar": {
             "outlinewidth": 0,
             "ticks": ""
            },
            "colorscale": [
             [
              0,
              "#0d0887"
             ],
             [
              0.1111111111111111,
              "#46039f"
             ],
             [
              0.2222222222222222,
              "#7201a8"
             ],
             [
              0.3333333333333333,
              "#9c179e"
             ],
             [
              0.4444444444444444,
              "#bd3786"
             ],
             [
              0.5555555555555556,
              "#d8576b"
             ],
             [
              0.6666666666666666,
              "#ed7953"
             ],
             [
              0.7777777777777778,
              "#fb9f3a"
             ],
             [
              0.8888888888888888,
              "#fdca26"
             ],
             [
              1,
              "#f0f921"
             ]
            ],
            "type": "surface"
           }
          ],
          "table": [
           {
            "cells": {
             "fill": {
              "color": "#EBF0F8"
             },
             "line": {
              "color": "white"
             }
            },
            "header": {
             "fill": {
              "color": "#C8D4E3"
             },
             "line": {
              "color": "white"
             }
            },
            "type": "table"
           }
          ]
         },
         "layout": {
          "annotationdefaults": {
           "arrowcolor": "#2a3f5f",
           "arrowhead": 0,
           "arrowwidth": 1
          },
          "autotypenumbers": "strict",
          "coloraxis": {
           "colorbar": {
            "outlinewidth": 0,
            "ticks": ""
           }
          },
          "colorscale": {
           "diverging": [
            [
             0,
             "#8e0152"
            ],
            [
             0.1,
             "#c51b7d"
            ],
            [
             0.2,
             "#de77ae"
            ],
            [
             0.3,
             "#f1b6da"
            ],
            [
             0.4,
             "#fde0ef"
            ],
            [
             0.5,
             "#f7f7f7"
            ],
            [
             0.6,
             "#e6f5d0"
            ],
            [
             0.7,
             "#b8e186"
            ],
            [
             0.8,
             "#7fbc41"
            ],
            [
             0.9,
             "#4d9221"
            ],
            [
             1,
             "#276419"
            ]
           ],
           "sequential": [
            [
             0,
             "#0d0887"
            ],
            [
             0.1111111111111111,
             "#46039f"
            ],
            [
             0.2222222222222222,
             "#7201a8"
            ],
            [
             0.3333333333333333,
             "#9c179e"
            ],
            [
             0.4444444444444444,
             "#bd3786"
            ],
            [
             0.5555555555555556,
             "#d8576b"
            ],
            [
             0.6666666666666666,
             "#ed7953"
            ],
            [
             0.7777777777777778,
             "#fb9f3a"
            ],
            [
             0.8888888888888888,
             "#fdca26"
            ],
            [
             1,
             "#f0f921"
            ]
           ],
           "sequentialminus": [
            [
             0,
             "#0d0887"
            ],
            [
             0.1111111111111111,
             "#46039f"
            ],
            [
             0.2222222222222222,
             "#7201a8"
            ],
            [
             0.3333333333333333,
             "#9c179e"
            ],
            [
             0.4444444444444444,
             "#bd3786"
            ],
            [
             0.5555555555555556,
             "#d8576b"
            ],
            [
             0.6666666666666666,
             "#ed7953"
            ],
            [
             0.7777777777777778,
             "#fb9f3a"
            ],
            [
             0.8888888888888888,
             "#fdca26"
            ],
            [
             1,
             "#f0f921"
            ]
           ]
          },
          "colorway": [
           "#636efa",
           "#EF553B",
           "#00cc96",
           "#ab63fa",
           "#FFA15A",
           "#19d3f3",
           "#FF6692",
           "#B6E880",
           "#FF97FF",
           "#FECB52"
          ],
          "font": {
           "color": "#2a3f5f"
          },
          "geo": {
           "bgcolor": "white",
           "lakecolor": "white",
           "landcolor": "#E5ECF6",
           "showlakes": true,
           "showland": true,
           "subunitcolor": "white"
          },
          "hoverlabel": {
           "align": "left"
          },
          "hovermode": "closest",
          "mapbox": {
           "style": "light"
          },
          "paper_bgcolor": "white",
          "plot_bgcolor": "#E5ECF6",
          "polar": {
           "angularaxis": {
            "gridcolor": "white",
            "linecolor": "white",
            "ticks": ""
           },
           "bgcolor": "#E5ECF6",
           "radialaxis": {
            "gridcolor": "white",
            "linecolor": "white",
            "ticks": ""
           }
          },
          "scene": {
           "xaxis": {
            "backgroundcolor": "#E5ECF6",
            "gridcolor": "white",
            "gridwidth": 2,
            "linecolor": "white",
            "showbackground": true,
            "ticks": "",
            "zerolinecolor": "white"
           },
           "yaxis": {
            "backgroundcolor": "#E5ECF6",
            "gridcolor": "white",
            "gridwidth": 2,
            "linecolor": "white",
            "showbackground": true,
            "ticks": "",
            "zerolinecolor": "white"
           },
           "zaxis": {
            "backgroundcolor": "#E5ECF6",
            "gridcolor": "white",
            "gridwidth": 2,
            "linecolor": "white",
            "showbackground": true,
            "ticks": "",
            "zerolinecolor": "white"
           }
          },
          "shapedefaults": {
           "line": {
            "color": "#2a3f5f"
           }
          },
          "ternary": {
           "aaxis": {
            "gridcolor": "white",
            "linecolor": "white",
            "ticks": ""
           },
           "baxis": {
            "gridcolor": "white",
            "linecolor": "white",
            "ticks": ""
           },
           "bgcolor": "#E5ECF6",
           "caxis": {
            "gridcolor": "white",
            "linecolor": "white",
            "ticks": ""
           }
          },
          "title": {
           "x": 0.05
          },
          "xaxis": {
           "automargin": true,
           "gridcolor": "white",
           "linecolor": "white",
           "ticks": "",
           "title": {
            "standoff": 15
           },
           "zerolinecolor": "white",
           "zerolinewidth": 2
          },
          "yaxis": {
           "automargin": true,
           "gridcolor": "white",
           "linecolor": "white",
           "ticks": "",
           "title": {
            "standoff": 15
           },
           "zerolinecolor": "white",
           "zerolinewidth": 2
          }
         }
        },
        "title": {
         "text": "Violin Plot of total_costs(m)"
        },
        "violinmode": "group",
        "xaxis": {
         "anchor": "y",
         "domain": [
          0,
          1
         ]
        },
        "yaxis": {
         "anchor": "x",
         "domain": [
          0,
          1
         ],
         "title": {
          "text": "total_costs(m)"
         }
        }
       }
      }
     },
     "metadata": {},
     "output_type": "display_data"
    }
   ],
   "source": [
    "numerical_columns = df.select_dtypes(include=['number'])\n",
    "\n",
    "\n",
    "for column in numerical_columns:\n",
    "    fig = px.violin(df, y=column, title=f'Violin Plot of {column}')\n",
    "    fig.show()"
   ]
  },
  {
   "attachments": {},
   "cell_type": "markdown",
   "metadata": {},
   "source": [
    "- Create a histogram of the `total_costs(m)` column"
   ]
  },
  {
   "cell_type": "code",
   "execution_count": 13,
   "metadata": {},
   "outputs": [
    {
     "data": {
      "application/vnd.plotly.v1+json": {
       "config": {
        "plotlyServerURL": "https://plot.ly"
       },
       "data": [
        {
         "alignmentgroup": "True",
         "bingroup": "x",
         "hovertemplate": "total_costs(m)=%{x}<br>count=%{y}<extra></extra>",
         "legendgroup": "",
         "marker": {
          "color": "#636efa",
          "pattern": {
           "shape": ""
          }
         },
         "name": "",
         "offsetgroup": "",
         "orientation": "v",
         "showlegend": false,
         "type": "histogram",
         "x": [
          250.5,
          576.9,
          1575.9,
          1866.7,
          2207.4,
          2837.5,
          4618.7,
          5685.5,
          5461,
          5519.7,
          6939.8,
          9206.5,
          11225.2,
          10836.7,
          11847.1,
          11578.8,
          11703.2,
          11638.4,
          11604.2,
          12316.8,
          12901.59,
          15447.26,
          18747.27,
          22462.34,
          23652.97,
          24493.45,
          24620.37,
          24330.99,
          21507.55,
          18988.32,
          17820.92,
          17054.02,
          17789.39,
          20637.02,
          23816.28,
          27099.03,
          31072.01,
          32903.06,
          33173.52,
          37639.64,
          53619.92,
          68283.47,
          75686.54,
          78411.1,
          79859.03,
          74060.33,
          73946.17,
          70913.55,
          68174.72,
          65446.4,
          60366.21
         ],
         "xaxis": "x",
         "yaxis": "y"
        }
       ],
       "layout": {
        "barmode": "relative",
        "legend": {
         "tracegroupgap": 0
        },
        "template": {
         "data": {
          "bar": [
           {
            "error_x": {
             "color": "#2a3f5f"
            },
            "error_y": {
             "color": "#2a3f5f"
            },
            "marker": {
             "line": {
              "color": "#E5ECF6",
              "width": 0.5
             },
             "pattern": {
              "fillmode": "overlay",
              "size": 10,
              "solidity": 0.2
             }
            },
            "type": "bar"
           }
          ],
          "barpolar": [
           {
            "marker": {
             "line": {
              "color": "#E5ECF6",
              "width": 0.5
             },
             "pattern": {
              "fillmode": "overlay",
              "size": 10,
              "solidity": 0.2
             }
            },
            "type": "barpolar"
           }
          ],
          "carpet": [
           {
            "aaxis": {
             "endlinecolor": "#2a3f5f",
             "gridcolor": "white",
             "linecolor": "white",
             "minorgridcolor": "white",
             "startlinecolor": "#2a3f5f"
            },
            "baxis": {
             "endlinecolor": "#2a3f5f",
             "gridcolor": "white",
             "linecolor": "white",
             "minorgridcolor": "white",
             "startlinecolor": "#2a3f5f"
            },
            "type": "carpet"
           }
          ],
          "choropleth": [
           {
            "colorbar": {
             "outlinewidth": 0,
             "ticks": ""
            },
            "type": "choropleth"
           }
          ],
          "contour": [
           {
            "colorbar": {
             "outlinewidth": 0,
             "ticks": ""
            },
            "colorscale": [
             [
              0,
              "#0d0887"
             ],
             [
              0.1111111111111111,
              "#46039f"
             ],
             [
              0.2222222222222222,
              "#7201a8"
             ],
             [
              0.3333333333333333,
              "#9c179e"
             ],
             [
              0.4444444444444444,
              "#bd3786"
             ],
             [
              0.5555555555555556,
              "#d8576b"
             ],
             [
              0.6666666666666666,
              "#ed7953"
             ],
             [
              0.7777777777777778,
              "#fb9f3a"
             ],
             [
              0.8888888888888888,
              "#fdca26"
             ],
             [
              1,
              "#f0f921"
             ]
            ],
            "type": "contour"
           }
          ],
          "contourcarpet": [
           {
            "colorbar": {
             "outlinewidth": 0,
             "ticks": ""
            },
            "type": "contourcarpet"
           }
          ],
          "heatmap": [
           {
            "colorbar": {
             "outlinewidth": 0,
             "ticks": ""
            },
            "colorscale": [
             [
              0,
              "#0d0887"
             ],
             [
              0.1111111111111111,
              "#46039f"
             ],
             [
              0.2222222222222222,
              "#7201a8"
             ],
             [
              0.3333333333333333,
              "#9c179e"
             ],
             [
              0.4444444444444444,
              "#bd3786"
             ],
             [
              0.5555555555555556,
              "#d8576b"
             ],
             [
              0.6666666666666666,
              "#ed7953"
             ],
             [
              0.7777777777777778,
              "#fb9f3a"
             ],
             [
              0.8888888888888888,
              "#fdca26"
             ],
             [
              1,
              "#f0f921"
             ]
            ],
            "type": "heatmap"
           }
          ],
          "heatmapgl": [
           {
            "colorbar": {
             "outlinewidth": 0,
             "ticks": ""
            },
            "colorscale": [
             [
              0,
              "#0d0887"
             ],
             [
              0.1111111111111111,
              "#46039f"
             ],
             [
              0.2222222222222222,
              "#7201a8"
             ],
             [
              0.3333333333333333,
              "#9c179e"
             ],
             [
              0.4444444444444444,
              "#bd3786"
             ],
             [
              0.5555555555555556,
              "#d8576b"
             ],
             [
              0.6666666666666666,
              "#ed7953"
             ],
             [
              0.7777777777777778,
              "#fb9f3a"
             ],
             [
              0.8888888888888888,
              "#fdca26"
             ],
             [
              1,
              "#f0f921"
             ]
            ],
            "type": "heatmapgl"
           }
          ],
          "histogram": [
           {
            "marker": {
             "pattern": {
              "fillmode": "overlay",
              "size": 10,
              "solidity": 0.2
             }
            },
            "type": "histogram"
           }
          ],
          "histogram2d": [
           {
            "colorbar": {
             "outlinewidth": 0,
             "ticks": ""
            },
            "colorscale": [
             [
              0,
              "#0d0887"
             ],
             [
              0.1111111111111111,
              "#46039f"
             ],
             [
              0.2222222222222222,
              "#7201a8"
             ],
             [
              0.3333333333333333,
              "#9c179e"
             ],
             [
              0.4444444444444444,
              "#bd3786"
             ],
             [
              0.5555555555555556,
              "#d8576b"
             ],
             [
              0.6666666666666666,
              "#ed7953"
             ],
             [
              0.7777777777777778,
              "#fb9f3a"
             ],
             [
              0.8888888888888888,
              "#fdca26"
             ],
             [
              1,
              "#f0f921"
             ]
            ],
            "type": "histogram2d"
           }
          ],
          "histogram2dcontour": [
           {
            "colorbar": {
             "outlinewidth": 0,
             "ticks": ""
            },
            "colorscale": [
             [
              0,
              "#0d0887"
             ],
             [
              0.1111111111111111,
              "#46039f"
             ],
             [
              0.2222222222222222,
              "#7201a8"
             ],
             [
              0.3333333333333333,
              "#9c179e"
             ],
             [
              0.4444444444444444,
              "#bd3786"
             ],
             [
              0.5555555555555556,
              "#d8576b"
             ],
             [
              0.6666666666666666,
              "#ed7953"
             ],
             [
              0.7777777777777778,
              "#fb9f3a"
             ],
             [
              0.8888888888888888,
              "#fdca26"
             ],
             [
              1,
              "#f0f921"
             ]
            ],
            "type": "histogram2dcontour"
           }
          ],
          "mesh3d": [
           {
            "colorbar": {
             "outlinewidth": 0,
             "ticks": ""
            },
            "type": "mesh3d"
           }
          ],
          "parcoords": [
           {
            "line": {
             "colorbar": {
              "outlinewidth": 0,
              "ticks": ""
             }
            },
            "type": "parcoords"
           }
          ],
          "pie": [
           {
            "automargin": true,
            "type": "pie"
           }
          ],
          "scatter": [
           {
            "fillpattern": {
             "fillmode": "overlay",
             "size": 10,
             "solidity": 0.2
            },
            "type": "scatter"
           }
          ],
          "scatter3d": [
           {
            "line": {
             "colorbar": {
              "outlinewidth": 0,
              "ticks": ""
             }
            },
            "marker": {
             "colorbar": {
              "outlinewidth": 0,
              "ticks": ""
             }
            },
            "type": "scatter3d"
           }
          ],
          "scattercarpet": [
           {
            "marker": {
             "colorbar": {
              "outlinewidth": 0,
              "ticks": ""
             }
            },
            "type": "scattercarpet"
           }
          ],
          "scattergeo": [
           {
            "marker": {
             "colorbar": {
              "outlinewidth": 0,
              "ticks": ""
             }
            },
            "type": "scattergeo"
           }
          ],
          "scattergl": [
           {
            "marker": {
             "colorbar": {
              "outlinewidth": 0,
              "ticks": ""
             }
            },
            "type": "scattergl"
           }
          ],
          "scattermapbox": [
           {
            "marker": {
             "colorbar": {
              "outlinewidth": 0,
              "ticks": ""
             }
            },
            "type": "scattermapbox"
           }
          ],
          "scatterpolar": [
           {
            "marker": {
             "colorbar": {
              "outlinewidth": 0,
              "ticks": ""
             }
            },
            "type": "scatterpolar"
           }
          ],
          "scatterpolargl": [
           {
            "marker": {
             "colorbar": {
              "outlinewidth": 0,
              "ticks": ""
             }
            },
            "type": "scatterpolargl"
           }
          ],
          "scatterternary": [
           {
            "marker": {
             "colorbar": {
              "outlinewidth": 0,
              "ticks": ""
             }
            },
            "type": "scatterternary"
           }
          ],
          "surface": [
           {
            "colorbar": {
             "outlinewidth": 0,
             "ticks": ""
            },
            "colorscale": [
             [
              0,
              "#0d0887"
             ],
             [
              0.1111111111111111,
              "#46039f"
             ],
             [
              0.2222222222222222,
              "#7201a8"
             ],
             [
              0.3333333333333333,
              "#9c179e"
             ],
             [
              0.4444444444444444,
              "#bd3786"
             ],
             [
              0.5555555555555556,
              "#d8576b"
             ],
             [
              0.6666666666666666,
              "#ed7953"
             ],
             [
              0.7777777777777778,
              "#fb9f3a"
             ],
             [
              0.8888888888888888,
              "#fdca26"
             ],
             [
              1,
              "#f0f921"
             ]
            ],
            "type": "surface"
           }
          ],
          "table": [
           {
            "cells": {
             "fill": {
              "color": "#EBF0F8"
             },
             "line": {
              "color": "white"
             }
            },
            "header": {
             "fill": {
              "color": "#C8D4E3"
             },
             "line": {
              "color": "white"
             }
            },
            "type": "table"
           }
          ]
         },
         "layout": {
          "annotationdefaults": {
           "arrowcolor": "#2a3f5f",
           "arrowhead": 0,
           "arrowwidth": 1
          },
          "autotypenumbers": "strict",
          "coloraxis": {
           "colorbar": {
            "outlinewidth": 0,
            "ticks": ""
           }
          },
          "colorscale": {
           "diverging": [
            [
             0,
             "#8e0152"
            ],
            [
             0.1,
             "#c51b7d"
            ],
            [
             0.2,
             "#de77ae"
            ],
            [
             0.3,
             "#f1b6da"
            ],
            [
             0.4,
             "#fde0ef"
            ],
            [
             0.5,
             "#f7f7f7"
            ],
            [
             0.6,
             "#e6f5d0"
            ],
            [
             0.7,
             "#b8e186"
            ],
            [
             0.8,
             "#7fbc41"
            ],
            [
             0.9,
             "#4d9221"
            ],
            [
             1,
             "#276419"
            ]
           ],
           "sequential": [
            [
             0,
             "#0d0887"
            ],
            [
             0.1111111111111111,
             "#46039f"
            ],
            [
             0.2222222222222222,
             "#7201a8"
            ],
            [
             0.3333333333333333,
             "#9c179e"
            ],
            [
             0.4444444444444444,
             "#bd3786"
            ],
            [
             0.5555555555555556,
             "#d8576b"
            ],
            [
             0.6666666666666666,
             "#ed7953"
            ],
            [
             0.7777777777777778,
             "#fb9f3a"
            ],
            [
             0.8888888888888888,
             "#fdca26"
            ],
            [
             1,
             "#f0f921"
            ]
           ],
           "sequentialminus": [
            [
             0,
             "#0d0887"
            ],
            [
             0.1111111111111111,
             "#46039f"
            ],
            [
             0.2222222222222222,
             "#7201a8"
            ],
            [
             0.3333333333333333,
             "#9c179e"
            ],
            [
             0.4444444444444444,
             "#bd3786"
            ],
            [
             0.5555555555555556,
             "#d8576b"
            ],
            [
             0.6666666666666666,
             "#ed7953"
            ],
            [
             0.7777777777777778,
             "#fb9f3a"
            ],
            [
             0.8888888888888888,
             "#fdca26"
            ],
            [
             1,
             "#f0f921"
            ]
           ]
          },
          "colorway": [
           "#636efa",
           "#EF553B",
           "#00cc96",
           "#ab63fa",
           "#FFA15A",
           "#19d3f3",
           "#FF6692",
           "#B6E880",
           "#FF97FF",
           "#FECB52"
          ],
          "font": {
           "color": "#2a3f5f"
          },
          "geo": {
           "bgcolor": "white",
           "lakecolor": "white",
           "landcolor": "#E5ECF6",
           "showlakes": true,
           "showland": true,
           "subunitcolor": "white"
          },
          "hoverlabel": {
           "align": "left"
          },
          "hovermode": "closest",
          "mapbox": {
           "style": "light"
          },
          "paper_bgcolor": "white",
          "plot_bgcolor": "#E5ECF6",
          "polar": {
           "angularaxis": {
            "gridcolor": "white",
            "linecolor": "white",
            "ticks": ""
           },
           "bgcolor": "#E5ECF6",
           "radialaxis": {
            "gridcolor": "white",
            "linecolor": "white",
            "ticks": ""
           }
          },
          "scene": {
           "xaxis": {
            "backgroundcolor": "#E5ECF6",
            "gridcolor": "white",
            "gridwidth": 2,
            "linecolor": "white",
            "showbackground": true,
            "ticks": "",
            "zerolinecolor": "white"
           },
           "yaxis": {
            "backgroundcolor": "#E5ECF6",
            "gridcolor": "white",
            "gridwidth": 2,
            "linecolor": "white",
            "showbackground": true,
            "ticks": "",
            "zerolinecolor": "white"
           },
           "zaxis": {
            "backgroundcolor": "#E5ECF6",
            "gridcolor": "white",
            "gridwidth": 2,
            "linecolor": "white",
            "showbackground": true,
            "ticks": "",
            "zerolinecolor": "white"
           }
          },
          "shapedefaults": {
           "line": {
            "color": "#2a3f5f"
           }
          },
          "ternary": {
           "aaxis": {
            "gridcolor": "white",
            "linecolor": "white",
            "ticks": ""
           },
           "baxis": {
            "gridcolor": "white",
            "linecolor": "white",
            "ticks": ""
           },
           "bgcolor": "#E5ECF6",
           "caxis": {
            "gridcolor": "white",
            "linecolor": "white",
            "ticks": ""
           }
          },
          "title": {
           "x": 0.05
          },
          "xaxis": {
           "automargin": true,
           "gridcolor": "white",
           "linecolor": "white",
           "ticks": "",
           "title": {
            "standoff": 15
           },
           "zerolinecolor": "white",
           "zerolinewidth": 2
          },
          "yaxis": {
           "automargin": true,
           "gridcolor": "white",
           "linecolor": "white",
           "ticks": "",
           "title": {
            "standoff": 15
           },
           "zerolinecolor": "white",
           "zerolinewidth": 2
          }
         }
        },
        "title": {
         "text": "SNAP Costs Occurrences Over Time"
        },
        "xaxis": {
         "anchor": "y",
         "domain": [
          0,
          1
         ],
         "title": {
          "text": "total_costs(m)"
         }
        },
        "yaxis": {
         "anchor": "x",
         "domain": [
          0,
          1
         ],
         "title": {
          "text": "count"
         }
        }
       }
      }
     },
     "metadata": {},
     "output_type": "display_data"
    }
   ],
   "source": [
    "fig = px.histogram(df, x='total_costs(m)', title='SNAP Costs Occurrences Over Time')\n",
    "fig.show()"
   ]
  },
  {
   "attachments": {},
   "cell_type": "markdown",
   "metadata": {},
   "source": [
    "- Create a visualization detailing the ratio of non-null values to null values in the entire dataset"
   ]
  },
  {
   "cell_type": "code",
   "execution_count": 24,
   "metadata": {},
   "outputs": [
    {
     "data": {
      "image/png": "[encoded data removed]",
      "text/plain": [
       "<Figure size 1000x600 with 1 Axes>"
      ]
     },
     "metadata": {},
     "output_type": "display_data"
    }
   ],
   "source": [
    "non_null_counts = df.notnull().sum()\n",
    "null_counts = df.isnull().sum()\n",
    "ratios = non_null_counts / (non_null_counts + null_counts)\n",
    "\n",
    "plt.figure(figsize=(10, 6))\n",
    "ratios.plot(kind='bar')\n",
    "plt.title('Ratio of Non-Null to Null Values in the Dataset')\n",
    "plt.xlabel('Columns')\n",
    "plt.ylabel('Ratio')\n",
    "plt.xticks(rotation=45)\n",
    "plt.tight_layout()\n",
    "plt.show()\n"
   ]
  },
  {
   "attachments": {},
   "cell_type": "markdown",
   "metadata": {},
   "source": [
    "- Create a scatterplot to show the relationship bewtween the total benefits and total costs"
   ]
  },
  {
   "cell_type": "code",
   "execution_count": 15,
   "metadata": {},
   "outputs": [
    {
     "data": {
      "application/vnd.plotly.v1+json": {
       "config": {
        "plotlyServerURL": "https://plot.ly"
       },
       "data": [
        {
         "hovertemplate": "total_costs(m)=%{x}<br>total_benefits(m)=%{y}<extra></extra>",
         "legendgroup": "",
         "marker": {
          "color": "#636efa",
          "symbol": "circle"
         },
         "mode": "markers",
         "name": "",
         "orientation": "h",
         "showlegend": false,
         "type": "scatter",
         "x": [
          250.5,
          576.9,
          1575.9,
          1866.7,
          2207.4,
          2837.5,
          4618.7,
          5685.5,
          5461,
          5519.7,
          6939.8,
          9206.5,
          11225.2,
          10836.7,
          11847.1,
          11578.8,
          11703.2,
          11638.4,
          11604.2,
          12316.8,
          12901.59,
          15447.26,
          18747.27,
          22462.34,
          23652.97,
          24493.45,
          24620.37,
          24330.99,
          21507.55,
          18988.32,
          17820.92,
          17054.02,
          17789.39,
          20637.02,
          23816.28,
          27099.03,
          31072.01,
          32903.06,
          33173.52,
          37639.64,
          53619.92,
          68283.47,
          75686.54,
          78411.1,
          79859.03,
          74060.33,
          73946.17,
          70913.55,
          68174.72,
          65446.4,
          60366.21
         ],
         "xaxis": "x",
         "y": [
          "228.80",
          "549.70",
          "1,522.70",
          "1,797.30",
          "2,131.40",
          "2,718.30",
          "4,385.50",
          "5,326.50",
          "5,067.00",
          "5,139.20",
          "6,480.20",
          "8,720.90",
          "10,629.90",
          "10,208.30",
          "11,152.30",
          "10,696.10",
          "10,743.60",
          "10,605.20",
          "10,500.30",
          "11,149.10",
          "11,669.78",
          "14,142.79",
          "17,315.77",
          "20,905.68",
          "22,006.03",
          "22,748.58",
          "22,764.07",
          "22,440.11",
          "19,548.86",
          "16,890.49",
          "15,769.40",
          "14,983.32",
          "15,547.39",
          "18,256.20",
          "21,404.28",
          "24,618.89",
          "28,567.88",
          "30,187.35",
          "30,373.27",
          "34,608.40",
          "50,359.92",
          "64,702.16",
          "71,810.92",
          "74,619.34",
          "76,066.32",
          "69,998.84",
          "69,645.14",
          "66,539.27",
          "63,711.05",
          "60,916.85",
          "55,621.88"
         ],
         "yaxis": "y"
        }
       ],
       "layout": {
        "legend": {
         "tracegroupgap": 0
        },
        "margin": {
         "t": 60
        },
        "template": {
         "data": {
          "bar": [
           {
            "error_x": {
             "color": "#2a3f5f"
            },
            "error_y": {
             "color": "#2a3f5f"
            },
            "marker": {
             "line": {
              "color": "#E5ECF6",
              "width": 0.5
             },
             "pattern": {
              "fillmode": "overlay",
              "size": 10,
              "solidity": 0.2
             }
            },
            "type": "bar"
           }
          ],
          "barpolar": [
           {
            "marker": {
             "line": {
              "color": "#E5ECF6",
              "width": 0.5
             },
             "pattern": {
              "fillmode": "overlay",
              "size": 10,
              "solidity": 0.2
             }
            },
            "type": "barpolar"
           }
          ],
          "carpet": [
           {
            "aaxis": {
             "endlinecolor": "#2a3f5f",
             "gridcolor": "white",
             "linecolor": "white",
             "minorgridcolor": "white",
             "startlinecolor": "#2a3f5f"
            },
            "baxis": {
             "endlinecolor": "#2a3f5f",
             "gridcolor": "white",
             "linecolor": "white",
             "minorgridcolor": "white",
             "startlinecolor": "#2a3f5f"
            },
            "type": "carpet"
           }
          ],
          "choropleth": [
           {
            "colorbar": {
             "outlinewidth": 0,
             "ticks": ""
            },
            "type": "choropleth"
           }
          ],
          "contour": [
           {
            "colorbar": {
             "outlinewidth": 0,
             "ticks": ""
            },
            "colorscale": [
             [
              0,
              "#0d0887"
             ],
             [
              0.1111111111111111,
              "#46039f"
             ],
             [
              0.2222222222222222,
              "#7201a8"
             ],
             [
              0.3333333333333333,
              "#9c179e"
             ],
             [
              0.4444444444444444,
              "#bd3786"
             ],
             [
              0.5555555555555556,
              "#d8576b"
             ],
             [
              0.6666666666666666,
              "#ed7953"
             ],
             [
              0.7777777777777778,
              "#fb9f3a"
             ],
             [
              0.8888888888888888,
              "#fdca26"
             ],
             [
              1,
              "#f0f921"
             ]
            ],
            "type": "contour"
           }
          ],
          "contourcarpet": [
           {
            "colorbar": {
             "outlinewidth": 0,
             "ticks": ""
            },
            "type": "contourcarpet"
           }
          ],
          "heatmap": [
           {
            "colorbar": {
             "outlinewidth": 0,
             "ticks": ""
            },
            "colorscale": [
             [
              0,
              "#0d0887"
             ],
             [
              0.1111111111111111,
              "#46039f"
             ],
             [
              0.2222222222222222,
              "#7201a8"
             ],
             [
              0.3333333333333333,
              "#9c179e"
             ],
             [
              0.4444444444444444,
              "#bd3786"
             ],
             [
              0.5555555555555556,
              "#d8576b"
             ],
             [
              0.6666666666666666,
              "#ed7953"
             ],
             [
              0.7777777777777778,
              "#fb9f3a"
             ],
             [
              0.8888888888888888,
              "#fdca26"
             ],
             [
              1,
              "#f0f921"
             ]
            ],
            "type": "heatmap"
           }
          ],
          "heatmapgl": [
           {
            "colorbar": {
             "outlinewidth": 0,
             "ticks": ""
            },
            "colorscale": [
             [
              0,
              "#0d0887"
             ],
             [
              0.1111111111111111,
              "#46039f"
             ],
             [
              0.2222222222222222,
              "#7201a8"
             ],
             [
              0.3333333333333333,
              "#9c179e"
             ],
             [
              0.4444444444444444,
              "#bd3786"
             ],
             [
              0.5555555555555556,
              "#d8576b"
             ],
             [
              0.6666666666666666,
              "#ed7953"
             ],
             [
              0.7777777777777778,
              "#fb9f3a"
             ],
             [
              0.8888888888888888,
              "#fdca26"
             ],
             [
              1,
              "#f0f921"
             ]
            ],
            "type": "heatmapgl"
           }
          ],
          "histogram": [
           {
            "marker": {
             "pattern": {
              "fillmode": "overlay",
              "size": 10,
              "solidity": 0.2
             }
            },
            "type": "histogram"
           }
          ],
          "histogram2d": [
           {
            "colorbar": {
             "outlinewidth": 0,
             "ticks": ""
            },
            "colorscale": [
             [
              0,
              "#0d0887"
             ],
             [
              0.1111111111111111,
              "#46039f"
             ],
             [
              0.2222222222222222,
              "#7201a8"
             ],
             [
              0.3333333333333333,
              "#9c179e"
             ],
             [
              0.4444444444444444,
              "#bd3786"
             ],
             [
              0.5555555555555556,
              "#d8576b"
             ],
             [
              0.6666666666666666,
              "#ed7953"
             ],
             [
              0.7777777777777778,
              "#fb9f3a"
             ],
             [
              0.8888888888888888,
              "#fdca26"
             ],
             [
              1,
              "#f0f921"
             ]
            ],
            "type": "histogram2d"
           }
          ],
          "histogram2dcontour": [
           {
            "colorbar": {
             "outlinewidth": 0,
             "ticks": ""
            },
            "colorscale": [
             [
              0,
              "#0d0887"
             ],
             [
              0.1111111111111111,
              "#46039f"
             ],
             [
              0.2222222222222222,
              "#7201a8"
             ],
             [
              0.3333333333333333,
              "#9c179e"
             ],
             [
              0.4444444444444444,
              "#bd3786"
             ],
             [
              0.5555555555555556,
              "#d8576b"
             ],
             [
              0.6666666666666666,
              "#ed7953"
             ],
             [
              0.7777777777777778,
              "#fb9f3a"
             ],
             [
              0.8888888888888888,
              "#fdca26"
             ],
             [
              1,
              "#f0f921"
             ]
            ],
            "type": "histogram2dcontour"
           }
          ],
          "mesh3d": [
           {
            "colorbar": {
             "outlinewidth": 0,
             "ticks": ""
            },
            "type": "mesh3d"
           }
          ],
          "parcoords": [
           {
            "line": {
             "colorbar": {
              "outlinewidth": 0,
              "ticks": ""
             }
            },
            "type": "parcoords"
           }
          ],
          "pie": [
           {
            "automargin": true,
            "type": "pie"
           }
          ],
          "scatter": [
           {
            "fillpattern": {
             "fillmode": "overlay",
             "size": 10,
             "solidity": 0.2
            },
            "type": "scatter"
           }
          ],
          "scatter3d": [
           {
            "line": {
             "colorbar": {
              "outlinewidth": 0,
              "ticks": ""
             }
            },
            "marker": {
             "colorbar": {
              "outlinewidth": 0,
              "ticks": ""
             }
            },
            "type": "scatter3d"
           }
          ],
          "scattercarpet": [
           {
            "marker": {
             "colorbar": {
              "outlinewidth": 0,
              "ticks": ""
             }
            },
            "type": "scattercarpet"
           }
          ],
          "scattergeo": [
           {
            "marker": {
             "colorbar": {
              "outlinewidth": 0,
              "ticks": ""
             }
            },
            "type": "scattergeo"
           }
          ],
          "scattergl": [
           {
            "marker": {
             "colorbar": {
              "outlinewidth": 0,
              "ticks": ""
             }
            },
            "type": "scattergl"
           }
          ],
          "scattermapbox": [
           {
            "marker": {
             "colorbar": {
              "outlinewidth": 0,
              "ticks": ""
             }
            },
            "type": "scattermapbox"
           }
          ],
          "scatterpolar": [
           {
            "marker": {
             "colorbar": {
              "outlinewidth": 0,
              "ticks": ""
             }
            },
            "type": "scatterpolar"
           }
          ],
          "scatterpolargl": [
           {
            "marker": {
             "colorbar": {
              "outlinewidth": 0,
              "ticks": ""
             }
            },
            "type": "scatterpolargl"
           }
          ],
          "scatterternary": [
           {
            "marker": {
             "colorbar": {
              "outlinewidth": 0,
              "ticks": ""
             }
            },
            "type": "scatterternary"
           }
          ],
          "surface": [
           {
            "colorbar": {
             "outlinewidth": 0,
             "ticks": ""
            },
            "colorscale": [
             [
              0,
              "#0d0887"
             ],
             [
              0.1111111111111111,
              "#46039f"
             ],
             [
              0.2222222222222222,
              "#7201a8"
             ],
             [
              0.3333333333333333,
              "#9c179e"
             ],
             [
              0.4444444444444444,
              "#bd3786"
             ],
             [
              0.5555555555555556,
              "#d8576b"
             ],
             [
              0.6666666666666666,
              "#ed7953"
             ],
             [
              0.7777777777777778,
              "#fb9f3a"
             ],
             [
              0.8888888888888888,
              "#fdca26"
             ],
             [
              1,
              "#f0f921"
             ]
            ],
            "type": "surface"
           }
          ],
          "table": [
           {
            "cells": {
             "fill": {
              "color": "#EBF0F8"
             },
             "line": {
              "color": "white"
             }
            },
            "header": {
             "fill": {
              "color": "#C8D4E3"
             },
             "line": {
              "color": "white"
             }
            },
            "type": "table"
           }
          ]
         },
         "layout": {
          "annotationdefaults": {
           "arrowcolor": "#2a3f5f",
           "arrowhead": 0,
           "arrowwidth": 1
          },
          "autotypenumbers": "strict",
          "coloraxis": {
           "colorbar": {
            "outlinewidth": 0,
            "ticks": ""
           }
          },
          "colorscale": {
           "diverging": [
            [
             0,
             "#8e0152"
            ],
            [
             0.1,
             "#c51b7d"
            ],
            [
             0.2,
             "#de77ae"
            ],
            [
             0.3,
             "#f1b6da"
            ],
            [
             0.4,
             "#fde0ef"
            ],
            [
             0.5,
             "#f7f7f7"
            ],
            [
             0.6,
             "#e6f5d0"
            ],
            [
             0.7,
             "#b8e186"
            ],
            [
             0.8,
             "#7fbc41"
            ],
            [
             0.9,
             "#4d9221"
            ],
            [
             1,
             "#276419"
            ]
           ],
           "sequential": [
            [
             0,
             "#0d0887"
            ],
            [
             0.1111111111111111,
             "#46039f"
            ],
            [
             0.2222222222222222,
             "#7201a8"
            ],
            [
             0.3333333333333333,
             "#9c179e"
            ],
            [
             0.4444444444444444,
             "#bd3786"
            ],
            [
             0.5555555555555556,
             "#d8576b"
            ],
            [
             0.6666666666666666,
             "#ed7953"
            ],
            [
             0.7777777777777778,
             "#fb9f3a"
            ],
            [
             0.8888888888888888,
             "#fdca26"
            ],
            [
             1,
             "#f0f921"
            ]
           ],
           "sequentialminus": [
            [
             0,
             "#0d0887"
            ],
            [
             0.1111111111111111,
             "#46039f"
            ],
            [
             0.2222222222222222,
             "#7201a8"
            ],
            [
             0.3333333333333333,
             "#9c179e"
            ],
            [
             0.4444444444444444,
             "#bd3786"
            ],
            [
             0.5555555555555556,
             "#d8576b"
            ],
            [
             0.6666666666666666,
             "#ed7953"
            ],
            [
             0.7777777777777778,
             "#fb9f3a"
            ],
            [
             0.8888888888888888,
             "#fdca26"
            ],
            [
             1,
             "#f0f921"
            ]
           ]
          },
          "colorway": [
           "#636efa",
           "#EF553B",
           "#00cc96",
           "#ab63fa",
           "#FFA15A",
           "#19d3f3",
           "#FF6692",
           "#B6E880",
           "#FF97FF",
           "#FECB52"
          ],
          "font": {
           "color": "#2a3f5f"
          },
          "geo": {
           "bgcolor": "white",
           "lakecolor": "white",
           "landcolor": "#E5ECF6",
           "showlakes": true,
           "showland": true,
           "subunitcolor": "white"
          },
          "hoverlabel": {
           "align": "left"
          },
          "hovermode": "closest",
          "mapbox": {
           "style": "light"
          },
          "paper_bgcolor": "white",
          "plot_bgcolor": "#E5ECF6",
          "polar": {
           "angularaxis": {
            "gridcolor": "white",
            "linecolor": "white",
            "ticks": ""
           },
           "bgcolor": "#E5ECF6",
           "radialaxis": {
            "gridcolor": "white",
            "linecolor": "white",
            "ticks": ""
           }
          },
          "scene": {
           "xaxis": {
            "backgroundcolor": "#E5ECF6",
            "gridcolor": "white",
            "gridwidth": 2,
            "linecolor": "white",
            "showbackground": true,
            "ticks": "",
            "zerolinecolor": "white"
           },
           "yaxis": {
            "backgroundcolor": "#E5ECF6",
            "gridcolor": "white",
            "gridwidth": 2,
            "linecolor": "white",
            "showbackground": true,
            "ticks": "",
            "zerolinecolor": "white"
           },
           "zaxis": {
            "backgroundcolor": "#E5ECF6",
            "gridcolor": "white",
            "gridwidth": 2,
            "linecolor": "white",
            "showbackground": true,
            "ticks": "",
            "zerolinecolor": "white"
           }
          },
          "shapedefaults": {
           "line": {
            "color": "#2a3f5f"
           }
          },
          "ternary": {
           "aaxis": {
            "gridcolor": "white",
            "linecolor": "white",
            "ticks": ""
           },
           "baxis": {
            "gridcolor": "white",
            "linecolor": "white",
            "ticks": ""
           },
           "bgcolor": "#E5ECF6",
           "caxis": {
            "gridcolor": "white",
            "linecolor": "white",
            "ticks": ""
           }
          },
          "title": {
           "x": 0.05
          },
          "xaxis": {
           "automargin": true,
           "gridcolor": "white",
           "linecolor": "white",
           "ticks": "",
           "title": {
            "standoff": 15
           },
           "zerolinecolor": "white",
           "zerolinewidth": 2
          },
          "yaxis": {
           "automargin": true,
           "gridcolor": "white",
           "linecolor": "white",
           "ticks": "",
           "title": {
            "standoff": 15
           },
           "zerolinecolor": "white",
           "zerolinewidth": 2
          }
         }
        },
        "xaxis": {
         "anchor": "y",
         "domain": [
          0,
          1
         ],
         "title": {
          "text": "total_costs(m)"
         }
        },
        "yaxis": {
         "anchor": "x",
         "domain": [
          0,
          1
         ],
         "title": {
          "text": "total_benefits(m)"
         }
        }
       }
      }
     },
     "metadata": {},
     "output_type": "display_data"
    }
   ],
   "source": [
    "px.scatter(df, x = 'total_costs(m)', y = 'total_benefits(m)')"
   ]
  },
  {
   "attachments": {},
   "cell_type": "markdown",
   "metadata": {},
   "source": [
    "### Task 4: Feature Engineering\n",
    "Now, let's create a new column, representing the change in total_cost from the previous fiscal year.\n",
    "\n",
    "After you have the code working in the cell below, try to incorporate it into your function from task 2!"
   ]
  },
  {
   "cell_type": "code",
   "execution_count": 16,
   "metadata": {},
   "outputs": [
    {
     "data": {
      "text/html": [
       "<div>\n",
       "<style scoped>\n",
       "    .dataframe tbody tr th:only-of-type {\n",
       "        vertical-align: middle;\n",
       "    }\n",
       "\n",
       "    .dataframe tbody tr th {\n",
       "        vertical-align: top;\n",
       "    }\n",
       "\n",
       "    .dataframe thead th {\n",
       "        text-align: right;\n",
       "    }\n",
       "</style>\n",
       "<table border=\"1\" class=\"dataframe\">\n",
       "  <thead>\n",
       "    <tr style=\"text-align: right;\">\n",
       "      <th></th>\n",
       "      <th>fiscal_year</th>\n",
       "      <th>average_participation</th>\n",
       "      <th>average_benefit_per_person</th>\n",
       "      <th>total_benefits(m)</th>\n",
       "      <th>other_costs</th>\n",
       "      <th>total_costs(m)</th>\n",
       "      <th>change_total_cost_by_year</th>\n",
       "    </tr>\n",
       "  </thead>\n",
       "  <tbody>\n",
       "    <tr>\n",
       "      <th>0</th>\n",
       "      <td>1969</td>\n",
       "      <td>2,878</td>\n",
       "      <td>6.63</td>\n",
       "      <td>228.80</td>\n",
       "      <td>21.70</td>\n",
       "      <td>250.50</td>\n",
       "      <td>0.00</td>\n",
       "    </tr>\n",
       "    <tr>\n",
       "      <th>1</th>\n",
       "      <td>1970</td>\n",
       "      <td>4,340</td>\n",
       "      <td>10.55</td>\n",
       "      <td>549.70</td>\n",
       "      <td>27.20</td>\n",
       "      <td>576.90</td>\n",
       "      <td>326.40</td>\n",
       "    </tr>\n",
       "    <tr>\n",
       "      <th>2</th>\n",
       "      <td>1971</td>\n",
       "      <td>9,368</td>\n",
       "      <td>13.55</td>\n",
       "      <td>1,522.70</td>\n",
       "      <td>53.20</td>\n",
       "      <td>1575.90</td>\n",
       "      <td>999.00</td>\n",
       "    </tr>\n",
       "    <tr>\n",
       "      <th>3</th>\n",
       "      <td>1972</td>\n",
       "      <td>11,109</td>\n",
       "      <td>13.48</td>\n",
       "      <td>1,797.30</td>\n",
       "      <td>69.40</td>\n",
       "      <td>1866.70</td>\n",
       "      <td>290.80</td>\n",
       "    </tr>\n",
       "    <tr>\n",
       "      <th>4</th>\n",
       "      <td>1973</td>\n",
       "      <td>12,166</td>\n",
       "      <td>14.60</td>\n",
       "      <td>2,131.40</td>\n",
       "      <td>76.00</td>\n",
       "      <td>2207.40</td>\n",
       "      <td>340.70</td>\n",
       "    </tr>\n",
       "    <tr>\n",
       "      <th>5</th>\n",
       "      <td>1974</td>\n",
       "      <td>12,862</td>\n",
       "      <td>17.61</td>\n",
       "      <td>2,718.30</td>\n",
       "      <td>119.20</td>\n",
       "      <td>2837.50</td>\n",
       "      <td>630.10</td>\n",
       "    </tr>\n",
       "    <tr>\n",
       "      <th>6</th>\n",
       "      <td>1975</td>\n",
       "      <td>17,064</td>\n",
       "      <td>21.40</td>\n",
       "      <td>4,385.50</td>\n",
       "      <td>233.20</td>\n",
       "      <td>4618.70</td>\n",
       "      <td>1781.20</td>\n",
       "    </tr>\n",
       "    <tr>\n",
       "      <th>7</th>\n",
       "      <td>1976</td>\n",
       "      <td>18,549</td>\n",
       "      <td>23.93</td>\n",
       "      <td>5,326.50</td>\n",
       "      <td>359.00</td>\n",
       "      <td>5685.50</td>\n",
       "      <td>1066.80</td>\n",
       "    </tr>\n",
       "    <tr>\n",
       "      <th>8</th>\n",
       "      <td>1977</td>\n",
       "      <td>17,077</td>\n",
       "      <td>24.71</td>\n",
       "      <td>5,067.00</td>\n",
       "      <td>394.00</td>\n",
       "      <td>5461.00</td>\n",
       "      <td>-224.50</td>\n",
       "    </tr>\n",
       "    <tr>\n",
       "      <th>9</th>\n",
       "      <td>1978</td>\n",
       "      <td>16,001</td>\n",
       "      <td>26.77</td>\n",
       "      <td>5,139.20</td>\n",
       "      <td>380.50</td>\n",
       "      <td>5519.70</td>\n",
       "      <td>58.70</td>\n",
       "    </tr>\n",
       "    <tr>\n",
       "      <th>10</th>\n",
       "      <td>1979</td>\n",
       "      <td>17,653</td>\n",
       "      <td>30.59</td>\n",
       "      <td>6,480.20</td>\n",
       "      <td>459.60</td>\n",
       "      <td>6939.80</td>\n",
       "      <td>1420.10</td>\n",
       "    </tr>\n",
       "    <tr>\n",
       "      <th>11</th>\n",
       "      <td>1980</td>\n",
       "      <td>21,082</td>\n",
       "      <td>34.47</td>\n",
       "      <td>8,720.90</td>\n",
       "      <td>485.60</td>\n",
       "      <td>9206.50</td>\n",
       "      <td>2266.70</td>\n",
       "    </tr>\n",
       "    <tr>\n",
       "      <th>12</th>\n",
       "      <td>1981</td>\n",
       "      <td>22,430</td>\n",
       "      <td>39.49</td>\n",
       "      <td>10,629.90</td>\n",
       "      <td>595.40</td>\n",
       "      <td>11225.20</td>\n",
       "      <td>2018.70</td>\n",
       "    </tr>\n",
       "    <tr>\n",
       "      <th>13</th>\n",
       "      <td>1982</td>\n",
       "      <td>21,717</td>\n",
       "      <td>39.17</td>\n",
       "      <td>10,208.30</td>\n",
       "      <td>628.40</td>\n",
       "      <td>10836.70</td>\n",
       "      <td>-388.50</td>\n",
       "    </tr>\n",
       "    <tr>\n",
       "      <th>14</th>\n",
       "      <td>1983</td>\n",
       "      <td>21,625</td>\n",
       "      <td>42.98</td>\n",
       "      <td>11,152.30</td>\n",
       "      <td>694.80</td>\n",
       "      <td>11847.10</td>\n",
       "      <td>1010.40</td>\n",
       "    </tr>\n",
       "    <tr>\n",
       "      <th>15</th>\n",
       "      <td>1984</td>\n",
       "      <td>20,854</td>\n",
       "      <td>42.74</td>\n",
       "      <td>10,696.10</td>\n",
       "      <td>882.60</td>\n",
       "      <td>11578.80</td>\n",
       "      <td>-268.30</td>\n",
       "    </tr>\n",
       "    <tr>\n",
       "      <th>16</th>\n",
       "      <td>1985</td>\n",
       "      <td>19,899</td>\n",
       "      <td>44.99</td>\n",
       "      <td>10,743.60</td>\n",
       "      <td>959.60</td>\n",
       "      <td>11703.20</td>\n",
       "      <td>124.40</td>\n",
       "    </tr>\n",
       "    <tr>\n",
       "      <th>17</th>\n",
       "      <td>1986</td>\n",
       "      <td>19,429</td>\n",
       "      <td>45.49</td>\n",
       "      <td>10,605.20</td>\n",
       "      <td>1,033.20</td>\n",
       "      <td>11638.40</td>\n",
       "      <td>-64.80</td>\n",
       "    </tr>\n",
       "    <tr>\n",
       "      <th>18</th>\n",
       "      <td>1987</td>\n",
       "      <td>19,113</td>\n",
       "      <td>45.78</td>\n",
       "      <td>10,500.30</td>\n",
       "      <td>1,103.90</td>\n",
       "      <td>11604.20</td>\n",
       "      <td>-34.20</td>\n",
       "    </tr>\n",
       "    <tr>\n",
       "      <th>19</th>\n",
       "      <td>1988</td>\n",
       "      <td>18,645</td>\n",
       "      <td>49.83</td>\n",
       "      <td>11,149.10</td>\n",
       "      <td>1,167.70</td>\n",
       "      <td>12316.80</td>\n",
       "      <td>712.60</td>\n",
       "    </tr>\n",
       "    <tr>\n",
       "      <th>20</th>\n",
       "      <td>1989</td>\n",
       "      <td>18,806</td>\n",
       "      <td>51.71</td>\n",
       "      <td>11,669.78</td>\n",
       "      <td>1,231.81</td>\n",
       "      <td>12901.59</td>\n",
       "      <td>584.79</td>\n",
       "    </tr>\n",
       "    <tr>\n",
       "      <th>21</th>\n",
       "      <td>1990</td>\n",
       "      <td>20,049</td>\n",
       "      <td>58.78</td>\n",
       "      <td>14,142.79</td>\n",
       "      <td>1,304.47</td>\n",
       "      <td>15447.26</td>\n",
       "      <td>2545.67</td>\n",
       "    </tr>\n",
       "    <tr>\n",
       "      <th>22</th>\n",
       "      <td>1991</td>\n",
       "      <td>22,625</td>\n",
       "      <td>63.78</td>\n",
       "      <td>17,315.77</td>\n",
       "      <td>1,431.50</td>\n",
       "      <td>18747.27</td>\n",
       "      <td>3300.01</td>\n",
       "    </tr>\n",
       "    <tr>\n",
       "      <th>23</th>\n",
       "      <td>1992</td>\n",
       "      <td>25,407</td>\n",
       "      <td>68.57</td>\n",
       "      <td>20,905.68</td>\n",
       "      <td>1,556.66</td>\n",
       "      <td>22462.34</td>\n",
       "      <td>3715.07</td>\n",
       "    </tr>\n",
       "    <tr>\n",
       "      <th>24</th>\n",
       "      <td>1993</td>\n",
       "      <td>26,987</td>\n",
       "      <td>67.95</td>\n",
       "      <td>22,006.03</td>\n",
       "      <td>1,646.94</td>\n",
       "      <td>23652.97</td>\n",
       "      <td>1190.63</td>\n",
       "    </tr>\n",
       "    <tr>\n",
       "      <th>25</th>\n",
       "      <td>1994</td>\n",
       "      <td>27,474</td>\n",
       "      <td>69.00</td>\n",
       "      <td>22,748.58</td>\n",
       "      <td>1,744.87</td>\n",
       "      <td>24493.45</td>\n",
       "      <td>840.48</td>\n",
       "    </tr>\n",
       "    <tr>\n",
       "      <th>26</th>\n",
       "      <td>1995</td>\n",
       "      <td>26,619</td>\n",
       "      <td>71.27</td>\n",
       "      <td>22,764.07</td>\n",
       "      <td>1,856.30</td>\n",
       "      <td>24620.37</td>\n",
       "      <td>126.92</td>\n",
       "    </tr>\n",
       "    <tr>\n",
       "      <th>27</th>\n",
       "      <td>1996</td>\n",
       "      <td>25,543</td>\n",
       "      <td>73.21</td>\n",
       "      <td>22,440.11</td>\n",
       "      <td>1,890.88</td>\n",
       "      <td>24330.99</td>\n",
       "      <td>-289.38</td>\n",
       "    </tr>\n",
       "    <tr>\n",
       "      <th>28</th>\n",
       "      <td>1997</td>\n",
       "      <td>22,858</td>\n",
       "      <td>71.27</td>\n",
       "      <td>19,548.86</td>\n",
       "      <td>1,958.68</td>\n",
       "      <td>21507.55</td>\n",
       "      <td>-2823.44</td>\n",
       "    </tr>\n",
       "    <tr>\n",
       "      <th>29</th>\n",
       "      <td>1998</td>\n",
       "      <td>19,791</td>\n",
       "      <td>71.12</td>\n",
       "      <td>16,890.49</td>\n",
       "      <td>2,097.84</td>\n",
       "      <td>18988.32</td>\n",
       "      <td>-2519.23</td>\n",
       "    </tr>\n",
       "    <tr>\n",
       "      <th>30</th>\n",
       "      <td>1999</td>\n",
       "      <td>18,183</td>\n",
       "      <td>72.27</td>\n",
       "      <td>15,769.40</td>\n",
       "      <td>2,051.52</td>\n",
       "      <td>17820.92</td>\n",
       "      <td>-1167.40</td>\n",
       "    </tr>\n",
       "    <tr>\n",
       "      <th>31</th>\n",
       "      <td>2000</td>\n",
       "      <td>17,194</td>\n",
       "      <td>72.62</td>\n",
       "      <td>14,983.32</td>\n",
       "      <td>2,070.70</td>\n",
       "      <td>17054.02</td>\n",
       "      <td>-766.90</td>\n",
       "    </tr>\n",
       "    <tr>\n",
       "      <th>32</th>\n",
       "      <td>2001</td>\n",
       "      <td>17,318</td>\n",
       "      <td>74.81</td>\n",
       "      <td>15,547.39</td>\n",
       "      <td>2,242.00</td>\n",
       "      <td>17789.39</td>\n",
       "      <td>735.37</td>\n",
       "    </tr>\n",
       "    <tr>\n",
       "      <th>33</th>\n",
       "      <td>2002</td>\n",
       "      <td>19,096</td>\n",
       "      <td>79.67</td>\n",
       "      <td>18,256.20</td>\n",
       "      <td>2,380.82</td>\n",
       "      <td>20637.02</td>\n",
       "      <td>2847.63</td>\n",
       "    </tr>\n",
       "    <tr>\n",
       "      <th>34</th>\n",
       "      <td>2003</td>\n",
       "      <td>21,250</td>\n",
       "      <td>83.94</td>\n",
       "      <td>21,404.28</td>\n",
       "      <td>2,412.01</td>\n",
       "      <td>23816.28</td>\n",
       "      <td>3179.26</td>\n",
       "    </tr>\n",
       "    <tr>\n",
       "      <th>35</th>\n",
       "      <td>2004</td>\n",
       "      <td>23,811</td>\n",
       "      <td>86.16</td>\n",
       "      <td>24,618.89</td>\n",
       "      <td>2,480.14</td>\n",
       "      <td>27099.03</td>\n",
       "      <td>3282.75</td>\n",
       "    </tr>\n",
       "    <tr>\n",
       "      <th>36</th>\n",
       "      <td>2005</td>\n",
       "      <td>25,628</td>\n",
       "      <td>92.89</td>\n",
       "      <td>28,567.88</td>\n",
       "      <td>2,504.13</td>\n",
       "      <td>31072.01</td>\n",
       "      <td>3972.98</td>\n",
       "    </tr>\n",
       "    <tr>\n",
       "      <th>37</th>\n",
       "      <td>2006</td>\n",
       "      <td>26,549</td>\n",
       "      <td>94.75</td>\n",
       "      <td>30,187.35</td>\n",
       "      <td>2,715.72</td>\n",
       "      <td>32903.06</td>\n",
       "      <td>1831.05</td>\n",
       "    </tr>\n",
       "    <tr>\n",
       "      <th>38</th>\n",
       "      <td>2007</td>\n",
       "      <td>26,316</td>\n",
       "      <td>96.18</td>\n",
       "      <td>30,373.27</td>\n",
       "      <td>2,800.25</td>\n",
       "      <td>33173.52</td>\n",
       "      <td>270.46</td>\n",
       "    </tr>\n",
       "    <tr>\n",
       "      <th>39</th>\n",
       "      <td>2008</td>\n",
       "      <td>28,223</td>\n",
       "      <td>102.19</td>\n",
       "      <td>34,608.40</td>\n",
       "      <td>3,031.25</td>\n",
       "      <td>37639.64</td>\n",
       "      <td>4466.12</td>\n",
       "    </tr>\n",
       "    <tr>\n",
       "      <th>40</th>\n",
       "      <td>2009</td>\n",
       "      <td>33,490</td>\n",
       "      <td>125.31</td>\n",
       "      <td>50,359.92</td>\n",
       "      <td>3,260.00</td>\n",
       "      <td>53619.92</td>\n",
       "      <td>15980.28</td>\n",
       "    </tr>\n",
       "    <tr>\n",
       "      <th>41</th>\n",
       "      <td>2010</td>\n",
       "      <td>40,302</td>\n",
       "      <td>133.79</td>\n",
       "      <td>64,702.16</td>\n",
       "      <td>3,581.30</td>\n",
       "      <td>68283.47</td>\n",
       "      <td>14663.55</td>\n",
       "    </tr>\n",
       "    <tr>\n",
       "      <th>42</th>\n",
       "      <td>2011</td>\n",
       "      <td>44,709</td>\n",
       "      <td>133.85</td>\n",
       "      <td>71,810.92</td>\n",
       "      <td>3,875.62</td>\n",
       "      <td>75686.54</td>\n",
       "      <td>7403.07</td>\n",
       "    </tr>\n",
       "    <tr>\n",
       "      <th>43</th>\n",
       "      <td>2012</td>\n",
       "      <td>46,609</td>\n",
       "      <td>133.41</td>\n",
       "      <td>74,619.34</td>\n",
       "      <td>3,791.75</td>\n",
       "      <td>78411.10</td>\n",
       "      <td>2724.56</td>\n",
       "    </tr>\n",
       "    <tr>\n",
       "      <th>44</th>\n",
       "      <td>2013</td>\n",
       "      <td>47,636</td>\n",
       "      <td>133.07</td>\n",
       "      <td>76,066.32</td>\n",
       "      <td>3,792.71</td>\n",
       "      <td>79859.03</td>\n",
       "      <td>1447.93</td>\n",
       "    </tr>\n",
       "    <tr>\n",
       "      <th>45</th>\n",
       "      <td>2014</td>\n",
       "      <td>46,664</td>\n",
       "      <td>125.01</td>\n",
       "      <td>69,998.84</td>\n",
       "      <td>4,061.49</td>\n",
       "      <td>74060.33</td>\n",
       "      <td>-5798.70</td>\n",
       "    </tr>\n",
       "    <tr>\n",
       "      <th>46</th>\n",
       "      <td>2015</td>\n",
       "      <td>45,767</td>\n",
       "      <td>126.81</td>\n",
       "      <td>69,645.14</td>\n",
       "      <td>4,301.03</td>\n",
       "      <td>73946.17</td>\n",
       "      <td>-114.16</td>\n",
       "    </tr>\n",
       "    <tr>\n",
       "      <th>47</th>\n",
       "      <td>2016</td>\n",
       "      <td>44,220</td>\n",
       "      <td>125.40</td>\n",
       "      <td>66,539.27</td>\n",
       "      <td>4,374.28</td>\n",
       "      <td>70913.55</td>\n",
       "      <td>-3032.62</td>\n",
       "    </tr>\n",
       "    <tr>\n",
       "      <th>48</th>\n",
       "      <td>2017</td>\n",
       "      <td>42,317</td>\n",
       "      <td>125.47</td>\n",
       "      <td>63,711.05</td>\n",
       "      <td>4,463.67</td>\n",
       "      <td>68174.72</td>\n",
       "      <td>-2738.83</td>\n",
       "    </tr>\n",
       "    <tr>\n",
       "      <th>49</th>\n",
       "      <td>2018</td>\n",
       "      <td>40,776</td>\n",
       "      <td>124.50</td>\n",
       "      <td>60,916.85</td>\n",
       "      <td>4,529.55</td>\n",
       "      <td>65446.40</td>\n",
       "      <td>-2728.32</td>\n",
       "    </tr>\n",
       "    <tr>\n",
       "      <th>50</th>\n",
       "      <td>2019</td>\n",
       "      <td>35,703</td>\n",
       "      <td>129.83</td>\n",
       "      <td>55,621.88</td>\n",
       "      <td>4,744.33</td>\n",
       "      <td>60366.21</td>\n",
       "      <td>-5080.19</td>\n",
       "    </tr>\n",
       "  </tbody>\n",
       "</table>\n",
       "</div>"
      ],
      "text/plain": [
       "   fiscal_year average_participation  average_benefit_per_person  \\\n",
       "0         1969                 2,878                        6.63   \n",
       "1         1970                 4,340                       10.55   \n",
       "2         1971                 9,368                       13.55   \n",
       "3         1972                11,109                       13.48   \n",
       "4         1973                12,166                       14.60   \n",
       "5         1974                12,862                       17.61   \n",
       "6         1975                17,064                       21.40   \n",
       "7         1976                18,549                       23.93   \n",
       "8         1977                17,077                       24.71   \n",
       "9         1978                16,001                       26.77   \n",
       "10        1979                17,653                       30.59   \n",
       "11        1980                21,082                       34.47   \n",
       "12        1981                22,430                       39.49   \n",
       "13        1982                21,717                       39.17   \n",
       "14        1983                21,625                       42.98   \n",
       "15        1984                20,854                       42.74   \n",
       "16        1985                19,899                       44.99   \n",
       "17        1986                19,429                       45.49   \n",
       "18        1987                19,113                       45.78   \n",
       "19        1988                18,645                       49.83   \n",
       "20        1989                18,806                       51.71   \n",
       "21        1990                20,049                       58.78   \n",
       "22        1991                22,625                       63.78   \n",
       "23        1992                25,407                       68.57   \n",
       "24        1993                26,987                       67.95   \n",
       "25        1994                27,474                       69.00   \n",
       "26        1995                26,619                       71.27   \n",
       "27        1996                25,543                       73.21   \n",
       "28        1997                22,858                       71.27   \n",
       "29        1998                19,791                       71.12   \n",
       "30        1999                18,183                       72.27   \n",
       "31        2000                17,194                       72.62   \n",
       "32        2001                17,318                       74.81   \n",
       "33        2002                19,096                       79.67   \n",
       "34        2003                21,250                       83.94   \n",
       "35        2004                23,811                       86.16   \n",
       "36        2005                25,628                       92.89   \n",
       "37        2006                26,549                       94.75   \n",
       "38        2007                26,316                       96.18   \n",
       "39        2008                28,223                      102.19   \n",
       "40        2009                33,490                      125.31   \n",
       "41        2010                40,302                      133.79   \n",
       "42        2011                44,709                      133.85   \n",
       "43        2012                46,609                      133.41   \n",
       "44        2013                47,636                      133.07   \n",
       "45        2014                46,664                      125.01   \n",
       "46        2015                45,767                      126.81   \n",
       "47        2016                44,220                      125.40   \n",
       "48        2017                42,317                      125.47   \n",
       "49        2018                40,776                      124.50   \n",
       "50        2019                35,703                      129.83   \n",
       "\n",
       "   total_benefits(m) other_costs  total_costs(m)  change_total_cost_by_year  \n",
       "0             228.80       21.70          250.50                       0.00  \n",
       "1             549.70       27.20          576.90                     326.40  \n",
       "2           1,522.70       53.20         1575.90                     999.00  \n",
       "3           1,797.30       69.40         1866.70                     290.80  \n",
       "4           2,131.40       76.00         2207.40                     340.70  \n",
       "5           2,718.30      119.20         2837.50                     630.10  \n",
       "6           4,385.50      233.20         4618.70                    1781.20  \n",
       "7           5,326.50      359.00         5685.50                    1066.80  \n",
       "8           5,067.00      394.00         5461.00                    -224.50  \n",
       "9           5,139.20      380.50         5519.70                      58.70  \n",
       "10          6,480.20      459.60         6939.80                    1420.10  \n",
       "11          8,720.90      485.60         9206.50                    2266.70  \n",
       "12         10,629.90      595.40        11225.20                    2018.70  \n",
       "13         10,208.30      628.40        10836.70                    -388.50  \n",
       "14         11,152.30      694.80        11847.10                    1010.40  \n",
       "15         10,696.10      882.60        11578.80                    -268.30  \n",
       "16         10,743.60      959.60        11703.20                     124.40  \n",
       "17         10,605.20    1,033.20        11638.40                     -64.80  \n",
       "18         10,500.30    1,103.90        11604.20                     -34.20  \n",
       "19         11,149.10    1,167.70        12316.80                     712.60  \n",
       "20         11,669.78    1,231.81        12901.59                     584.79  \n",
       "21         14,142.79    1,304.47        15447.26                    2545.67  \n",
       "22         17,315.77    1,431.50        18747.27                    3300.01  \n",
       "23         20,905.68    1,556.66        22462.34                    3715.07  \n",
       "24         22,006.03    1,646.94        23652.97                    1190.63  \n",
       "25         22,748.58    1,744.87        24493.45                     840.48  \n",
       "26         22,764.07    1,856.30        24620.37                     126.92  \n",
       "27         22,440.11    1,890.88        24330.99                    -289.38  \n",
       "28         19,548.86    1,958.68        21507.55                   -2823.44  \n",
       "29         16,890.49    2,097.84        18988.32                   -2519.23  \n",
       "30         15,769.40    2,051.52        17820.92                   -1167.40  \n",
       "31         14,983.32    2,070.70        17054.02                    -766.90  \n",
       "32         15,547.39    2,242.00        17789.39                     735.37  \n",
       "33         18,256.20    2,380.82        20637.02                    2847.63  \n",
       "34         21,404.28    2,412.01        23816.28                    3179.26  \n",
       "35         24,618.89    2,480.14        27099.03                    3282.75  \n",
       "36         28,567.88    2,504.13        31072.01                    3972.98  \n",
       "37         30,187.35    2,715.72        32903.06                    1831.05  \n",
       "38         30,373.27    2,800.25        33173.52                     270.46  \n",
       "39         34,608.40    3,031.25        37639.64                    4466.12  \n",
       "40         50,359.92    3,260.00        53619.92                   15980.28  \n",
       "41         64,702.16    3,581.30        68283.47                   14663.55  \n",
       "42         71,810.92    3,875.62        75686.54                    7403.07  \n",
       "43         74,619.34    3,791.75        78411.10                    2724.56  \n",
       "44         76,066.32    3,792.71        79859.03                    1447.93  \n",
       "45         69,998.84    4,061.49        74060.33                   -5798.70  \n",
       "46         69,645.14    4,301.03        73946.17                    -114.16  \n",
       "47         66,539.27    4,374.28        70913.55                   -3032.62  \n",
       "48         63,711.05    4,463.67        68174.72                   -2738.83  \n",
       "49         60,916.85    4,529.55        65446.40                   -2728.32  \n",
       "50         55,621.88    4,744.33        60366.21                   -5080.19  "
      ]
     },
     "execution_count": 16,
     "metadata": {},
     "output_type": "execute_result"
    }
   ],
   "source": [
    "df['total_costs(m)'] = df['total_costs(m)'].astype('float64')\n",
    "df['change_total_cost_by_year'] = df['total_costs(m)'].diff().fillna(0)\n",
    "df"
   ]
  },
  {
   "attachments": {},
   "cell_type": "markdown",
   "metadata": {},
   "source": [
    "### Task 5: Heatmap\n",
    "\n",
    "Create a heatmap visualization. Return text in the heatmap and move the x axes to the top of the graph. "
   ]
  },
  {
   "cell_type": "code",
   "execution_count": 22,
   "metadata": {},
   "outputs": [
    {
     "data": {
      "application/vnd.plotly.v1+json": {
       "config": {
        "plotlyServerURL": "https://plot.ly"
       },
       "data": [
        {
         "coloraxis": "coloraxis",
         "hovertemplate": "x: %{x}<br>y: %{y}<br>color: %{z}<extra></extra>",
         "name": "0",
         "type": "heatmap",
         "x": [
          "fiscal_year",
          "average_participation",
          "average_benefit_per_person",
          "total_benefits(m)",
          "other_costs",
          "total_costs(m)",
          "change_total_cost_by_year"
         ],
         "xaxis": "x",
         "y": [
          0,
          1,
          2,
          3,
          4,
          5,
          6,
          7,
          8,
          9,
          10,
          11,
          12,
          13,
          14,
          15,
          16,
          17,
          18,
          19,
          20,
          21,
          22,
          23,
          24,
          25,
          26,
          27,
          28,
          29,
          30,
          31,
          32,
          33,
          34,
          35,
          36,
          37,
          38,
          39,
          40,
          41,
          42,
          43,
          44,
          45,
          46,
          47,
          48,
          49,
          50
         ],
         "yaxis": "y",
         "z": [
          [
           "1969",
           "2,878",
           6.63,
           "228.80",
           "21.70",
           250.5,
           0
          ],
          [
           "1970",
           "4,340",
           10.55,
           "549.70",
           "27.20",
           576.9,
           326.4
          ],
          [
           "1971",
           "9,368",
           13.55,
           "1,522.70",
           "53.20",
           1575.9,
           999.0000000000001
          ],
          [
           "1972",
           "11,109",
           13.48,
           "1,797.30",
           "69.40",
           1866.7,
           290.79999999999995
          ],
          [
           "1973",
           "12,166",
           14.6,
           "2,131.40",
           "76.00",
           2207.4,
           340.70000000000005
          ],
          [
           "1974",
           "12,862",
           17.61,
           "2,718.30",
           "119.20",
           2837.5,
           630.0999999999999
          ],
          [
           "1975",
           "17,064",
           21.4,
           "4,385.50",
           "233.20",
           4618.7,
           1781.1999999999998
          ],
          [
           "1976",
           "18,549",
           23.93,
           "5,326.50",
           "359.00",
           5685.5,
           1066.8000000000002
          ],
          [
           "1977",
           "17,077",
           24.71,
           "5,067.00",
           "394.00",
           5461,
           -224.5
          ],
          [
           "1978",
           "16,001",
           26.77,
           "5,139.20",
           "380.50",
           5519.7,
           58.69999999999982
          ],
          [
           "1979",
           "17,653",
           30.59,
           "6,480.20",
           "459.60",
           6939.8,
           1420.1000000000004
          ],
          [
           "1980",
           "21,082",
           34.47,
           "8,720.90",
           "485.60",
           9206.5,
           2266.7
          ],
          [
           "1981",
           "22,430",
           39.49,
           "10,629.90",
           "595.40",
           11225.2,
           2018.7000000000007
          ],
          [
           1982,
           "21,717",
           39.17,
           "10,208.30",
           "628.40",
           10836.7,
           -388.5
          ],
          [
           "1983",
           "21,625",
           42.98,
           "11,152.30",
           "694.80",
           11847.1,
           1010.3999999999996
          ],
          [
           "1984",
           "20,854",
           42.74,
           "10,696.10",
           "882.60",
           11578.8,
           -268.3000000000011
          ],
          [
           "1985",
           "19,899",
           44.99,
           "10,743.60",
           "959.60",
           11703.2,
           124.40000000000146
          ],
          [
           "1986",
           "19,429",
           45.49,
           "10,605.20",
           "1,033.20",
           11638.4,
           -64.80000000000109
          ],
          [
           "1987",
           "19,113",
           45.78,
           "10,500.30",
           "1,103.90",
           11604.2,
           -34.19999999999891
          ],
          [
           "1988",
           "18,645",
           49.83,
           "11,149.10",
           "1,167.70",
           12316.8,
           712.5999999999985
          ],
          [
           "1989",
           "18,806",
           51.71,
           "11,669.78",
           "1,231.81",
           12901.59,
           584.7900000000009
          ],
          [
           "1990",
           "20,049",
           58.78,
           "14,142.79",
           "1,304.47",
           15447.26,
           2545.67
          ],
          [
           "1991",
           "22,625",
           63.78,
           "17,315.77",
           "1,431.50",
           18747.27,
           3300.01
          ],
          [
           "1992",
           "25,407",
           68.57,
           "20,905.68",
           "1,556.66",
           22462.34,
           3715.0699999999997
          ],
          [
           "1993",
           "26,987",
           67.95,
           "22,006.03",
           "1,646.94",
           23652.97,
           1190.630000000001
          ],
          [
           "1994",
           "27,474",
           69,
           "22,748.58",
           "1,744.87",
           24493.45,
           840.4799999999996
          ],
          [
           "1995",
           "26,619",
           71.27,
           "22,764.07",
           "1,856.30",
           24620.37,
           126.91999999999825
          ],
          [
           "1996",
           "25,543",
           73.21,
           "22,440.11",
           "1,890.88",
           24330.99,
           -289.3799999999974
          ],
          [
           "1997",
           "22,858",
           71.27,
           "19,548.86",
           "1,958.68",
           21507.55,
           -2823.4400000000023
          ],
          [
           "1998",
           "19,791",
           71.12,
           "16,890.49",
           "2,097.84",
           18988.32,
           -2519.2299999999996
          ],
          [
           "1999",
           "18,183",
           72.27,
           "15,769.40",
           "2,051.52",
           17820.92,
           -1167.4000000000015
          ],
          [
           "2000",
           "17,194",
           72.62,
           "14,983.32",
           "2,070.70",
           17054.02,
           -766.8999999999978
          ],
          [
           "2001",
           "17,318",
           74.81,
           "15,547.39",
           "2,242.00",
           17789.39,
           735.369999999999
          ],
          [
           "2002",
           "19,096",
           79.67,
           "18,256.20",
           "2,380.82",
           20637.02,
           2847.630000000001
          ],
          [
           "2003",
           "21,250",
           83.94,
           "21,404.28",
           "2,412.01",
           23816.28,
           3179.2599999999984
          ],
          [
           "2004",
           "23,811",
           86.16,
           "24,618.89",
           "2,480.14",
           27099.03,
           3282.75
          ],
          [
           "2005",
           "25,628",
           92.89,
           "28,567.88",
           "2,504.13",
           31072.01,
           3972.9799999999996
          ],
          [
           "2006",
           "26,549",
           94.75,
           "30,187.35",
           "2,715.72",
           32903.06,
           1831.0499999999993
          ],
          [
           "2007",
           "26,316",
           96.18,
           "30,373.27",
           "2,800.25",
           33173.52,
           270.4599999999991
          ],
          [
           "2008",
           "28,223",
           102.19,
           "34,608.40",
           "3,031.25",
           37639.64,
           4466.120000000003
          ],
          [
           "2009",
           "33,490",
           125.31,
           "50,359.92",
           "3,260.00",
           53619.92,
           15980.279999999999
          ],
          [
           "2010",
           "40,302",
           133.79,
           "64,702.16",
           "3,581.30",
           68283.47,
           14663.550000000003
          ],
          [
           "2011",
           "44,709",
           133.85,
           "71,810.92",
           "3,875.62",
           75686.54,
           7403.069999999992
          ],
          [
           "2012",
           "46,609",
           133.41,
           "74,619.34",
           "3,791.75",
           78411.1,
           2724.560000000012
          ],
          [
           "2013",
           "47,636",
           133.07,
           "76,066.32",
           "3,792.71",
           79859.03,
           1447.929999999993
          ],
          [
           "2014",
           "46,664",
           125.01,
           "69,998.84",
           "4,061.49",
           74060.33,
           -5798.699999999997
          ],
          [
           "2015",
           "45,767",
           126.81,
           "69,645.14",
           "4,301.03",
           73946.17,
           -114.16000000000349
          ],
          [
           "2016",
           "44,220",
           125.4,
           "66,539.27",
           "4,374.28",
           70913.55,
           -3032.6199999999953
          ],
          [
           "2017",
           "42,317",
           125.47,
           "63,711.05",
           "4,463.67",
           68174.72,
           -2738.8300000000017
          ],
          [
           "2018",
           "40,776",
           124.5,
           "60,916.85",
           "4,529.55",
           65446.4,
           -2728.3199999999997
          ],
          [
           "2019",
           "35,703",
           129.83,
           "55,621.88",
           "4,744.33",
           60366.21,
           -5080.190000000002
          ]
         ]
        }
       ],
       "layout": {
        "coloraxis": {
         "colorscale": [
          [
           0,
           "#0d0887"
          ],
          [
           0.1111111111111111,
           "#46039f"
          ],
          [
           0.2222222222222222,
           "#7201a8"
          ],
          [
           0.3333333333333333,
           "#9c179e"
          ],
          [
           0.4444444444444444,
           "#bd3786"
          ],
          [
           0.5555555555555556,
           "#d8576b"
          ],
          [
           0.6666666666666666,
           "#ed7953"
          ],
          [
           0.7777777777777778,
           "#fb9f3a"
          ],
          [
           0.8888888888888888,
           "#fdca26"
          ],
          [
           1,
           "#f0f921"
          ]
         ]
        },
        "margin": {
         "t": 60
        },
        "template": {
         "data": {
          "bar": [
           {
            "error_x": {
             "color": "#2a3f5f"
            },
            "error_y": {
             "color": "#2a3f5f"
            },
            "marker": {
             "line": {
              "color": "#E5ECF6",
              "width": 0.5
             },
             "pattern": {
              "fillmode": "overlay",
              "size": 10,
              "solidity": 0.2
             }
            },
            "type": "bar"
           }
          ],
          "barpolar": [
           {
            "marker": {
             "line": {
              "color": "#E5ECF6",
              "width": 0.5
             },
             "pattern": {
              "fillmode": "overlay",
              "size": 10,
              "solidity": 0.2
             }
            },
            "type": "barpolar"
           }
          ],
          "carpet": [
           {
            "aaxis": {
             "endlinecolor": "#2a3f5f",
             "gridcolor": "white",
             "linecolor": "white",
             "minorgridcolor": "white",
             "startlinecolor": "#2a3f5f"
            },
            "baxis": {
             "endlinecolor": "#2a3f5f",
             "gridcolor": "white",
             "linecolor": "white",
             "minorgridcolor": "white",
             "startlinecolor": "#2a3f5f"
            },
            "type": "carpet"
           }
          ],
          "choropleth": [
           {
            "colorbar": {
             "outlinewidth": 0,
             "ticks": ""
            },
            "type": "choropleth"
           }
          ],
          "contour": [
           {
            "colorbar": {
             "outlinewidth": 0,
             "ticks": ""
            },
            "colorscale": [
             [
              0,
              "#0d0887"
             ],
             [
              0.1111111111111111,
              "#46039f"
             ],
             [
              0.2222222222222222,
              "#7201a8"
             ],
             [
              0.3333333333333333,
              "#9c179e"
             ],
             [
              0.4444444444444444,
              "#bd3786"
             ],
             [
              0.5555555555555556,
              "#d8576b"
             ],
             [
              0.6666666666666666,
              "#ed7953"
             ],
             [
              0.7777777777777778,
              "#fb9f3a"
             ],
             [
              0.8888888888888888,
              "#fdca26"
             ],
             [
              1,
              "#f0f921"
             ]
            ],
            "type": "contour"
           }
          ],
          "contourcarpet": [
           {
            "colorbar": {
             "outlinewidth": 0,
             "ticks": ""
            },
            "type": "contourcarpet"
           }
          ],
          "heatmap": [
           {
            "colorbar": {
             "outlinewidth": 0,
             "ticks": ""
            },
            "colorscale": [
             [
              0,
              "#0d0887"
             ],
             [
              0.1111111111111111,
              "#46039f"
             ],
             [
              0.2222222222222222,
              "#7201a8"
             ],
             [
              0.3333333333333333,
              "#9c179e"
             ],
             [
              0.4444444444444444,
              "#bd3786"
             ],
             [
              0.5555555555555556,
              "#d8576b"
             ],
             [
              0.6666666666666666,
              "#ed7953"
             ],
             [
              0.7777777777777778,
              "#fb9f3a"
             ],
             [
              0.8888888888888888,
              "#fdca26"
             ],
             [
              1,
              "#f0f921"
             ]
            ],
            "type": "heatmap"
           }
          ],
          "heatmapgl": [
           {
            "colorbar": {
             "outlinewidth": 0,
             "ticks": ""
            },
            "colorscale": [
             [
              0,
              "#0d0887"
             ],
             [
              0.1111111111111111,
              "#46039f"
             ],
             [
              0.2222222222222222,
              "#7201a8"
             ],
             [
              0.3333333333333333,
              "#9c179e"
             ],
             [
              0.4444444444444444,
              "#bd3786"
             ],
             [
              0.5555555555555556,
              "#d8576b"
             ],
             [
              0.6666666666666666,
              "#ed7953"
             ],
             [
              0.7777777777777778,
              "#fb9f3a"
             ],
             [
              0.8888888888888888,
              "#fdca26"
             ],
             [
              1,
              "#f0f921"
             ]
            ],
            "type": "heatmapgl"
           }
          ],
          "histogram": [
           {
            "marker": {
             "pattern": {
              "fillmode": "overlay",
              "size": 10,
              "solidity": 0.2
             }
            },
            "type": "histogram"
           }
          ],
          "histogram2d": [
           {
            "colorbar": {
             "outlinewidth": 0,
             "ticks": ""
            },
            "colorscale": [
             [
              0,
              "#0d0887"
             ],
             [
              0.1111111111111111,
              "#46039f"
             ],
             [
              0.2222222222222222,
              "#7201a8"
             ],
             [
              0.3333333333333333,
              "#9c179e"
             ],
             [
              0.4444444444444444,
              "#bd3786"
             ],
             [
              0.5555555555555556,
              "#d8576b"
             ],
             [
              0.6666666666666666,
              "#ed7953"
             ],
             [
              0.7777777777777778,
              "#fb9f3a"
             ],
             [
              0.8888888888888888,
              "#fdca26"
             ],
             [
              1,
              "#f0f921"
             ]
            ],
            "type": "histogram2d"
           }
          ],
          "histogram2dcontour": [
           {
            "colorbar": {
             "outlinewidth": 0,
             "ticks": ""
            },
            "colorscale": [
             [
              0,
              "#0d0887"
             ],
             [
              0.1111111111111111,
              "#46039f"
             ],
             [
              0.2222222222222222,
              "#7201a8"
             ],
             [
              0.3333333333333333,
              "#9c179e"
             ],
             [
              0.4444444444444444,
              "#bd3786"
             ],
             [
              0.5555555555555556,
              "#d8576b"
             ],
             [
              0.6666666666666666,
              "#ed7953"
             ],
             [
              0.7777777777777778,
              "#fb9f3a"
             ],
             [
              0.8888888888888888,
              "#fdca26"
             ],
             [
              1,
              "#f0f921"
             ]
            ],
            "type": "histogram2dcontour"
           }
          ],
          "mesh3d": [
           {
            "colorbar": {
             "outlinewidth": 0,
             "ticks": ""
            },
            "type": "mesh3d"
           }
          ],
          "parcoords": [
           {
            "line": {
             "colorbar": {
              "outlinewidth": 0,
              "ticks": ""
             }
            },
            "type": "parcoords"
           }
          ],
          "pie": [
           {
            "automargin": true,
            "type": "pie"
           }
          ],
          "scatter": [
           {
            "fillpattern": {
             "fillmode": "overlay",
             "size": 10,
             "solidity": 0.2
            },
            "type": "scatter"
           }
          ],
          "scatter3d": [
           {
            "line": {
             "colorbar": {
              "outlinewidth": 0,
              "ticks": ""
             }
            },
            "marker": {
             "colorbar": {
              "outlinewidth": 0,
              "ticks": ""
             }
            },
            "type": "scatter3d"
           }
          ],
          "scattercarpet": [
           {
            "marker": {
             "colorbar": {
              "outlinewidth": 0,
              "ticks": ""
             }
            },
            "type": "scattercarpet"
           }
          ],
          "scattergeo": [
           {
            "marker": {
             "colorbar": {
              "outlinewidth": 0,
              "ticks": ""
             }
            },
            "type": "scattergeo"
           }
          ],
          "scattergl": [
           {
            "marker": {
             "colorbar": {
              "outlinewidth": 0,
              "ticks": ""
             }
            },
            "type": "scattergl"
           }
          ],
          "scattermapbox": [
           {
            "marker": {
             "colorbar": {
              "outlinewidth": 0,
              "ticks": ""
             }
            },
            "type": "scattermapbox"
           }
          ],
          "scatterpolar": [
           {
            "marker": {
             "colorbar": {
              "outlinewidth": 0,
              "ticks": ""
             }
            },
            "type": "scatterpolar"
           }
          ],
          "scatterpolargl": [
           {
            "marker": {
             "colorbar": {
              "outlinewidth": 0,
              "ticks": ""
             }
            },
            "type": "scatterpolargl"
           }
          ],
          "scatterternary": [
           {
            "marker": {
             "colorbar": {
              "outlinewidth": 0,
              "ticks": ""
             }
            },
            "type": "scatterternary"
           }
          ],
          "surface": [
           {
            "colorbar": {
             "outlinewidth": 0,
             "ticks": ""
            },
            "colorscale": [
             [
              0,
              "#0d0887"
             ],
             [
              0.1111111111111111,
              "#46039f"
             ],
             [
              0.2222222222222222,
              "#7201a8"
             ],
             [
              0.3333333333333333,
              "#9c179e"
             ],
             [
              0.4444444444444444,
              "#bd3786"
             ],
             [
              0.5555555555555556,
              "#d8576b"
             ],
             [
              0.6666666666666666,
              "#ed7953"
             ],
             [
              0.7777777777777778,
              "#fb9f3a"
             ],
             [
              0.8888888888888888,
              "#fdca26"
             ],
             [
              1,
              "#f0f921"
             ]
            ],
            "type": "surface"
           }
          ],
          "table": [
           {
            "cells": {
             "fill": {
              "color": "#EBF0F8"
             },
             "line": {
              "color": "white"
             }
            },
            "header": {
             "fill": {
              "color": "#C8D4E3"
             },
             "line": {
              "color": "white"
             }
            },
            "type": "table"
           }
          ]
         },
         "layout": {
          "annotationdefaults": {
           "arrowcolor": "#2a3f5f",
           "arrowhead": 0,
           "arrowwidth": 1
          },
          "autotypenumbers": "strict",
          "coloraxis": {
           "colorbar": {
            "outlinewidth": 0,
            "ticks": ""
           }
          },
          "colorscale": {
           "diverging": [
            [
             0,
             "#8e0152"
            ],
            [
             0.1,
             "#c51b7d"
            ],
            [
             0.2,
             "#de77ae"
            ],
            [
             0.3,
             "#f1b6da"
            ],
            [
             0.4,
             "#fde0ef"
            ],
            [
             0.5,
             "#f7f7f7"
            ],
            [
             0.6,
             "#e6f5d0"
            ],
            [
             0.7,
             "#b8e186"
            ],
            [
             0.8,
             "#7fbc41"
            ],
            [
             0.9,
             "#4d9221"
            ],
            [
             1,
             "#276419"
            ]
           ],
           "sequential": [
            [
             0,
             "#0d0887"
            ],
            [
             0.1111111111111111,
             "#46039f"
            ],
            [
             0.2222222222222222,
             "#7201a8"
            ],
            [
             0.3333333333333333,
             "#9c179e"
            ],
            [
             0.4444444444444444,
             "#bd3786"
            ],
            [
             0.5555555555555556,
             "#d8576b"
            ],
            [
             0.6666666666666666,
             "#ed7953"
            ],
            [
             0.7777777777777778,
             "#fb9f3a"
            ],
            [
             0.8888888888888888,
             "#fdca26"
            ],
            [
             1,
             "#f0f921"
            ]
           ],
           "sequentialminus": [
            [
             0,
             "#0d0887"
            ],
            [
             0.1111111111111111,
             "#46039f"
            ],
            [
             0.2222222222222222,
             "#7201a8"
            ],
            [
             0.3333333333333333,
             "#9c179e"
            ],
            [
             0.4444444444444444,
             "#bd3786"
            ],
            [
             0.5555555555555556,
             "#d8576b"
            ],
            [
             0.6666666666666666,
             "#ed7953"
            ],
            [
             0.7777777777777778,
             "#fb9f3a"
            ],
            [
             0.8888888888888888,
             "#fdca26"
            ],
            [
             1,
             "#f0f921"
            ]
           ]
          },
          "colorway": [
           "#636efa",
           "#EF553B",
           "#00cc96",
           "#ab63fa",
           "#FFA15A",
           "#19d3f3",
           "#FF6692",
           "#B6E880",
           "#FF97FF",
           "#FECB52"
          ],
          "font": {
           "color": "#2a3f5f"
          },
          "geo": {
           "bgcolor": "white",
           "lakecolor": "white",
           "landcolor": "#E5ECF6",
           "showlakes": true,
           "showland": true,
           "subunitcolor": "white"
          },
          "hoverlabel": {
           "align": "left"
          },
          "hovermode": "closest",
          "mapbox": {
           "style": "light"
          },
          "paper_bgcolor": "white",
          "plot_bgcolor": "#E5ECF6",
          "polar": {
           "angularaxis": {
            "gridcolor": "white",
            "linecolor": "white",
            "ticks": ""
           },
           "bgcolor": "#E5ECF6",
           "radialaxis": {
            "gridcolor": "white",
            "linecolor": "white",
            "ticks": ""
           }
          },
          "scene": {
           "xaxis": {
            "backgroundcolor": "#E5ECF6",
            "gridcolor": "white",
            "gridwidth": 2,
            "linecolor": "white",
            "showbackground": true,
            "ticks": "",
            "zerolinecolor": "white"
           },
           "yaxis": {
            "backgroundcolor": "#E5ECF6",
            "gridcolor": "white",
            "gridwidth": 2,
            "linecolor": "white",
            "showbackground": true,
            "ticks": "",
            "zerolinecolor": "white"
           },
           "zaxis": {
            "backgroundcolor": "#E5ECF6",
            "gridcolor": "white",
            "gridwidth": 2,
            "linecolor": "white",
            "showbackground": true,
            "ticks": "",
            "zerolinecolor": "white"
           }
          },
          "shapedefaults": {
           "line": {
            "color": "#2a3f5f"
           }
          },
          "ternary": {
           "aaxis": {
            "gridcolor": "white",
            "linecolor": "white",
            "ticks": ""
           },
           "baxis": {
            "gridcolor": "white",
            "linecolor": "white",
            "ticks": ""
           },
           "bgcolor": "#E5ECF6",
           "caxis": {
            "gridcolor": "white",
            "linecolor": "white",
            "ticks": ""
           }
          },
          "title": {
           "x": 0.05
          },
          "xaxis": {
           "automargin": true,
           "gridcolor": "white",
           "linecolor": "white",
           "ticks": "",
           "title": {
            "standoff": 15
           },
           "zerolinecolor": "white",
           "zerolinewidth": 2
          },
          "yaxis": {
           "automargin": true,
           "gridcolor": "white",
           "linecolor": "white",
           "ticks": "",
           "title": {
            "standoff": 15
           },
           "zerolinecolor": "white",
           "zerolinewidth": 2
          }
         }
        },
        "title": {
         "text": "Heatmap Visualization with Text and Top X-Axis"
        },
        "xaxis": {
         "anchor": "y",
         "constrain": "domain",
         "domain": [
          0,
          1
         ],
         "scaleanchor": "y",
         "side": "top",
         "title": {
          "text": "X Axis"
         }
        },
        "yaxis": {
         "anchor": "x",
         "autorange": "reversed",
         "constrain": "domain",
         "domain": [
          0,
          1
         ],
         "title": {
          "text": "Y Axis"
         }
        }
       }
      }
     },
     "metadata": {},
     "output_type": "display_data"
    }
   ],
   "source": [
    "fig = px.imshow(df)\n",
    "\n",
    "\n",
    "fig.update_xaxes(side='top')\n",
    "\n",
    "fig.update_layout(\n",
    "    title='Heatmap Visualization with Text and Top X-Axis',\n",
    "    xaxis_title='X Axis',\n",
    "    yaxis_title='Y Axis'\n",
    ")\n",
    "\n",
    "fig.show()"
   ]
  },
  {
   "attachments": {},
   "cell_type": "markdown",
   "metadata": {},
   "source": [
    "### Task 6: Communicate Results\n",
    "In the markdown cell below, please give an explanation of what the visualization represents as if it were a presentation to someone who had never seen this data before!"
   ]
  },
  {
   "attachments": {},
   "cell_type": "markdown",
   "metadata": {},
   "source": [
    "**YOUR ANSWER HERE**"
   ]
  },
  {
   "cell_type": "markdown",
   "metadata": {},
   "source": [
    "The heat map above shows the distribution of values acrross the entire dataset. While this heatmap is not a good visualization for most of the data. we can see that as the years go by total costs are increasing"
   ]
  }
 ],
 "metadata": {
  "kernelspec": {
   "display_name": "Python 3",
   "language": "python",
   "name": "python3"
  },
  "language_info": {
   "codemirror_mode": {
    "name": "ipython",
    "version": 3
   },
   "file_extension": ".py",
   "mimetype": "text/x-python",
   "name": "python",
   "nbconvert_exporter": "python",
   "pygments_lexer": "ipython3",
   "version": "3.10.11"
  },
  "orig_nbformat": 4,
  "vscode": {
   "interpreter": {
    "hash": "26de051ba29f2982a8de78e945f0abaf191376122a1563185a90213a26c5da77"
   }
  }
 },
 "nbformat": 4,
 "nbformat_minor": 2
}
