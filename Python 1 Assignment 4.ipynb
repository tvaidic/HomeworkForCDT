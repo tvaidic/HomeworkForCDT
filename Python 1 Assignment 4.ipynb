{
 "cells": [
  {
   "attachments": {},
   "cell_type": "markdown",
   "metadata": {},
   "source": [
    "# Coding Temple's Data Analytics Program\n",
    "---\n",
    "## Python Basics Assignment 4\n",
    "---"
   ]
  },
  {
   "attachments": {},
   "cell_type": "markdown",
   "metadata": {},
   "source": [
    "### **Task 1: Update Shopping Cart**\n",
    "Using the shopping cart you created yesterday as a blueprint, create a shopping cart using object-oriented programming. This shopping cart should maintain all functionality that you currently have in your blueprint."
   ]
  },
  {
   "cell_type": "code",
   "execution_count": 2,
   "metadata": {},
   "outputs": [
    {
     "name": "stdout",
     "output_type": "stream",
     "text": [
      "{}\n",
      "{'stuff': 3, 'things': 4, 'objects': 5, 'doodads': 9}\n",
      "{'stuff': 3, 'things': 4, 'objects': 5, 'doodads': 9}\n",
      "{'stuff': 3, 'objects': 5, 'doodads': 9}\n",
      "Final car contents: \n",
      "{'stuff': 3, 'objects': 5, 'doodads': 9}\n"
     ]
    }
   ],
   "source": [
    "# YOUR CODE HERE\n",
    "class ShoppingCart:\n",
    "    def __init__(self):\n",
    "        self.cart = {}\n",
    "    \n",
    "    def show_cart(self):\n",
    "        print(self.cart)\n",
    "    \n",
    "    def add_to_cart(self,item, quatity):\n",
    "        self.cart[item] = self.cart.get(item, 0) + quatity\n",
    "    \n",
    "    def delete_from_cart(self,item):\n",
    "        if item in self.cart:\n",
    "            del self.cart[item]\n",
    "\n",
    "    def clear_cart(self):\n",
    "        self.cart = {}\n",
    "        print('cart cleared')\n",
    "    \n",
    "    def start_shopping(self):\n",
    "        while True:\n",
    "            ask = input('Do you want to : Show/Add/Delete/Clear or Quit')\n",
    "\n",
    "            if ask.lower() == 'show':\n",
    "                self.show_cart()\n",
    "            elif ask.lower() == 'add':\n",
    "                item = input('what would you like to add?')\n",
    "                quantity = int(input(f'what ammount of {item} would you like?'))\n",
    "                self.add_to_cart(item,quantity)\n",
    "            elif ask.lower() == 'delete':\n",
    "                item = input('what would you like to remove from cart?:   ')\n",
    "                self.delete_from_cart(item)\n",
    "            elif ask.lower() == 'clear':\n",
    "                self.clear_cart()\n",
    "            elif ask.lower() == 'quit':\n",
    "                print('Final car contents: ')\n",
    "                self.show_cart()\n",
    "                break\n",
    "            else:\n",
    "                print('please enter show, add, delete, clear, or quit')\n",
    "\n",
    "my_cart = ShoppingCart()\n",
    "my_cart.start_shopping()"
   ]
  },
  {
   "attachments": {},
   "cell_type": "markdown",
   "metadata": {},
   "source": [
    "### **Task 2: String Class**\n",
    "Write a class which has the following two methods:\n",
    "* `get_string`: Accepts a string input from the user\n",
    "* `print_string`: Prints the string all in upper-case"
   ]
  },
  {
   "cell_type": "code",
   "execution_count": 6,
   "metadata": {},
   "outputs": [
    {
     "name": "stdout",
     "output_type": "stream",
     "text": [
      "WOW!\n"
     ]
    }
   ],
   "source": [
    "# YOUR CODE HERE\n",
    "class StringPrinter:\n",
    "    def __init__ (self):\n",
    "        self.your_string = ''\n",
    "\n",
    "    def get_string(self):\n",
    "        self.your_string = input('what would you like to say? ')\n",
    "        \n",
    "    def print_string(self):\n",
    "        print(self.your_string.upper())\n",
    "your_words = StringPrinter()\n",
    "your_words.get_string()\n",
    "your_words.print_string()"
   ]
  },
  {
   "attachments": {},
   "cell_type": "markdown",
   "metadata": {},
   "source": [
    "### **Task 3: Activities**\n",
    "Create a class that depicts your favorite activity. Add in attributes that are associated with that activity in you `__init__` call. Also, create three functions that are associated with the activity.\n",
    "\n",
    "**Example:**\n",
    "If I chose football, I may have a FootballPlayer class with attributes such as:\n",
    "* `self.speed`\n",
    "* `self.strength`\n",
    "* `self.position`\n",
    "\n",
    "and methods such as:\n",
    "* `def pass_ball`\n",
    "* `def run`\n",
    "* `def faster_than_x`"
   ]
  },
  {
   "cell_type": "code",
   "execution_count": 12,
   "metadata": {},
   "outputs": [],
   "source": [
    "class Volleyball:\n",
    "    def __init__ (self, player_name, playing_position, player_num):\n",
    "        self.player_name = player_name\n",
    "        self.playing_position = playing_position\n",
    "        self.player_num = player_num\n",
    "    \n",
    "    def serve(self):\n",
    "        print(f\"{self.player_name} serve the ball over the net!\")\n",
    "    \n",
    "    def spike(self):\n",
    "        print(f\"{self.playing_position} spikes the ball down the line!!\")\n",
    "    \n",
    "    def block(self):\n",
    "        print(f\"Number {self.player_num} jumps and blocks the ball\")\n"
   ]
  },
  {
   "attachments": {},
   "cell_type": "markdown",
   "metadata": {},
   "source": [
    "### **Task 4: Test Your Class!**\n",
    "Now that you created your class, let's create an instance of your class. In the cell below, instantiate a Class Object, then test each of your class methods on that object."
   ]
  },
  {
   "cell_type": "code",
   "execution_count": 15,
   "metadata": {},
   "outputs": [
    {
     "name": "stdout",
     "output_type": "stream",
     "text": [
      "Yuji serve the ball over the net!\n",
      "Right wing spikes the ball down the line!!\n",
      "Number 7 jumps and blocks the ball\n"
     ]
    }
   ],
   "source": [
    "player_1 = Volleyball(player_name=\"Yuji\" , playing_position='Right wing', player_num=7)\n",
    "\n",
    "player_1.serve()\n",
    "player_1.spike()\n",
    "player_1.block()"
   ]
  }
 ],
 "metadata": {
  "kernelspec": {
   "display_name": "Python 3",
   "language": "python",
   "name": "python3"
  },
  "language_info": {
   "codemirror_mode": {
    "name": "ipython",
    "version": 3
   },
   "file_extension": ".py",
   "mimetype": "text/x-python",
   "name": "python",
   "nbconvert_exporter": "python",
   "pygments_lexer": "ipython3",
   "version": "3.10.11"
  },
  "orig_nbformat": 4,
  "vscode": {
   "interpreter": {
    "hash": "26de051ba29f2982a8de78e945f0abaf191376122a1563185a90213a26c5da77"
   }
  }
 },
 "nbformat": 4,
 "nbformat_minor": 2
}
