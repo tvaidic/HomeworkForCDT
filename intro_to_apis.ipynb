{
 "cells": [
  {
   "cell_type": "code",
   "execution_count": null,
   "metadata": {},
   "outputs": [],
   "source": []
  },
  {
   "attachments": {},
   "cell_type": "markdown",
   "metadata": {},
   "source": [
    "# Coding Temple's Data Analytics Program\n",
    "---\n",
    "## Intro to API's Assignment\n",
    "---\n",
    "### Problem 1:\n",
    "Check out this Pokemon API https://pokeapi.co/\n",
    "Use the requests package to connect to this API and get and store data for 5 different pokemon.\n",
    "Get the pokemons: name, atleast one ability's name, base_experience, and the URL for its sprite (an image that shows up on screen) for the 'front_shiny', attack base_state, hp base_stat, defense base_stat\n",
    "\n",
    "**BONUS POINTS IF YOU CAN POPULATE THE IMAGE!**"
   ]
  },
  {
   "cell_type": "code",
   "execution_count": 3,
   "metadata": {},
   "outputs": [
    {
     "data": {
      "text/plain": [
       "[]"
      ]
     },
     "execution_count": 3,
     "metadata": {},
     "output_type": "execute_result"
    }
   ],
   "source": [
    "import requests\n",
    "from bs4 import BeautifulSoup as bs\n",
    "from PIL import Image\n",
    "from io import BytesIO\n",
    "import pandas as pd\n",
    "\n",
    "my_team = []\n",
    "\n",
    "url = 'https://pokeapi.co/api/v2/pokemon/'\n",
    "response = requests.get(url)\n",
    "response.json()\n",
    "poke1_url = response.json()['results'][0]\n",
    "poke1_url['url']\n",
    "poke1 = requests.get('https://pokeapi.co/api/v2/pokemon/1/')\n",
    "poke1.json()\n",
    "\n",
    "# poke1_sprite = requests.get(poke1.json()['sprites']['front_shiny'])\n",
    "# image = Image.open(BytesIO(poke1_sprite.content))\n",
    "# image = image.convert('RGB')\n",
    "# output_image_path = 'output_image.jpg'\n",
    "# image.save(output_image_path)\n",
    "def pokeball():\n",
    "    value = input('what pokemon would u like to add to your team? ')\n",
    "    pokemon = requests.get(f'https://pokeapi.co/api/v2/pokemon/{value}')\n",
    "    poke_sprite = requests.get(pokemon.json()['sprites']['front_shiny'])\n",
    "    image = Image.open(BytesIO(poke_sprite.content))\n",
    "    image = image.convert('RGB')\n",
    "    output_image_path = 'output_image.jpg'\n",
    "    image.save(output_image_path)\n",
    "    poke_stats = {\n",
    "        'sprite': display(image),\n",
    "        'name': value.title(),    \n",
    "        'ability': pokemon.json()['abilities'][1]['ability']['name'],\n",
    "        'base_experience': pokemon.json()['base_experience'],\n",
    "        'hp_base_stat':pokemon.json()['stats'][0]['base_stat'],\n",
    "        'attack_base_stat': pokemon.json()['stats'][1]['base_stat'],\n",
    "        'def_base_stat': pokemon.json()['stats'][2]['base_stat']\n",
    "    }\n",
    "    my_team.append(poke_stats)\n",
    "my_team"
   ]
  },
  {
   "cell_type": "code",
   "execution_count": 23,
   "metadata": {},
   "outputs": [
    {
     "data": {
      "image/jpeg": "[encoded data removed]",
      "image/png": "[encoded data removed]",
      "text/plain": [
       "<PIL.Image.Image image mode=RGB size=96x96>"
      ]
     },
     "metadata": {},
     "output_type": "display_data"
    },
    {
     "data": {
      "image/jpeg": "[encoded data removed]",
      "image/png": "[encoded data removed]",
      "text/plain": [
       "<PIL.Image.Image image mode=RGB size=96x96>"
      ]
     },
     "metadata": {},
     "output_type": "display_data"
    },
    {
     "data": {
      "image/jpeg": "[encoded data removed]",
      "image/png": "[encoded data removed]",
      "text/plain": [
       "<PIL.Image.Image image mode=RGB size=96x96>"
      ]
     },
     "metadata": {},
     "output_type": "display_data"
    },
    {
     "data": {
      "image/jpeg": "[encoded data removed]",
      "image/png": "[encoded data removed]",
      "text/plain": [
       "<PIL.Image.Image image mode=RGB size=96x96>"
      ]
     },
     "metadata": {},
     "output_type": "display_data"
    },
    {
     "data": {
      "image/jpeg": "[encoded data removed]",
      "image/png": "[encoded data removed]",
      "text/plain": [
       "<PIL.Image.Image image mode=RGB size=96x96>"
      ]
     },
     "metadata": {},
     "output_type": "display_data"
    },
    {
     "data": {
      "text/plain": [
       "[{'sprite': None,\n",
       "  'name': 'Pikachu',\n",
       "  'ability': 'lightning-rod',\n",
       "  'base_experience': 112,\n",
       "  'hp_base_stat': 35,\n",
       "  'attack_base_stat': 55,\n",
       "  'def_base_stat': 40},\n",
       " {'sprite': None,\n",
       "  'name': 'Bulbasaur',\n",
       "  'ability': 'chlorophyll',\n",
       "  'base_experience': 64,\n",
       "  'hp_base_stat': 45,\n",
       "  'attack_base_stat': 49,\n",
       "  'def_base_stat': 49},\n",
       " {'sprite': None,\n",
       "  'name': 'Piplup',\n",
       "  'ability': 'defiant',\n",
       "  'base_experience': 63,\n",
       "  'hp_base_stat': 53,\n",
       "  'attack_base_stat': 51,\n",
       "  'def_base_stat': 53},\n",
       " {'sprite': None,\n",
       "  'name': 'Charizard',\n",
       "  'ability': 'solar-power',\n",
       "  'base_experience': 267,\n",
       "  'hp_base_stat': 78,\n",
       "  'attack_base_stat': 84,\n",
       "  'def_base_stat': 78},\n",
       " {'sprite': None,\n",
       "  'name': 'Machamp',\n",
       "  'ability': 'no-guard',\n",
       "  'base_experience': 253,\n",
       "  'hp_base_stat': 90,\n",
       "  'attack_base_stat': 130,\n",
       "  'def_base_stat': 80},\n",
       " {'sprite': None,\n",
       "  'name': 'Machoke',\n",
       "  'ability': 'no-guard',\n",
       "  'base_experience': 142,\n",
       "  'hp_base_stat': 80,\n",
       "  'attack_base_stat': 100,\n",
       "  'def_base_stat': 70},\n",
       " {'sprite': None,\n",
       "  'name': 'Charmander',\n",
       "  'ability': 'solar-power',\n",
       "  'base_experience': 62,\n",
       "  'hp_base_stat': 39,\n",
       "  'attack_base_stat': 52,\n",
       "  'def_base_stat': 43}]"
      ]
     },
     "execution_count": 23,
     "metadata": {},
     "output_type": "execute_result"
    }
   ],
   "source": [
    "pokeball()\n",
    "pokeball()\n",
    "pokeball()\n",
    "pokeball()\n",
    "pokeball()\n",
    "my_team"
   ]
  },
  {
   "attachments": {},
   "cell_type": "markdown",
   "metadata": {},
   "source": [
    "### Problem 2:\n",
    "\n",
    "I want to build the best Pokemon team I can and I need your help to do so! Using the API, build me a team of 6 pokemon who's base-stats are above 60. Return any additional information you think is needed to help understand why you chose that pokemon for the team!"
   ]
  },
  {
   "cell_type": "code",
   "execution_count": 4,
   "metadata": {},
   "outputs": [
    {
     "data": {
      "text/plain": [
       "['bulbasaur', 'ivysaur', 'venusaur', 'charmander', 'charmeleon', 'charizard']"
      ]
     },
     "execution_count": 4,
     "metadata": {},
     "output_type": "execute_result"
    }
   ],
   "source": [
    "response = requests.get('https://pokeapi.co/api/v2/pokemon?limit=100000&offset=0')\n",
    "response.json()\n",
    "poke_dict = response.json()[\"results\"]\n",
    "def champions():\n",
    "    best_team = []\n",
    "    for pokemon in range(len(poke_dict)):\n",
    "        poke_name = poke_dict[pokemon]['name']\n",
    "        stat_sheet = requests.get(poke_dict[pokemon]['url'])\n",
    "        for stat in range(len(stat_sheet.json()['stats'])):\n",
    "            if (stat_sheet.json()['stats'][stat]['base_stat'])>60:\n",
    "                if poke_name not in best_team:\n",
    "                    best_team.append(poke_name)\n",
    "        if len(best_team) == 6:\n",
    "            return best_team\n",
    "            break\n",
    "        \n",
    "                      \n",
    "\n",
    "champions()\n",
    "        \n"
   ]
  },
  {
   "cell_type": "code",
   "execution_count": 88,
   "metadata": {},
   "outputs": [
    {
     "data": {
      "text/plain": [
       "'ivysaur'"
      ]
     },
     "execution_count": 88,
     "metadata": {},
     "output_type": "execute_result"
    }
   ],
   "source": [
    "value = poke_dict[1]['url']\n",
    "value = requests.get(value)\n",
    "value.json()['stats'][1]['base_stat']\n",
    "len(value.json()['stats'])\n",
    "for x in range(len(value.json()['stats'])):\n",
    "    if value.json()['stats'][x]['base_stat']>60:\n",
    "        (value.json()['stats'][x]['base_stat'])\n",
    "\n",
    "poke_dict[1]['name']\n"
   ]
  },
  {
   "attachments": {},
   "cell_type": "markdown",
   "metadata": {},
   "source": [
    "### Problem 3:\n",
    "\n",
    "Create a function that does the following:\n",
    "* Input: pokemon_name(user_defined) -> str\n",
    "* Output: list object containing a dictionary of values from the response object.\n",
    "* Please include the type, the most current raritey level, at least one held item, and all stats"
   ]
  },
  {
   "cell_type": "code",
   "execution_count": 6,
   "metadata": {},
   "outputs": [
    {
     "name": "stdout",
     "output_type": "stream",
     "text": [
      "[{'Name': 'piplup', 'Types': ['water'], 'Rarity Level': 'N/A', 'Held Item': 'None', 'Stats': {'hp': 53, 'attack': 51, 'defense': 53, 'special-attack': 61, 'special-defense': 56, 'speed': 40}}]\n"
     ]
    }
   ],
   "source": [
    "def get_pokemon_info(pokemon_name):\n",
    "    url = f\"https://pokeapi.co/api/v2/pokemon/{pokemon_name}/\"\n",
    "    response = requests.get(url)\n",
    "\n",
    "    if response.status_code == 200:\n",
    "        pokemon_data = response.json()\n",
    "        \n",
    "        types = [type_info['type']['name'] for type_info in pokemon_data['types']]\n",
    "        \n",
    "        rarity_level = \"N/A\"\n",
    "        if pokemon_data['held_items']:\n",
    "            rarity_level = pokemon_data['held_items'][0]['rarity']\n",
    "        \n",
    "        held_item = \"None\"\n",
    "        if pokemon_data['held_items']:\n",
    "            held_item = pokemon_data['held_items'][0]['item']['name']\n",
    "        \n",
    "        stats = {stat['stat']['name']: stat['base_stat'] for stat in pokemon_data['stats']}\n",
    "\n",
    "        pokemon_info = {\n",
    "            \"Name\": pokemon_data['name'],\n",
    "            \"Types\": types,\n",
    "            \"Rarity Level\": rarity_level,\n",
    "            \"Held Item\": held_item,\n",
    "            \"Stats\": stats\n",
    "        }\n",
    "        \n",
    "        return [pokemon_info]\n",
    "    else:\n",
    "        print(f\"Failed to fetch data for {pokemon_name}.\")\n",
    "        return []\n",
    "\n",
    "pokemon_name = input(\"Enter the name of a Pokemon: \")\n",
    "\n",
    "pokemon_info_list = get_pokemon_info(pokemon_name)\n",
    "\n",
    "if pokemon_info_list:\n",
    "    print(pokemon_info_list)\n"
   ]
  },
  {
   "cell_type": "code",
   "execution_count": null,
   "metadata": {},
   "outputs": [],
   "source": [
    "response.json()"
   ]
  },
  {
   "cell_type": "code",
   "execution_count": 132,
   "metadata": {},
   "outputs": [
    {
     "data": {
      "text/plain": [
       "[]"
      ]
     },
     "execution_count": 132,
     "metadata": {},
     "output_type": "execute_result"
    }
   ],
   "source": [
    "response = requests.get('https://pokeapi.co/api/v2/pokemon?limit=100000&offset=0')\n",
    "test = requests.get(response.json()['results'][100]['url']).json()['held_items']\n",
    "test"
   ]
  },
  {
   "cell_type": "markdown",
   "metadata": {},
   "source": []
  }
 ],
 "metadata": {
  "kernelspec": {
   "display_name": "Python 3",
   "language": "python",
   "name": "python3"
  },
  "language_info": {
   "codemirror_mode": {
    "name": "ipython",
    "version": 3
   },
   "file_extension": ".py",
   "mimetype": "text/x-python",
   "name": "python",
   "nbconvert_exporter": "python",
   "pygments_lexer": "ipython3",
   "version": "3.10.11"
  },
  "orig_nbformat": 4,
  "vscode": {
   "interpreter": {
    "hash": "26de051ba29f2982a8de78e945f0abaf191376122a1563185a90213a26c5da77"
   }
  }
 },
 "nbformat": 4,
 "nbformat_minor": 2
}
